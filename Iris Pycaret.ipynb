{
 "cells": [
  {
   "cell_type": "code",
   "execution_count": 1,
   "metadata": {},
   "outputs": [],
   "source": [
    "import pandas as pd"
   ]
  },
  {
   "cell_type": "code",
   "execution_count": 2,
   "metadata": {},
   "outputs": [],
   "source": [
    "from pycaret.clustering import *"
   ]
  },
  {
   "cell_type": "code",
   "execution_count": 3,
   "metadata": {},
   "outputs": [
    {
     "data": {
      "text/html": [
       "<div>\n",
       "<style scoped>\n",
       "    .dataframe tbody tr th:only-of-type {\n",
       "        vertical-align: middle;\n",
       "    }\n",
       "\n",
       "    .dataframe tbody tr th {\n",
       "        vertical-align: top;\n",
       "    }\n",
       "\n",
       "    .dataframe thead th {\n",
       "        text-align: right;\n",
       "    }\n",
       "</style>\n",
       "<table border=\"1\" class=\"dataframe\">\n",
       "  <thead>\n",
       "    <tr style=\"text-align: right;\">\n",
       "      <th></th>\n",
       "      <th>Id</th>\n",
       "      <th>SepalLengthCm</th>\n",
       "      <th>SepalWidthCm</th>\n",
       "      <th>PetalLengthCm</th>\n",
       "      <th>PetalWidthCm</th>\n",
       "      <th>Species</th>\n",
       "    </tr>\n",
       "  </thead>\n",
       "  <tbody>\n",
       "    <tr>\n",
       "      <th>0</th>\n",
       "      <td>1</td>\n",
       "      <td>5.1</td>\n",
       "      <td>3.5</td>\n",
       "      <td>1.4</td>\n",
       "      <td>0.2</td>\n",
       "      <td>Iris-setosa</td>\n",
       "    </tr>\n",
       "    <tr>\n",
       "      <th>1</th>\n",
       "      <td>2</td>\n",
       "      <td>4.9</td>\n",
       "      <td>3.0</td>\n",
       "      <td>1.4</td>\n",
       "      <td>0.2</td>\n",
       "      <td>Iris-setosa</td>\n",
       "    </tr>\n",
       "    <tr>\n",
       "      <th>2</th>\n",
       "      <td>3</td>\n",
       "      <td>4.7</td>\n",
       "      <td>3.2</td>\n",
       "      <td>1.3</td>\n",
       "      <td>0.2</td>\n",
       "      <td>Iris-setosa</td>\n",
       "    </tr>\n",
       "    <tr>\n",
       "      <th>3</th>\n",
       "      <td>4</td>\n",
       "      <td>4.6</td>\n",
       "      <td>3.1</td>\n",
       "      <td>1.5</td>\n",
       "      <td>0.2</td>\n",
       "      <td>Iris-setosa</td>\n",
       "    </tr>\n",
       "    <tr>\n",
       "      <th>4</th>\n",
       "      <td>5</td>\n",
       "      <td>5.0</td>\n",
       "      <td>3.6</td>\n",
       "      <td>1.4</td>\n",
       "      <td>0.2</td>\n",
       "      <td>Iris-setosa</td>\n",
       "    </tr>\n",
       "    <tr>\n",
       "      <th>...</th>\n",
       "      <td>...</td>\n",
       "      <td>...</td>\n",
       "      <td>...</td>\n",
       "      <td>...</td>\n",
       "      <td>...</td>\n",
       "      <td>...</td>\n",
       "    </tr>\n",
       "    <tr>\n",
       "      <th>145</th>\n",
       "      <td>146</td>\n",
       "      <td>6.7</td>\n",
       "      <td>3.0</td>\n",
       "      <td>5.2</td>\n",
       "      <td>2.3</td>\n",
       "      <td>Iris-virginica</td>\n",
       "    </tr>\n",
       "    <tr>\n",
       "      <th>146</th>\n",
       "      <td>147</td>\n",
       "      <td>6.3</td>\n",
       "      <td>2.5</td>\n",
       "      <td>5.0</td>\n",
       "      <td>1.9</td>\n",
       "      <td>Iris-virginica</td>\n",
       "    </tr>\n",
       "    <tr>\n",
       "      <th>147</th>\n",
       "      <td>148</td>\n",
       "      <td>6.5</td>\n",
       "      <td>3.0</td>\n",
       "      <td>5.2</td>\n",
       "      <td>2.0</td>\n",
       "      <td>Iris-virginica</td>\n",
       "    </tr>\n",
       "    <tr>\n",
       "      <th>148</th>\n",
       "      <td>149</td>\n",
       "      <td>6.2</td>\n",
       "      <td>3.4</td>\n",
       "      <td>5.4</td>\n",
       "      <td>2.3</td>\n",
       "      <td>Iris-virginica</td>\n",
       "    </tr>\n",
       "    <tr>\n",
       "      <th>149</th>\n",
       "      <td>150</td>\n",
       "      <td>5.9</td>\n",
       "      <td>3.0</td>\n",
       "      <td>5.1</td>\n",
       "      <td>1.8</td>\n",
       "      <td>Iris-virginica</td>\n",
       "    </tr>\n",
       "  </tbody>\n",
       "</table>\n",
       "<p>150 rows × 6 columns</p>\n",
       "</div>"
      ],
      "text/plain": [
       "      Id  SepalLengthCm  SepalWidthCm  PetalLengthCm  PetalWidthCm  \\\n",
       "0      1            5.1           3.5            1.4           0.2   \n",
       "1      2            4.9           3.0            1.4           0.2   \n",
       "2      3            4.7           3.2            1.3           0.2   \n",
       "3      4            4.6           3.1            1.5           0.2   \n",
       "4      5            5.0           3.6            1.4           0.2   \n",
       "..   ...            ...           ...            ...           ...   \n",
       "145  146            6.7           3.0            5.2           2.3   \n",
       "146  147            6.3           2.5            5.0           1.9   \n",
       "147  148            6.5           3.0            5.2           2.0   \n",
       "148  149            6.2           3.4            5.4           2.3   \n",
       "149  150            5.9           3.0            5.1           1.8   \n",
       "\n",
       "            Species  \n",
       "0       Iris-setosa  \n",
       "1       Iris-setosa  \n",
       "2       Iris-setosa  \n",
       "3       Iris-setosa  \n",
       "4       Iris-setosa  \n",
       "..              ...  \n",
       "145  Iris-virginica  \n",
       "146  Iris-virginica  \n",
       "147  Iris-virginica  \n",
       "148  Iris-virginica  \n",
       "149  Iris-virginica  \n",
       "\n",
       "[150 rows x 6 columns]"
      ]
     },
     "execution_count": 3,
     "metadata": {},
     "output_type": "execute_result"
    }
   ],
   "source": [
    "iris_df = pd.read_csv(\"https://raw.githubusercontent.com/venky14/Machine-Learning-with-Iris-Dataset/master/Iris.csv\")\n",
    "iris_df"
   ]
  },
  {
   "cell_type": "code",
   "execution_count": 45,
   "metadata": {},
   "outputs": [
    {
     "name": "stdout",
     "output_type": "stream",
     "text": [
      "\n",
      "Setup Succesfully Completed!\n"
     ]
    },
    {
     "data": {
      "text/html": [
       "<style  type=\"text/css\" >\n",
       "</style><table id=\"T_d1eab4f4_8244_11ea_be6a_a4bb6d1db876\" ><thead>    <tr>        <th class=\"blank level0\" ></th>        <th class=\"col_heading level0 col0\" >Description</th>        <th class=\"col_heading level0 col1\" >Value</th>    </tr></thead><tbody>\n",
       "                <tr>\n",
       "                        <th id=\"T_d1eab4f4_8244_11ea_be6a_a4bb6d1db876level0_row0\" class=\"row_heading level0 row0\" >0</th>\n",
       "                        <td id=\"T_d1eab4f4_8244_11ea_be6a_a4bb6d1db876row0_col0\" class=\"data row0 col0\" >session_id </td>\n",
       "                        <td id=\"T_d1eab4f4_8244_11ea_be6a_a4bb6d1db876row0_col1\" class=\"data row0 col1\" >4555</td>\n",
       "            </tr>\n",
       "            <tr>\n",
       "                        <th id=\"T_d1eab4f4_8244_11ea_be6a_a4bb6d1db876level0_row1\" class=\"row_heading level0 row1\" >1</th>\n",
       "                        <td id=\"T_d1eab4f4_8244_11ea_be6a_a4bb6d1db876row1_col0\" class=\"data row1 col0\" >Original Data </td>\n",
       "                        <td id=\"T_d1eab4f4_8244_11ea_be6a_a4bb6d1db876row1_col1\" class=\"data row1 col1\" >(150, 6)</td>\n",
       "            </tr>\n",
       "            <tr>\n",
       "                        <th id=\"T_d1eab4f4_8244_11ea_be6a_a4bb6d1db876level0_row2\" class=\"row_heading level0 row2\" >2</th>\n",
       "                        <td id=\"T_d1eab4f4_8244_11ea_be6a_a4bb6d1db876row2_col0\" class=\"data row2 col0\" >Missing Values </td>\n",
       "                        <td id=\"T_d1eab4f4_8244_11ea_be6a_a4bb6d1db876row2_col1\" class=\"data row2 col1\" >False</td>\n",
       "            </tr>\n",
       "            <tr>\n",
       "                        <th id=\"T_d1eab4f4_8244_11ea_be6a_a4bb6d1db876level0_row3\" class=\"row_heading level0 row3\" >3</th>\n",
       "                        <td id=\"T_d1eab4f4_8244_11ea_be6a_a4bb6d1db876row3_col0\" class=\"data row3 col0\" >Numeric Features </td>\n",
       "                        <td id=\"T_d1eab4f4_8244_11ea_be6a_a4bb6d1db876row3_col1\" class=\"data row3 col1\" >5</td>\n",
       "            </tr>\n",
       "            <tr>\n",
       "                        <th id=\"T_d1eab4f4_8244_11ea_be6a_a4bb6d1db876level0_row4\" class=\"row_heading level0 row4\" >4</th>\n",
       "                        <td id=\"T_d1eab4f4_8244_11ea_be6a_a4bb6d1db876row4_col0\" class=\"data row4 col0\" >Categorical Features </td>\n",
       "                        <td id=\"T_d1eab4f4_8244_11ea_be6a_a4bb6d1db876row4_col1\" class=\"data row4 col1\" >1</td>\n",
       "            </tr>\n",
       "            <tr>\n",
       "                        <th id=\"T_d1eab4f4_8244_11ea_be6a_a4bb6d1db876level0_row5\" class=\"row_heading level0 row5\" >5</th>\n",
       "                        <td id=\"T_d1eab4f4_8244_11ea_be6a_a4bb6d1db876row5_col0\" class=\"data row5 col0\" >Ordinal Features </td>\n",
       "                        <td id=\"T_d1eab4f4_8244_11ea_be6a_a4bb6d1db876row5_col1\" class=\"data row5 col1\" >False</td>\n",
       "            </tr>\n",
       "            <tr>\n",
       "                        <th id=\"T_d1eab4f4_8244_11ea_be6a_a4bb6d1db876level0_row6\" class=\"row_heading level0 row6\" >6</th>\n",
       "                        <td id=\"T_d1eab4f4_8244_11ea_be6a_a4bb6d1db876row6_col0\" class=\"data row6 col0\" >High Cardinality Features </td>\n",
       "                        <td id=\"T_d1eab4f4_8244_11ea_be6a_a4bb6d1db876row6_col1\" class=\"data row6 col1\" >False</td>\n",
       "            </tr>\n",
       "            <tr>\n",
       "                        <th id=\"T_d1eab4f4_8244_11ea_be6a_a4bb6d1db876level0_row7\" class=\"row_heading level0 row7\" >7</th>\n",
       "                        <td id=\"T_d1eab4f4_8244_11ea_be6a_a4bb6d1db876row7_col0\" class=\"data row7 col0\" >Transformed Data </td>\n",
       "                        <td id=\"T_d1eab4f4_8244_11ea_be6a_a4bb6d1db876row7_col1\" class=\"data row7 col1\" >(150, 4)</td>\n",
       "            </tr>\n",
       "            <tr>\n",
       "                        <th id=\"T_d1eab4f4_8244_11ea_be6a_a4bb6d1db876level0_row8\" class=\"row_heading level0 row8\" >8</th>\n",
       "                        <td id=\"T_d1eab4f4_8244_11ea_be6a_a4bb6d1db876row8_col0\" class=\"data row8 col0\" >Numeric Imputer </td>\n",
       "                        <td id=\"T_d1eab4f4_8244_11ea_be6a_a4bb6d1db876row8_col1\" class=\"data row8 col1\" >mean</td>\n",
       "            </tr>\n",
       "            <tr>\n",
       "                        <th id=\"T_d1eab4f4_8244_11ea_be6a_a4bb6d1db876level0_row9\" class=\"row_heading level0 row9\" >9</th>\n",
       "                        <td id=\"T_d1eab4f4_8244_11ea_be6a_a4bb6d1db876row9_col0\" class=\"data row9 col0\" >Categorical Imputer </td>\n",
       "                        <td id=\"T_d1eab4f4_8244_11ea_be6a_a4bb6d1db876row9_col1\" class=\"data row9 col1\" >constant</td>\n",
       "            </tr>\n",
       "            <tr>\n",
       "                        <th id=\"T_d1eab4f4_8244_11ea_be6a_a4bb6d1db876level0_row10\" class=\"row_heading level0 row10\" >10</th>\n",
       "                        <td id=\"T_d1eab4f4_8244_11ea_be6a_a4bb6d1db876row10_col0\" class=\"data row10 col0\" >Normalize </td>\n",
       "                        <td id=\"T_d1eab4f4_8244_11ea_be6a_a4bb6d1db876row10_col1\" class=\"data row10 col1\" >False</td>\n",
       "            </tr>\n",
       "            <tr>\n",
       "                        <th id=\"T_d1eab4f4_8244_11ea_be6a_a4bb6d1db876level0_row11\" class=\"row_heading level0 row11\" >11</th>\n",
       "                        <td id=\"T_d1eab4f4_8244_11ea_be6a_a4bb6d1db876row11_col0\" class=\"data row11 col0\" >Normalize Method </td>\n",
       "                        <td id=\"T_d1eab4f4_8244_11ea_be6a_a4bb6d1db876row11_col1\" class=\"data row11 col1\" >None</td>\n",
       "            </tr>\n",
       "            <tr>\n",
       "                        <th id=\"T_d1eab4f4_8244_11ea_be6a_a4bb6d1db876level0_row12\" class=\"row_heading level0 row12\" >12</th>\n",
       "                        <td id=\"T_d1eab4f4_8244_11ea_be6a_a4bb6d1db876row12_col0\" class=\"data row12 col0\" >Transformation </td>\n",
       "                        <td id=\"T_d1eab4f4_8244_11ea_be6a_a4bb6d1db876row12_col1\" class=\"data row12 col1\" >False</td>\n",
       "            </tr>\n",
       "            <tr>\n",
       "                        <th id=\"T_d1eab4f4_8244_11ea_be6a_a4bb6d1db876level0_row13\" class=\"row_heading level0 row13\" >13</th>\n",
       "                        <td id=\"T_d1eab4f4_8244_11ea_be6a_a4bb6d1db876row13_col0\" class=\"data row13 col0\" >Transformation Method </td>\n",
       "                        <td id=\"T_d1eab4f4_8244_11ea_be6a_a4bb6d1db876row13_col1\" class=\"data row13 col1\" >None</td>\n",
       "            </tr>\n",
       "            <tr>\n",
       "                        <th id=\"T_d1eab4f4_8244_11ea_be6a_a4bb6d1db876level0_row14\" class=\"row_heading level0 row14\" >14</th>\n",
       "                        <td id=\"T_d1eab4f4_8244_11ea_be6a_a4bb6d1db876row14_col0\" class=\"data row14 col0\" >PCA </td>\n",
       "                        <td id=\"T_d1eab4f4_8244_11ea_be6a_a4bb6d1db876row14_col1\" class=\"data row14 col1\" >False</td>\n",
       "            </tr>\n",
       "            <tr>\n",
       "                        <th id=\"T_d1eab4f4_8244_11ea_be6a_a4bb6d1db876level0_row15\" class=\"row_heading level0 row15\" >15</th>\n",
       "                        <td id=\"T_d1eab4f4_8244_11ea_be6a_a4bb6d1db876row15_col0\" class=\"data row15 col0\" >PCA Method </td>\n",
       "                        <td id=\"T_d1eab4f4_8244_11ea_be6a_a4bb6d1db876row15_col1\" class=\"data row15 col1\" >None</td>\n",
       "            </tr>\n",
       "            <tr>\n",
       "                        <th id=\"T_d1eab4f4_8244_11ea_be6a_a4bb6d1db876level0_row16\" class=\"row_heading level0 row16\" >16</th>\n",
       "                        <td id=\"T_d1eab4f4_8244_11ea_be6a_a4bb6d1db876row16_col0\" class=\"data row16 col0\" >PCA components </td>\n",
       "                        <td id=\"T_d1eab4f4_8244_11ea_be6a_a4bb6d1db876row16_col1\" class=\"data row16 col1\" >None</td>\n",
       "            </tr>\n",
       "            <tr>\n",
       "                        <th id=\"T_d1eab4f4_8244_11ea_be6a_a4bb6d1db876level0_row17\" class=\"row_heading level0 row17\" >17</th>\n",
       "                        <td id=\"T_d1eab4f4_8244_11ea_be6a_a4bb6d1db876row17_col0\" class=\"data row17 col0\" >Ignore Low Variance </td>\n",
       "                        <td id=\"T_d1eab4f4_8244_11ea_be6a_a4bb6d1db876row17_col1\" class=\"data row17 col1\" >False</td>\n",
       "            </tr>\n",
       "            <tr>\n",
       "                        <th id=\"T_d1eab4f4_8244_11ea_be6a_a4bb6d1db876level0_row18\" class=\"row_heading level0 row18\" >18</th>\n",
       "                        <td id=\"T_d1eab4f4_8244_11ea_be6a_a4bb6d1db876row18_col0\" class=\"data row18 col0\" >Combine Rare Levels </td>\n",
       "                        <td id=\"T_d1eab4f4_8244_11ea_be6a_a4bb6d1db876row18_col1\" class=\"data row18 col1\" >False</td>\n",
       "            </tr>\n",
       "            <tr>\n",
       "                        <th id=\"T_d1eab4f4_8244_11ea_be6a_a4bb6d1db876level0_row19\" class=\"row_heading level0 row19\" >19</th>\n",
       "                        <td id=\"T_d1eab4f4_8244_11ea_be6a_a4bb6d1db876row19_col0\" class=\"data row19 col0\" >Rare Level Threshold </td>\n",
       "                        <td id=\"T_d1eab4f4_8244_11ea_be6a_a4bb6d1db876row19_col1\" class=\"data row19 col1\" >None</td>\n",
       "            </tr>\n",
       "            <tr>\n",
       "                        <th id=\"T_d1eab4f4_8244_11ea_be6a_a4bb6d1db876level0_row20\" class=\"row_heading level0 row20\" >20</th>\n",
       "                        <td id=\"T_d1eab4f4_8244_11ea_be6a_a4bb6d1db876row20_col0\" class=\"data row20 col0\" >Numeric Binning </td>\n",
       "                        <td id=\"T_d1eab4f4_8244_11ea_be6a_a4bb6d1db876row20_col1\" class=\"data row20 col1\" >False</td>\n",
       "            </tr>\n",
       "            <tr>\n",
       "                        <th id=\"T_d1eab4f4_8244_11ea_be6a_a4bb6d1db876level0_row21\" class=\"row_heading level0 row21\" >21</th>\n",
       "                        <td id=\"T_d1eab4f4_8244_11ea_be6a_a4bb6d1db876row21_col0\" class=\"data row21 col0\" >Remove Multicollinearity </td>\n",
       "                        <td id=\"T_d1eab4f4_8244_11ea_be6a_a4bb6d1db876row21_col1\" class=\"data row21 col1\" >False</td>\n",
       "            </tr>\n",
       "            <tr>\n",
       "                        <th id=\"T_d1eab4f4_8244_11ea_be6a_a4bb6d1db876level0_row22\" class=\"row_heading level0 row22\" >22</th>\n",
       "                        <td id=\"T_d1eab4f4_8244_11ea_be6a_a4bb6d1db876row22_col0\" class=\"data row22 col0\" >Multicollinearity Threshold </td>\n",
       "                        <td id=\"T_d1eab4f4_8244_11ea_be6a_a4bb6d1db876row22_col1\" class=\"data row22 col1\" >None</td>\n",
       "            </tr>\n",
       "            <tr>\n",
       "                        <th id=\"T_d1eab4f4_8244_11ea_be6a_a4bb6d1db876level0_row23\" class=\"row_heading level0 row23\" >23</th>\n",
       "                        <td id=\"T_d1eab4f4_8244_11ea_be6a_a4bb6d1db876row23_col0\" class=\"data row23 col0\" >Group Features </td>\n",
       "                        <td id=\"T_d1eab4f4_8244_11ea_be6a_a4bb6d1db876row23_col1\" class=\"data row23 col1\" >False</td>\n",
       "            </tr>\n",
       "    </tbody></table>"
      ],
      "text/plain": [
       "<pandas.io.formats.style.Styler at 0x238d46eb0c8>"
      ]
     },
     "metadata": {},
     "output_type": "display_data"
    }
   ],
   "source": [
    "iris_setup = setup(iris_df,ignore_features=['Species'])"
   ]
  },
  {
   "cell_type": "code",
   "execution_count": 46,
   "metadata": {},
   "outputs": [],
   "source": [
    "kmeans = create_model(\"kmeans\")"
   ]
  },
  {
   "cell_type": "code",
   "execution_count": 47,
   "metadata": {},
   "outputs": [
    {
     "data": {
      "text/plain": [
       "KMeans(algorithm='auto', copy_x=True, init='k-means++', max_iter=300,\n",
       "       n_clusters=4, n_init=10, n_jobs=None, precompute_distances='auto',\n",
       "       random_state=4555, tol=0.0001, verbose=0)"
      ]
     },
     "execution_count": 47,
     "metadata": {},
     "output_type": "execute_result"
    }
   ],
   "source": [
    "kmeans"
   ]
  },
  {
   "cell_type": "code",
   "execution_count": 48,
   "metadata": {},
   "outputs": [],
   "source": [
    "kmeans_results = assign_model(kmeans)"
   ]
  },
  {
   "cell_type": "code",
   "execution_count": 49,
   "metadata": {},
   "outputs": [
    {
     "data": {
      "text/html": [
       "<div>\n",
       "<style scoped>\n",
       "    .dataframe tbody tr th:only-of-type {\n",
       "        vertical-align: middle;\n",
       "    }\n",
       "\n",
       "    .dataframe tbody tr th {\n",
       "        vertical-align: top;\n",
       "    }\n",
       "\n",
       "    .dataframe thead th {\n",
       "        text-align: right;\n",
       "    }\n",
       "</style>\n",
       "<table border=\"1\" class=\"dataframe\">\n",
       "  <thead>\n",
       "    <tr style=\"text-align: right;\">\n",
       "      <th></th>\n",
       "      <th>Id</th>\n",
       "      <th>SepalLengthCm</th>\n",
       "      <th>SepalWidthCm</th>\n",
       "      <th>PetalLengthCm</th>\n",
       "      <th>PetalWidthCm</th>\n",
       "      <th>Species</th>\n",
       "      <th>Cluster</th>\n",
       "    </tr>\n",
       "  </thead>\n",
       "  <tbody>\n",
       "    <tr>\n",
       "      <th>0</th>\n",
       "      <td>1</td>\n",
       "      <td>5.1</td>\n",
       "      <td>3.5</td>\n",
       "      <td>1.4</td>\n",
       "      <td>0.2</td>\n",
       "      <td>Iris-setosa</td>\n",
       "      <td>Cluster 0</td>\n",
       "    </tr>\n",
       "    <tr>\n",
       "      <th>1</th>\n",
       "      <td>2</td>\n",
       "      <td>4.9</td>\n",
       "      <td>3.0</td>\n",
       "      <td>1.4</td>\n",
       "      <td>0.2</td>\n",
       "      <td>Iris-setosa</td>\n",
       "      <td>Cluster 0</td>\n",
       "    </tr>\n",
       "    <tr>\n",
       "      <th>2</th>\n",
       "      <td>3</td>\n",
       "      <td>4.7</td>\n",
       "      <td>3.2</td>\n",
       "      <td>1.3</td>\n",
       "      <td>0.2</td>\n",
       "      <td>Iris-setosa</td>\n",
       "      <td>Cluster 0</td>\n",
       "    </tr>\n",
       "    <tr>\n",
       "      <th>3</th>\n",
       "      <td>4</td>\n",
       "      <td>4.6</td>\n",
       "      <td>3.1</td>\n",
       "      <td>1.5</td>\n",
       "      <td>0.2</td>\n",
       "      <td>Iris-setosa</td>\n",
       "      <td>Cluster 0</td>\n",
       "    </tr>\n",
       "    <tr>\n",
       "      <th>4</th>\n",
       "      <td>5</td>\n",
       "      <td>5.0</td>\n",
       "      <td>3.6</td>\n",
       "      <td>1.4</td>\n",
       "      <td>0.2</td>\n",
       "      <td>Iris-setosa</td>\n",
       "      <td>Cluster 0</td>\n",
       "    </tr>\n",
       "  </tbody>\n",
       "</table>\n",
       "</div>"
      ],
      "text/plain": [
       "   Id  SepalLengthCm  SepalWidthCm  PetalLengthCm  PetalWidthCm      Species  \\\n",
       "0   1            5.1           3.5            1.4           0.2  Iris-setosa   \n",
       "1   2            4.9           3.0            1.4           0.2  Iris-setosa   \n",
       "2   3            4.7           3.2            1.3           0.2  Iris-setosa   \n",
       "3   4            4.6           3.1            1.5           0.2  Iris-setosa   \n",
       "4   5            5.0           3.6            1.4           0.2  Iris-setosa   \n",
       "\n",
       "     Cluster  \n",
       "0  Cluster 0  \n",
       "1  Cluster 0  \n",
       "2  Cluster 0  \n",
       "3  Cluster 0  \n",
       "4  Cluster 0  "
      ]
     },
     "execution_count": 49,
     "metadata": {},
     "output_type": "execute_result"
    }
   ],
   "source": [
    "kmeans_results.head(5)"
   ]
  },
  {
   "cell_type": "code",
   "execution_count": 50,
   "metadata": {},
   "outputs": [
    {
     "data": {
      "text/html": [
       "        <script type=\"text/javascript\">\n",
       "        window.PlotlyConfig = {MathJaxConfig: 'local'};\n",
       "        if (window.MathJax) {MathJax.Hub.Config({SVG: {font: \"STIX-Web\"}});}\n",
       "        if (typeof require !== 'undefined') {\n",
       "        require.undef(\"plotly\");\n",
       "        requirejs.config({\n",
       "            paths: {\n",
       "                'plotly': ['https://cdn.plot.ly/plotly-latest.min']\n",
       "            }\n",
       "        });\n",
       "        require(['plotly'], function(Plotly) {\n",
       "            window._Plotly = Plotly;\n",
       "        });\n",
       "        }\n",
       "        </script>\n",
       "        "
      ]
     },
     "metadata": {},
     "output_type": "display_data"
    },
    {
     "data": {
      "application/vnd.plotly.v1+json": {
       "config": {
        "plotlyServerURL": "https://plot.ly"
       },
       "data": [
        {
         "customdata": [
          [
           1
          ],
          [
           2
          ],
          [
           3
          ],
          [
           4
          ],
          [
           5
          ],
          [
           6
          ],
          [
           7
          ],
          [
           8
          ],
          [
           9
          ],
          [
           10
          ],
          [
           11
          ],
          [
           12
          ],
          [
           13
          ],
          [
           14
          ],
          [
           15
          ],
          [
           16
          ],
          [
           17
          ],
          [
           18
          ],
          [
           19
          ],
          [
           20
          ],
          [
           21
          ],
          [
           22
          ],
          [
           23
          ],
          [
           24
          ],
          [
           25
          ],
          [
           26
          ],
          [
           27
          ],
          [
           28
          ],
          [
           29
          ],
          [
           30
          ],
          [
           31
          ],
          [
           32
          ],
          [
           33
          ],
          [
           34
          ],
          [
           35
          ],
          [
           36
          ],
          [
           37
          ],
          [
           38
          ],
          [
           39
          ],
          [
           40
          ],
          [
           41
          ],
          [
           42
          ],
          [
           43
          ],
          [
           44
          ],
          [
           45
          ],
          [
           46
          ],
          [
           47
          ],
          [
           48
          ],
          [
           49
          ],
          [
           50
          ]
         ],
         "hoverlabel": {
          "namelength": 0
         },
         "hovertemplate": "Cluster=Cluster 0<br>0=%{x}<br>1=%{y}<br>2=%{z}<br>Feature=%{customdata[0]}",
         "legendgroup": "Cluster=Cluster 0",
         "marker": {
          "color": "#636efa",
          "opacity": 0.7,
          "symbol": "circle"
         },
         "mode": "markers",
         "name": "Cluster=Cluster 0",
         "scene": "scene",
         "showlegend": true,
         "type": "scatter3d",
         "x": [
          -55.13587951660156,
          -66.4871826171875,
          -74.19059753417969,
          -83.45368957519531,
          -23.31688690185547,
          -66.31755828857422,
          -162.90232849121094,
          -154.43408203125,
          -74.46435546875,
          -43.949581146240234,
          -86.39512634277344,
          -83.76258850097656,
          -16.048669815063477,
          125.9389877319336,
          41.754722595214844,
          -115.27155303955078,
          -89.6360092163086,
          -124.39216613769531,
          -104.70913696289062,
          -1.9108794927597046,
          -52.71687698364258,
          161.75917053222656,
          -11.793349266052246,
          -44.92676544189453,
          -8.414795875549316,
          -112.03668212890625,
          -52.02297592163086,
          -42.657867431640625,
          12.162053108215332,
          -62.57939147949219,
          -51.80580520629883,
          -71.43359375,
          -121.15707397460938,
          -19.29551124572754,
          -30.310684204101562,
          -42.73250198364258,
          -104.54845428466797,
          112.3383560180664,
          -88.24803924560547,
          -130.66905212402344,
          16.36002540588379,
          -121.26566314697266,
          -158.73681640625,
          -106.3248519897461,
          -108.35291290283203,
          -142.73538208007812,
          -45.71073532104492,
          -97.44404602050781,
          -90.56745910644531,
          7.533542633056641
         ],
         "y": [
          -96.28601837158203,
          -56.108089447021484,
          -86.71795654296875,
          -100.09178924560547,
          -54.29439163208008,
          -24.927104949951172,
          -47.8995475769043,
          -10.063255310058594,
          -30.648239135742188,
          -53.75947952270508,
          -11.140121459960938,
          -122.0917739868164,
          -137.2952880859375,
          -81.98075103759766,
          -79.41643524169922,
          3.221649169921875,
          -83.06977844238281,
          -56.28718566894531,
          -106.27092742919922,
          -140.030029296875,
          -126.09200286865234,
          -8.722846984863281,
          -88.36088562011719,
          188.56419372558594,
          -102.15045166015625,
          -60.428340911865234,
          -91.11929321289062,
          -144.3723602294922,
          148.66427612304688,
          -87.59609985351562,
          -66.48118591308594,
          -49.47325134277344,
          -25.819414138793945,
          -86.92454528808594,
          -100.71304321289062,
          -105.13117218017578,
          -13.796690940856934,
          110.21776580810547,
          -88.2396469116211,
          -97.3336410522461,
          -106.4678955078125,
          -24.8662052154541,
          -13.45855712890625,
          16.276721954345703,
          -74.44841766357422,
          18.47672462463379,
          -139.51612854003906,
          -124.88272094726562,
          -58.18653106689453,
          -120.77863311767578
         ],
         "z": [
          59.76161193847656,
          66.36117553710938,
          96.87150573730469,
          -99.17357635498047,
          26.064603805541992,
          37.35428237915039,
          38.3133430480957,
          8.89085578918457,
          -74.82592010498047,
          -36.870033264160156,
          72.0148696899414,
          13.528980255126953,
          -94.1645278930664,
          12.380221366882324,
          112.50865173339844,
          -62.68943405151367,
          30.840639114379883,
          9.160120964050293,
          -56.27801513671875,
          55.09157180786133,
          -70.28166198730469,
          -6.2666144371032715,
          57.43728256225586,
          39.74024200439453,
          5.813053607940674,
          -85.97846984863281,
          17.23504638671875,
          9.562889099121094,
          -75.02827453613281,
          -60.0032958984375,
          -96.01130676269531,
          2.4530375003814697,
          42.433799743652344,
          -64.86942291259766,
          -117.38433074951172,
          -25.65032386779785,
          -5.874731063842773,
          -44.896366119384766,
          -13.088862419128418,
          28.075641632080078,
          -93.79121398925781,
          98.8933334350586,
          75.42782592773438,
          23.71731185913086,
          67.98863220214844,
          47.912025451660156,
          69.72587585449219,
          64.71409606933594,
          -48.70787048339844,
          -44.65314865112305
         ]
        },
        {
         "customdata": [
          [
           51
          ],
          [
           52
          ],
          [
           53
          ],
          [
           54
          ],
          [
           55
          ],
          [
           56
          ],
          [
           57
          ],
          [
           58
          ],
          [
           59
          ],
          [
           60
          ],
          [
           61
          ],
          [
           62
          ],
          [
           63
          ],
          [
           64
          ],
          [
           65
          ],
          [
           66
          ],
          [
           67
          ],
          [
           68
          ],
          [
           69
          ],
          [
           70
          ],
          [
           71
          ],
          [
           72
          ],
          [
           73
          ],
          [
           74
          ],
          [
           75
          ],
          [
           76
          ],
          [
           77
          ],
          [
           78
          ],
          [
           79
          ],
          [
           80
          ],
          [
           81
          ],
          [
           82
          ],
          [
           83
          ],
          [
           84
          ],
          [
           85
          ],
          [
           86
          ],
          [
           87
          ],
          [
           88
          ],
          [
           89
          ],
          [
           90
          ]
         ],
         "hoverlabel": {
          "namelength": 0
         },
         "hovertemplate": "Cluster=Cluster 1<br>0=%{x}<br>1=%{y}<br>2=%{z}<br>Feature=%{customdata[0]}",
         "legendgroup": "Cluster=Cluster 1",
         "marker": {
          "color": "#EF553B",
          "opacity": 0.7,
          "symbol": "circle"
         },
         "mode": "markers",
         "name": "Cluster=Cluster 1",
         "scene": "scene",
         "showlegend": true,
         "type": "scatter3d",
         "x": [
          16.38871955871582,
          -70.195068359375,
          45.77655792236328,
          100.47352600097656,
          85.41580963134766,
          79.00935363769531,
          88.39484405517578,
          62.59814453125,
          -44.96582794189453,
          28.967975616455078,
          -27.34479522705078,
          -22.963464736938477,
          29.867341995239258,
          -29.51302719116211,
          23.97295379638672,
          64.76411437988281,
          75.3528060913086,
          1.5121411085128784,
          26.31201171875,
          39.4066047668457,
          -61.118003845214844,
          54.908653259277344,
          -16.26189613342285,
          130.6243133544922,
          -13.352509498596191,
          9.23560619354248,
          -44.68670654296875,
          52.030521392822266,
          13.496064186096191,
          11.814452171325684,
          -17.138486862182617,
          62.52772521972656,
          -51.46657943725586,
          -30.384784698486328,
          -50.11473083496094,
          28.73857307434082,
          49.83462142944336,
          110.09259033203125,
          19.731477737426758,
          80.82334899902344
         ],
         "y": [
          81.58290100097656,
          58.094093322753906,
          -25.004209518432617,
          -18.413040161132812,
          -7.331308364868164,
          -56.6275520324707,
          40.89590072631836,
          -13.361259460449219,
          103.65913391113281,
          -64.99192810058594,
          8.845823287963867,
          82.29684448242188,
          -44.780548095703125,
          -5.872858047485352,
          12.631169319152832,
          29.88505744934082,
          39.64957046508789,
          78.16986083984375,
          -9.88573169708252,
          42.50265884399414,
          34.879173278808594,
          -3.4266464710235596,
          30.588430404663086,
          63.596736907958984,
          38.932838439941406,
          -11.648204803466797,
          74.72999572753906,
          57.28497314453125,
          6.263502597808838,
          31.584331512451172,
          -14.418179512023926,
          -25.634140014648438,
          53.83346176147461,
          15.02370548248291,
          18.50877571105957,
          -61.39025115966797,
          17.521194458007812,
          22.559581756591797,
          -23.039897918701172,
          -53.48902893066406
         ],
         "z": [
          22.060083389282227,
          53.79911422729492,
          -44.971622467041016,
          -4.044004917144775,
          -38.00471878051758,
          41.54010009765625,
          -43.1739387512207,
          73.04736328125,
          -2.4031527042388916,
          -31.56359100341797,
          78.4414291381836,
          28.536264419555664,
          58.8663444519043,
          117.3468246459961,
          50.06901550292969,
          50.892822265625,
          11.282983779907227,
          -24.200885772705078,
          102.5903549194336,
          20.00466537475586,
          88.59475708007812,
          32.43323516845703,
          29.408567428588867,
          -8.113299369812012,
          -8.981180191040039,
          -50.54159164428711,
          85.06060791015625,
          -25.262575149536133,
          -8.086181640625,
          -40.93584060668945,
          -17.907615661621094,
          -4.7540788650512695,
          -19.64455795288086,
          -43.7941780090332,
          0.19993451237678528,
          4.5706963539123535,
          -25.68560218811035,
          22.149213790893555,
          26.009050369262695,
          -27.301027297973633
         ]
        },
        {
         "customdata": [
          [
           91
          ],
          [
           92
          ],
          [
           93
          ],
          [
           94
          ],
          [
           95
          ],
          [
           96
          ],
          [
           97
          ],
          [
           98
          ],
          [
           99
          ],
          [
           100
          ],
          [
           101
          ],
          [
           102
          ],
          [
           103
          ],
          [
           104
          ],
          [
           105
          ],
          [
           106
          ],
          [
           107
          ],
          [
           108
          ],
          [
           109
          ],
          [
           110
          ],
          [
           111
          ],
          [
           112
          ],
          [
           113
          ],
          [
           114
          ],
          [
           115
          ],
          [
           116
          ],
          [
           117
          ],
          [
           118
          ]
         ],
         "hoverlabel": {
          "namelength": 0
         },
         "hovertemplate": "Cluster=Cluster 2<br>0=%{x}<br>1=%{y}<br>2=%{z}<br>Feature=%{customdata[0]}",
         "legendgroup": "Cluster=Cluster 2",
         "marker": {
          "color": "#00cc96",
          "opacity": 0.7,
          "symbol": "circle"
         },
         "mode": "markers",
         "name": "Cluster=Cluster 2",
         "scene": "scene",
         "showlegend": true,
         "type": "scatter3d",
         "x": [
          -17.591337203979492,
          19.30257797241211,
          -24.29607582092285,
          60.16582107543945,
          16.0399112701416,
          -72.14778137207031,
          63.2924690246582,
          -0.3832174837589264,
          30.396286010742188,
          -10.69551944732666,
          152.5720977783203,
          80.3504867553711,
          -66.06099700927734,
          38.4521484375,
          59.052391052246094,
          -3.3175852298736572,
          9.449034690856934,
          44.80173110961914,
          108.38736724853516,
          -49.81117630004883,
          30.685508728027344,
          121.649658203125,
          67.24254608154297,
          106.62274932861328,
          -63.18445587158203,
          28.143308639526367,
          105.01074981689453,
          76.4517593383789
         ],
         "y": [
          -76.19694519042969,
          63.36048889160156,
          -2.514026403427124,
          4.357220649719238,
          -26.908382415771484,
          26.923381805419922,
          71.63034057617188,
          -33.09477996826172,
          46.298675537109375,
          49.58314514160156,
          -1.3526314496994019,
          17.88128662109375,
          51.064815521240234,
          17.43917465209961,
          -16.79311180114746,
          24.177759170532227,
          24.90264892578125,
          -56.17732238769531,
          -0.8193174600601196,
          -10.39429759979248,
          -38.54051208496094,
          -68.09996795654297,
          19.640609741210938,
          14.11452579498291,
          23.537872314453125,
          0.4200235903263092,
          -23.426246643066406,
          -30.314735412597656
         ],
         "z": [
          129.76797485351562,
          -139.39598083496094,
          -99.0329818725586,
          -72.47515869140625,
          -167.87081909179688,
          148.63955688476562,
          -115.68534851074219,
          -121.92316436767578,
          -98.42477416992188,
          -95.23625946044922,
          -113.26025390625,
          -153.966064453125,
          -95.93448638916016,
          -142.1580810546875,
          -130.06475830078125,
          -130.3914031982422,
          -172.6953125,
          -123.25440216064453,
          -77.55489349365234,
          -143.8400421142578,
          -81.77852630615234,
          -75.60631561279297,
          -108.35350036621094,
          -120.20713806152344,
          -125.53832244873047,
          -103.51240539550781,
          -137.24520874023438,
          -95.07361602783203
         ]
        },
        {
         "customdata": [
          [
           119
          ],
          [
           120
          ],
          [
           121
          ],
          [
           122
          ],
          [
           123
          ],
          [
           124
          ],
          [
           125
          ],
          [
           126
          ],
          [
           127
          ],
          [
           128
          ],
          [
           129
          ],
          [
           130
          ],
          [
           131
          ],
          [
           132
          ],
          [
           133
          ],
          [
           134
          ],
          [
           135
          ],
          [
           136
          ],
          [
           137
          ],
          [
           138
          ],
          [
           139
          ],
          [
           140
          ],
          [
           141
          ],
          [
           142
          ],
          [
           143
          ],
          [
           144
          ],
          [
           145
          ],
          [
           146
          ],
          [
           147
          ],
          [
           148
          ],
          [
           149
          ],
          [
           150
          ]
         ],
         "hoverlabel": {
          "namelength": 0
         },
         "hovertemplate": "Cluster=Cluster 3<br>0=%{x}<br>1=%{y}<br>2=%{z}<br>Feature=%{customdata[0]}",
         "legendgroup": "Cluster=Cluster 3",
         "marker": {
          "color": "#ab63fa",
          "opacity": 0.7,
          "symbol": "circle"
         },
         "mode": "markers",
         "name": "Cluster=Cluster 3",
         "scene": "scene",
         "showlegend": true,
         "type": "scatter3d",
         "x": [
          65.25904083251953,
          71.8712387084961,
          -2.7384519577026367,
          -4.354333400726318,
          48.081520080566406,
          -50.10365676879883,
          79.32057189941406,
          75.60919189453125,
          104.75924682617188,
          8.342970848083496,
          47.82373809814453,
          54.412078857421875,
          44.37196731567383,
          42.255516052246094,
          41.52924346923828,
          16.466718673706055,
          31.097457885742188,
          77.4832763671875,
          74.6933364868164,
          21.360687255859375,
          -3.0951497554779053,
          -14.11160659790039,
          53.463165283203125,
          28.326074600219727,
          -29.165475845336914,
          100.14502716064453,
          29.37051010131836,
          2.815293073654175,
          -27.527917861938477,
          35.272003173828125,
          77.25752258300781,
          64.79678344726562
         ],
         "y": [
          18.288238525390625,
          106.60657501220703,
          60.38822555541992,
          123.50259399414062,
          107.33914184570312,
          -181.8784637451172,
          72.59025573730469,
          88.83014678955078,
          21.831754684448242,
          177.28097534179688,
          120.03067016601562,
          114.1252212524414,
          117.75858306884766,
          51.20133590698242,
          160.93650817871094,
          96.78337097167969,
          36.82619857788086,
          -116.1686019897461,
          149.45574951171875,
          135.55531311035156,
          51.995758056640625,
          124.45166015625,
          160.81106567382812,
          -163.429931640625,
          130.25181579589844,
          135.17544555664062,
          89.25559997558594,
          163.7147216796875,
          113.58003997802734,
          132.73348999023438,
          96.87472534179688,
          -114.50927734375
         ],
         "z": [
          127.7437973022461,
          135.43093872070312,
          62.40616989135742,
          11.562355995178223,
          -51.58814239501953,
          -36.74883270263672,
          95.01937866210938,
          54.70677185058594,
          94.47855377197266,
          77.95353698730469,
          33.89266586303711,
          97.15869903564453,
          -6.029200553894043,
          132.38644409179688,
          11.696281433105469,
          116.15453338623047,
          93.70449829101562,
          -97.70237731933594,
          109.38311767578125,
          92.73543548583984,
          124.73486328125,
          70.38946533203125,
          64.90672302246094,
          -15.243511199951172,
          118.25109100341797,
          74.73104858398438,
          70.60504150390625,
          123.15523529052734,
          -55.978179931640625,
          133.23263549804688,
          9.69138240814209,
          13.889812469482422
         ]
        }
       ],
       "layout": {
        "height": 800,
        "legend": {
         "tracegroupgap": 0
        },
        "scene": {
         "domain": {
          "x": [
           0,
           1
          ],
          "y": [
           0,
           1
          ]
         },
         "xaxis": {
          "title": {
           "text": "0"
          }
         },
         "yaxis": {
          "title": {
           "text": "1"
          }
         },
         "zaxis": {
          "title": {
           "text": "2"
          }
         }
        },
        "template": {
         "data": {
          "bar": [
           {
            "error_x": {
             "color": "#2a3f5f"
            },
            "error_y": {
             "color": "#2a3f5f"
            },
            "marker": {
             "line": {
              "color": "#E5ECF6",
              "width": 0.5
             }
            },
            "type": "bar"
           }
          ],
          "barpolar": [
           {
            "marker": {
             "line": {
              "color": "#E5ECF6",
              "width": 0.5
             }
            },
            "type": "barpolar"
           }
          ],
          "carpet": [
           {
            "aaxis": {
             "endlinecolor": "#2a3f5f",
             "gridcolor": "white",
             "linecolor": "white",
             "minorgridcolor": "white",
             "startlinecolor": "#2a3f5f"
            },
            "baxis": {
             "endlinecolor": "#2a3f5f",
             "gridcolor": "white",
             "linecolor": "white",
             "minorgridcolor": "white",
             "startlinecolor": "#2a3f5f"
            },
            "type": "carpet"
           }
          ],
          "choropleth": [
           {
            "colorbar": {
             "outlinewidth": 0,
             "ticks": ""
            },
            "type": "choropleth"
           }
          ],
          "contour": [
           {
            "colorbar": {
             "outlinewidth": 0,
             "ticks": ""
            },
            "colorscale": [
             [
              0,
              "#0d0887"
             ],
             [
              0.1111111111111111,
              "#46039f"
             ],
             [
              0.2222222222222222,
              "#7201a8"
             ],
             [
              0.3333333333333333,
              "#9c179e"
             ],
             [
              0.4444444444444444,
              "#bd3786"
             ],
             [
              0.5555555555555556,
              "#d8576b"
             ],
             [
              0.6666666666666666,
              "#ed7953"
             ],
             [
              0.7777777777777778,
              "#fb9f3a"
             ],
             [
              0.8888888888888888,
              "#fdca26"
             ],
             [
              1,
              "#f0f921"
             ]
            ],
            "type": "contour"
           }
          ],
          "contourcarpet": [
           {
            "colorbar": {
             "outlinewidth": 0,
             "ticks": ""
            },
            "type": "contourcarpet"
           }
          ],
          "heatmap": [
           {
            "colorbar": {
             "outlinewidth": 0,
             "ticks": ""
            },
            "colorscale": [
             [
              0,
              "#0d0887"
             ],
             [
              0.1111111111111111,
              "#46039f"
             ],
             [
              0.2222222222222222,
              "#7201a8"
             ],
             [
              0.3333333333333333,
              "#9c179e"
             ],
             [
              0.4444444444444444,
              "#bd3786"
             ],
             [
              0.5555555555555556,
              "#d8576b"
             ],
             [
              0.6666666666666666,
              "#ed7953"
             ],
             [
              0.7777777777777778,
              "#fb9f3a"
             ],
             [
              0.8888888888888888,
              "#fdca26"
             ],
             [
              1,
              "#f0f921"
             ]
            ],
            "type": "heatmap"
           }
          ],
          "heatmapgl": [
           {
            "colorbar": {
             "outlinewidth": 0,
             "ticks": ""
            },
            "colorscale": [
             [
              0,
              "#0d0887"
             ],
             [
              0.1111111111111111,
              "#46039f"
             ],
             [
              0.2222222222222222,
              "#7201a8"
             ],
             [
              0.3333333333333333,
              "#9c179e"
             ],
             [
              0.4444444444444444,
              "#bd3786"
             ],
             [
              0.5555555555555556,
              "#d8576b"
             ],
             [
              0.6666666666666666,
              "#ed7953"
             ],
             [
              0.7777777777777778,
              "#fb9f3a"
             ],
             [
              0.8888888888888888,
              "#fdca26"
             ],
             [
              1,
              "#f0f921"
             ]
            ],
            "type": "heatmapgl"
           }
          ],
          "histogram": [
           {
            "marker": {
             "colorbar": {
              "outlinewidth": 0,
              "ticks": ""
             }
            },
            "type": "histogram"
           }
          ],
          "histogram2d": [
           {
            "colorbar": {
             "outlinewidth": 0,
             "ticks": ""
            },
            "colorscale": [
             [
              0,
              "#0d0887"
             ],
             [
              0.1111111111111111,
              "#46039f"
             ],
             [
              0.2222222222222222,
              "#7201a8"
             ],
             [
              0.3333333333333333,
              "#9c179e"
             ],
             [
              0.4444444444444444,
              "#bd3786"
             ],
             [
              0.5555555555555556,
              "#d8576b"
             ],
             [
              0.6666666666666666,
              "#ed7953"
             ],
             [
              0.7777777777777778,
              "#fb9f3a"
             ],
             [
              0.8888888888888888,
              "#fdca26"
             ],
             [
              1,
              "#f0f921"
             ]
            ],
            "type": "histogram2d"
           }
          ],
          "histogram2dcontour": [
           {
            "colorbar": {
             "outlinewidth": 0,
             "ticks": ""
            },
            "colorscale": [
             [
              0,
              "#0d0887"
             ],
             [
              0.1111111111111111,
              "#46039f"
             ],
             [
              0.2222222222222222,
              "#7201a8"
             ],
             [
              0.3333333333333333,
              "#9c179e"
             ],
             [
              0.4444444444444444,
              "#bd3786"
             ],
             [
              0.5555555555555556,
              "#d8576b"
             ],
             [
              0.6666666666666666,
              "#ed7953"
             ],
             [
              0.7777777777777778,
              "#fb9f3a"
             ],
             [
              0.8888888888888888,
              "#fdca26"
             ],
             [
              1,
              "#f0f921"
             ]
            ],
            "type": "histogram2dcontour"
           }
          ],
          "mesh3d": [
           {
            "colorbar": {
             "outlinewidth": 0,
             "ticks": ""
            },
            "type": "mesh3d"
           }
          ],
          "parcoords": [
           {
            "line": {
             "colorbar": {
              "outlinewidth": 0,
              "ticks": ""
             }
            },
            "type": "parcoords"
           }
          ],
          "pie": [
           {
            "automargin": true,
            "type": "pie"
           }
          ],
          "scatter": [
           {
            "marker": {
             "colorbar": {
              "outlinewidth": 0,
              "ticks": ""
             }
            },
            "type": "scatter"
           }
          ],
          "scatter3d": [
           {
            "line": {
             "colorbar": {
              "outlinewidth": 0,
              "ticks": ""
             }
            },
            "marker": {
             "colorbar": {
              "outlinewidth": 0,
              "ticks": ""
             }
            },
            "type": "scatter3d"
           }
          ],
          "scattercarpet": [
           {
            "marker": {
             "colorbar": {
              "outlinewidth": 0,
              "ticks": ""
             }
            },
            "type": "scattercarpet"
           }
          ],
          "scattergeo": [
           {
            "marker": {
             "colorbar": {
              "outlinewidth": 0,
              "ticks": ""
             }
            },
            "type": "scattergeo"
           }
          ],
          "scattergl": [
           {
            "marker": {
             "colorbar": {
              "outlinewidth": 0,
              "ticks": ""
             }
            },
            "type": "scattergl"
           }
          ],
          "scattermapbox": [
           {
            "marker": {
             "colorbar": {
              "outlinewidth": 0,
              "ticks": ""
             }
            },
            "type": "scattermapbox"
           }
          ],
          "scatterpolar": [
           {
            "marker": {
             "colorbar": {
              "outlinewidth": 0,
              "ticks": ""
             }
            },
            "type": "scatterpolar"
           }
          ],
          "scatterpolargl": [
           {
            "marker": {
             "colorbar": {
              "outlinewidth": 0,
              "ticks": ""
             }
            },
            "type": "scatterpolargl"
           }
          ],
          "scatterternary": [
           {
            "marker": {
             "colorbar": {
              "outlinewidth": 0,
              "ticks": ""
             }
            },
            "type": "scatterternary"
           }
          ],
          "surface": [
           {
            "colorbar": {
             "outlinewidth": 0,
             "ticks": ""
            },
            "colorscale": [
             [
              0,
              "#0d0887"
             ],
             [
              0.1111111111111111,
              "#46039f"
             ],
             [
              0.2222222222222222,
              "#7201a8"
             ],
             [
              0.3333333333333333,
              "#9c179e"
             ],
             [
              0.4444444444444444,
              "#bd3786"
             ],
             [
              0.5555555555555556,
              "#d8576b"
             ],
             [
              0.6666666666666666,
              "#ed7953"
             ],
             [
              0.7777777777777778,
              "#fb9f3a"
             ],
             [
              0.8888888888888888,
              "#fdca26"
             ],
             [
              1,
              "#f0f921"
             ]
            ],
            "type": "surface"
           }
          ],
          "table": [
           {
            "cells": {
             "fill": {
              "color": "#EBF0F8"
             },
             "line": {
              "color": "white"
             }
            },
            "header": {
             "fill": {
              "color": "#C8D4E3"
             },
             "line": {
              "color": "white"
             }
            },
            "type": "table"
           }
          ]
         },
         "layout": {
          "annotationdefaults": {
           "arrowcolor": "#2a3f5f",
           "arrowhead": 0,
           "arrowwidth": 1
          },
          "coloraxis": {
           "colorbar": {
            "outlinewidth": 0,
            "ticks": ""
           }
          },
          "colorscale": {
           "diverging": [
            [
             0,
             "#8e0152"
            ],
            [
             0.1,
             "#c51b7d"
            ],
            [
             0.2,
             "#de77ae"
            ],
            [
             0.3,
             "#f1b6da"
            ],
            [
             0.4,
             "#fde0ef"
            ],
            [
             0.5,
             "#f7f7f7"
            ],
            [
             0.6,
             "#e6f5d0"
            ],
            [
             0.7,
             "#b8e186"
            ],
            [
             0.8,
             "#7fbc41"
            ],
            [
             0.9,
             "#4d9221"
            ],
            [
             1,
             "#276419"
            ]
           ],
           "sequential": [
            [
             0,
             "#0d0887"
            ],
            [
             0.1111111111111111,
             "#46039f"
            ],
            [
             0.2222222222222222,
             "#7201a8"
            ],
            [
             0.3333333333333333,
             "#9c179e"
            ],
            [
             0.4444444444444444,
             "#bd3786"
            ],
            [
             0.5555555555555556,
             "#d8576b"
            ],
            [
             0.6666666666666666,
             "#ed7953"
            ],
            [
             0.7777777777777778,
             "#fb9f3a"
            ],
            [
             0.8888888888888888,
             "#fdca26"
            ],
            [
             1,
             "#f0f921"
            ]
           ],
           "sequentialminus": [
            [
             0,
             "#0d0887"
            ],
            [
             0.1111111111111111,
             "#46039f"
            ],
            [
             0.2222222222222222,
             "#7201a8"
            ],
            [
             0.3333333333333333,
             "#9c179e"
            ],
            [
             0.4444444444444444,
             "#bd3786"
            ],
            [
             0.5555555555555556,
             "#d8576b"
            ],
            [
             0.6666666666666666,
             "#ed7953"
            ],
            [
             0.7777777777777778,
             "#fb9f3a"
            ],
            [
             0.8888888888888888,
             "#fdca26"
            ],
            [
             1,
             "#f0f921"
            ]
           ]
          },
          "colorway": [
           "#636efa",
           "#EF553B",
           "#00cc96",
           "#ab63fa",
           "#FFA15A",
           "#19d3f3",
           "#FF6692",
           "#B6E880",
           "#FF97FF",
           "#FECB52"
          ],
          "font": {
           "color": "#2a3f5f"
          },
          "geo": {
           "bgcolor": "white",
           "lakecolor": "white",
           "landcolor": "#E5ECF6",
           "showlakes": true,
           "showland": true,
           "subunitcolor": "white"
          },
          "hoverlabel": {
           "align": "left"
          },
          "hovermode": "closest",
          "mapbox": {
           "style": "light"
          },
          "paper_bgcolor": "white",
          "plot_bgcolor": "#E5ECF6",
          "polar": {
           "angularaxis": {
            "gridcolor": "white",
            "linecolor": "white",
            "ticks": ""
           },
           "bgcolor": "#E5ECF6",
           "radialaxis": {
            "gridcolor": "white",
            "linecolor": "white",
            "ticks": ""
           }
          },
          "scene": {
           "xaxis": {
            "backgroundcolor": "#E5ECF6",
            "gridcolor": "white",
            "gridwidth": 2,
            "linecolor": "white",
            "showbackground": true,
            "ticks": "",
            "zerolinecolor": "white"
           },
           "yaxis": {
            "backgroundcolor": "#E5ECF6",
            "gridcolor": "white",
            "gridwidth": 2,
            "linecolor": "white",
            "showbackground": true,
            "ticks": "",
            "zerolinecolor": "white"
           },
           "zaxis": {
            "backgroundcolor": "#E5ECF6",
            "gridcolor": "white",
            "gridwidth": 2,
            "linecolor": "white",
            "showbackground": true,
            "ticks": "",
            "zerolinecolor": "white"
           }
          },
          "shapedefaults": {
           "line": {
            "color": "#2a3f5f"
           }
          },
          "ternary": {
           "aaxis": {
            "gridcolor": "white",
            "linecolor": "white",
            "ticks": ""
           },
           "baxis": {
            "gridcolor": "white",
            "linecolor": "white",
            "ticks": ""
           },
           "bgcolor": "#E5ECF6",
           "caxis": {
            "gridcolor": "white",
            "linecolor": "white",
            "ticks": ""
           }
          },
          "title": {
           "x": 0.05
          },
          "xaxis": {
           "automargin": true,
           "gridcolor": "white",
           "linecolor": "white",
           "ticks": "",
           "title": {
            "standoff": 15
           },
           "zerolinecolor": "white",
           "zerolinewidth": 2
          },
          "yaxis": {
           "automargin": true,
           "gridcolor": "white",
           "linecolor": "white",
           "ticks": "",
           "title": {
            "standoff": 15
           },
           "zerolinecolor": "white",
           "zerolinewidth": 2
          }
         }
        },
        "title": {
         "text": "3d TSNE Plot for Clusters"
        },
        "width": 900
       }
      },
      "text/html": [
       "<div>\n",
       "        \n",
       "        \n",
       "            <div id=\"e2ed756e-2c08-4ead-8146-1588c063267d\" class=\"plotly-graph-div\" style=\"height:800px; width:900px;\"></div>\n",
       "            <script type=\"text/javascript\">\n",
       "                require([\"plotly\"], function(Plotly) {\n",
       "                    window.PLOTLYENV=window.PLOTLYENV || {};\n",
       "                    \n",
       "                if (document.getElementById(\"e2ed756e-2c08-4ead-8146-1588c063267d\")) {\n",
       "                    Plotly.newPlot(\n",
       "                        'e2ed756e-2c08-4ead-8146-1588c063267d',\n",
       "                        [{\"customdata\": [[1], [2], [3], [4], [5], [6], [7], [8], [9], [10], [11], [12], [13], [14], [15], [16], [17], [18], [19], [20], [21], [22], [23], [24], [25], [26], [27], [28], [29], [30], [31], [32], [33], [34], [35], [36], [37], [38], [39], [40], [41], [42], [43], [44], [45], [46], [47], [48], [49], [50]], \"hoverlabel\": {\"namelength\": 0}, \"hovertemplate\": \"Cluster=Cluster 0<br>0=%{x}<br>1=%{y}<br>2=%{z}<br>Feature=%{customdata[0]}\", \"legendgroup\": \"Cluster=Cluster 0\", \"marker\": {\"color\": \"#636efa\", \"opacity\": 0.7, \"symbol\": \"circle\"}, \"mode\": \"markers\", \"name\": \"Cluster=Cluster 0\", \"scene\": \"scene\", \"showlegend\": true, \"type\": \"scatter3d\", \"x\": [-55.13587951660156, -66.4871826171875, -74.19059753417969, -83.45368957519531, -23.31688690185547, -66.31755828857422, -162.90232849121094, -154.43408203125, -74.46435546875, -43.949581146240234, -86.39512634277344, -83.76258850097656, -16.048669815063477, 125.9389877319336, 41.754722595214844, -115.27155303955078, -89.6360092163086, -124.39216613769531, -104.70913696289062, -1.9108794927597046, -52.71687698364258, 161.75917053222656, -11.793349266052246, -44.92676544189453, -8.414795875549316, -112.03668212890625, -52.02297592163086, -42.657867431640625, 12.162053108215332, -62.57939147949219, -51.80580520629883, -71.43359375, -121.15707397460938, -19.29551124572754, -30.310684204101562, -42.73250198364258, -104.54845428466797, 112.3383560180664, -88.24803924560547, -130.66905212402344, 16.36002540588379, -121.26566314697266, -158.73681640625, -106.3248519897461, -108.35291290283203, -142.73538208007812, -45.71073532104492, -97.44404602050781, -90.56745910644531, 7.533542633056641], \"y\": [-96.28601837158203, -56.108089447021484, -86.71795654296875, -100.09178924560547, -54.29439163208008, -24.927104949951172, -47.8995475769043, -10.063255310058594, -30.648239135742188, -53.75947952270508, -11.140121459960938, -122.0917739868164, -137.2952880859375, -81.98075103759766, -79.41643524169922, 3.221649169921875, -83.06977844238281, -56.28718566894531, -106.27092742919922, -140.030029296875, -126.09200286865234, -8.722846984863281, -88.36088562011719, 188.56419372558594, -102.15045166015625, -60.428340911865234, -91.11929321289062, -144.3723602294922, 148.66427612304688, -87.59609985351562, -66.48118591308594, -49.47325134277344, -25.819414138793945, -86.92454528808594, -100.71304321289062, -105.13117218017578, -13.796690940856934, 110.21776580810547, -88.2396469116211, -97.3336410522461, -106.4678955078125, -24.8662052154541, -13.45855712890625, 16.276721954345703, -74.44841766357422, 18.47672462463379, -139.51612854003906, -124.88272094726562, -58.18653106689453, -120.77863311767578], \"z\": [59.76161193847656, 66.36117553710938, 96.87150573730469, -99.17357635498047, 26.064603805541992, 37.35428237915039, 38.3133430480957, 8.89085578918457, -74.82592010498047, -36.870033264160156, 72.0148696899414, 13.528980255126953, -94.1645278930664, 12.380221366882324, 112.50865173339844, -62.68943405151367, 30.840639114379883, 9.160120964050293, -56.27801513671875, 55.09157180786133, -70.28166198730469, -6.2666144371032715, 57.43728256225586, 39.74024200439453, 5.813053607940674, -85.97846984863281, 17.23504638671875, 9.562889099121094, -75.02827453613281, -60.0032958984375, -96.01130676269531, 2.4530375003814697, 42.433799743652344, -64.86942291259766, -117.38433074951172, -25.65032386779785, -5.874731063842773, -44.896366119384766, -13.088862419128418, 28.075641632080078, -93.79121398925781, 98.8933334350586, 75.42782592773438, 23.71731185913086, 67.98863220214844, 47.912025451660156, 69.72587585449219, 64.71409606933594, -48.70787048339844, -44.65314865112305]}, {\"customdata\": [[51], [52], [53], [54], [55], [56], [57], [58], [59], [60], [61], [62], [63], [64], [65], [66], [67], [68], [69], [70], [71], [72], [73], [74], [75], [76], [77], [78], [79], [80], [81], [82], [83], [84], [85], [86], [87], [88], [89], [90]], \"hoverlabel\": {\"namelength\": 0}, \"hovertemplate\": \"Cluster=Cluster 1<br>0=%{x}<br>1=%{y}<br>2=%{z}<br>Feature=%{customdata[0]}\", \"legendgroup\": \"Cluster=Cluster 1\", \"marker\": {\"color\": \"#EF553B\", \"opacity\": 0.7, \"symbol\": \"circle\"}, \"mode\": \"markers\", \"name\": \"Cluster=Cluster 1\", \"scene\": \"scene\", \"showlegend\": true, \"type\": \"scatter3d\", \"x\": [16.38871955871582, -70.195068359375, 45.77655792236328, 100.47352600097656, 85.41580963134766, 79.00935363769531, 88.39484405517578, 62.59814453125, -44.96582794189453, 28.967975616455078, -27.34479522705078, -22.963464736938477, 29.867341995239258, -29.51302719116211, 23.97295379638672, 64.76411437988281, 75.3528060913086, 1.5121411085128784, 26.31201171875, 39.4066047668457, -61.118003845214844, 54.908653259277344, -16.26189613342285, 130.6243133544922, -13.352509498596191, 9.23560619354248, -44.68670654296875, 52.030521392822266, 13.496064186096191, 11.814452171325684, -17.138486862182617, 62.52772521972656, -51.46657943725586, -30.384784698486328, -50.11473083496094, 28.73857307434082, 49.83462142944336, 110.09259033203125, 19.731477737426758, 80.82334899902344], \"y\": [81.58290100097656, 58.094093322753906, -25.004209518432617, -18.413040161132812, -7.331308364868164, -56.6275520324707, 40.89590072631836, -13.361259460449219, 103.65913391113281, -64.99192810058594, 8.845823287963867, 82.29684448242188, -44.780548095703125, -5.872858047485352, 12.631169319152832, 29.88505744934082, 39.64957046508789, 78.16986083984375, -9.88573169708252, 42.50265884399414, 34.879173278808594, -3.4266464710235596, 30.588430404663086, 63.596736907958984, 38.932838439941406, -11.648204803466797, 74.72999572753906, 57.28497314453125, 6.263502597808838, 31.584331512451172, -14.418179512023926, -25.634140014648438, 53.83346176147461, 15.02370548248291, 18.50877571105957, -61.39025115966797, 17.521194458007812, 22.559581756591797, -23.039897918701172, -53.48902893066406], \"z\": [22.060083389282227, 53.79911422729492, -44.971622467041016, -4.044004917144775, -38.00471878051758, 41.54010009765625, -43.1739387512207, 73.04736328125, -2.4031527042388916, -31.56359100341797, 78.4414291381836, 28.536264419555664, 58.8663444519043, 117.3468246459961, 50.06901550292969, 50.892822265625, 11.282983779907227, -24.200885772705078, 102.5903549194336, 20.00466537475586, 88.59475708007812, 32.43323516845703, 29.408567428588867, -8.113299369812012, -8.981180191040039, -50.54159164428711, 85.06060791015625, -25.262575149536133, -8.086181640625, -40.93584060668945, -17.907615661621094, -4.7540788650512695, -19.64455795288086, -43.7941780090332, 0.19993451237678528, 4.5706963539123535, -25.68560218811035, 22.149213790893555, 26.009050369262695, -27.301027297973633]}, {\"customdata\": [[91], [92], [93], [94], [95], [96], [97], [98], [99], [100], [101], [102], [103], [104], [105], [106], [107], [108], [109], [110], [111], [112], [113], [114], [115], [116], [117], [118]], \"hoverlabel\": {\"namelength\": 0}, \"hovertemplate\": \"Cluster=Cluster 2<br>0=%{x}<br>1=%{y}<br>2=%{z}<br>Feature=%{customdata[0]}\", \"legendgroup\": \"Cluster=Cluster 2\", \"marker\": {\"color\": \"#00cc96\", \"opacity\": 0.7, \"symbol\": \"circle\"}, \"mode\": \"markers\", \"name\": \"Cluster=Cluster 2\", \"scene\": \"scene\", \"showlegend\": true, \"type\": \"scatter3d\", \"x\": [-17.591337203979492, 19.30257797241211, -24.29607582092285, 60.16582107543945, 16.0399112701416, -72.14778137207031, 63.2924690246582, -0.3832174837589264, 30.396286010742188, -10.69551944732666, 152.5720977783203, 80.3504867553711, -66.06099700927734, 38.4521484375, 59.052391052246094, -3.3175852298736572, 9.449034690856934, 44.80173110961914, 108.38736724853516, -49.81117630004883, 30.685508728027344, 121.649658203125, 67.24254608154297, 106.62274932861328, -63.18445587158203, 28.143308639526367, 105.01074981689453, 76.4517593383789], \"y\": [-76.19694519042969, 63.36048889160156, -2.514026403427124, 4.357220649719238, -26.908382415771484, 26.923381805419922, 71.63034057617188, -33.09477996826172, 46.298675537109375, 49.58314514160156, -1.3526314496994019, 17.88128662109375, 51.064815521240234, 17.43917465209961, -16.79311180114746, 24.177759170532227, 24.90264892578125, -56.17732238769531, -0.8193174600601196, -10.39429759979248, -38.54051208496094, -68.09996795654297, 19.640609741210938, 14.11452579498291, 23.537872314453125, 0.4200235903263092, -23.426246643066406, -30.314735412597656], \"z\": [129.76797485351562, -139.39598083496094, -99.0329818725586, -72.47515869140625, -167.87081909179688, 148.63955688476562, -115.68534851074219, -121.92316436767578, -98.42477416992188, -95.23625946044922, -113.26025390625, -153.966064453125, -95.93448638916016, -142.1580810546875, -130.06475830078125, -130.3914031982422, -172.6953125, -123.25440216064453, -77.55489349365234, -143.8400421142578, -81.77852630615234, -75.60631561279297, -108.35350036621094, -120.20713806152344, -125.53832244873047, -103.51240539550781, -137.24520874023438, -95.07361602783203]}, {\"customdata\": [[119], [120], [121], [122], [123], [124], [125], [126], [127], [128], [129], [130], [131], [132], [133], [134], [135], [136], [137], [138], [139], [140], [141], [142], [143], [144], [145], [146], [147], [148], [149], [150]], \"hoverlabel\": {\"namelength\": 0}, \"hovertemplate\": \"Cluster=Cluster 3<br>0=%{x}<br>1=%{y}<br>2=%{z}<br>Feature=%{customdata[0]}\", \"legendgroup\": \"Cluster=Cluster 3\", \"marker\": {\"color\": \"#ab63fa\", \"opacity\": 0.7, \"symbol\": \"circle\"}, \"mode\": \"markers\", \"name\": \"Cluster=Cluster 3\", \"scene\": \"scene\", \"showlegend\": true, \"type\": \"scatter3d\", \"x\": [65.25904083251953, 71.8712387084961, -2.7384519577026367, -4.354333400726318, 48.081520080566406, -50.10365676879883, 79.32057189941406, 75.60919189453125, 104.75924682617188, 8.342970848083496, 47.82373809814453, 54.412078857421875, 44.37196731567383, 42.255516052246094, 41.52924346923828, 16.466718673706055, 31.097457885742188, 77.4832763671875, 74.6933364868164, 21.360687255859375, -3.0951497554779053, -14.11160659790039, 53.463165283203125, 28.326074600219727, -29.165475845336914, 100.14502716064453, 29.37051010131836, 2.815293073654175, -27.527917861938477, 35.272003173828125, 77.25752258300781, 64.79678344726562], \"y\": [18.288238525390625, 106.60657501220703, 60.38822555541992, 123.50259399414062, 107.33914184570312, -181.8784637451172, 72.59025573730469, 88.83014678955078, 21.831754684448242, 177.28097534179688, 120.03067016601562, 114.1252212524414, 117.75858306884766, 51.20133590698242, 160.93650817871094, 96.78337097167969, 36.82619857788086, -116.1686019897461, 149.45574951171875, 135.55531311035156, 51.995758056640625, 124.45166015625, 160.81106567382812, -163.429931640625, 130.25181579589844, 135.17544555664062, 89.25559997558594, 163.7147216796875, 113.58003997802734, 132.73348999023438, 96.87472534179688, -114.50927734375], \"z\": [127.7437973022461, 135.43093872070312, 62.40616989135742, 11.562355995178223, -51.58814239501953, -36.74883270263672, 95.01937866210938, 54.70677185058594, 94.47855377197266, 77.95353698730469, 33.89266586303711, 97.15869903564453, -6.029200553894043, 132.38644409179688, 11.696281433105469, 116.15453338623047, 93.70449829101562, -97.70237731933594, 109.38311767578125, 92.73543548583984, 124.73486328125, 70.38946533203125, 64.90672302246094, -15.243511199951172, 118.25109100341797, 74.73104858398438, 70.60504150390625, 123.15523529052734, -55.978179931640625, 133.23263549804688, 9.69138240814209, 13.889812469482422]}],\n",
       "                        {\"height\": 800, \"legend\": {\"tracegroupgap\": 0}, \"scene\": {\"domain\": {\"x\": [0.0, 1.0], \"y\": [0.0, 1.0]}, \"xaxis\": {\"title\": {\"text\": \"0\"}}, \"yaxis\": {\"title\": {\"text\": \"1\"}}, \"zaxis\": {\"title\": {\"text\": \"2\"}}}, \"template\": {\"data\": {\"bar\": [{\"error_x\": {\"color\": \"#2a3f5f\"}, \"error_y\": {\"color\": \"#2a3f5f\"}, \"marker\": {\"line\": {\"color\": \"#E5ECF6\", \"width\": 0.5}}, \"type\": \"bar\"}], \"barpolar\": [{\"marker\": {\"line\": {\"color\": \"#E5ECF6\", \"width\": 0.5}}, \"type\": \"barpolar\"}], \"carpet\": [{\"aaxis\": {\"endlinecolor\": \"#2a3f5f\", \"gridcolor\": \"white\", \"linecolor\": \"white\", \"minorgridcolor\": \"white\", \"startlinecolor\": \"#2a3f5f\"}, \"baxis\": {\"endlinecolor\": \"#2a3f5f\", \"gridcolor\": \"white\", \"linecolor\": \"white\", \"minorgridcolor\": \"white\", \"startlinecolor\": \"#2a3f5f\"}, \"type\": \"carpet\"}], \"choropleth\": [{\"colorbar\": {\"outlinewidth\": 0, \"ticks\": \"\"}, \"type\": \"choropleth\"}], \"contour\": [{\"colorbar\": {\"outlinewidth\": 0, \"ticks\": \"\"}, \"colorscale\": [[0.0, \"#0d0887\"], [0.1111111111111111, \"#46039f\"], [0.2222222222222222, \"#7201a8\"], [0.3333333333333333, \"#9c179e\"], [0.4444444444444444, \"#bd3786\"], [0.5555555555555556, \"#d8576b\"], [0.6666666666666666, \"#ed7953\"], [0.7777777777777778, \"#fb9f3a\"], [0.8888888888888888, \"#fdca26\"], [1.0, \"#f0f921\"]], \"type\": \"contour\"}], \"contourcarpet\": [{\"colorbar\": {\"outlinewidth\": 0, \"ticks\": \"\"}, \"type\": \"contourcarpet\"}], \"heatmap\": [{\"colorbar\": {\"outlinewidth\": 0, \"ticks\": \"\"}, \"colorscale\": [[0.0, \"#0d0887\"], [0.1111111111111111, \"#46039f\"], [0.2222222222222222, \"#7201a8\"], [0.3333333333333333, \"#9c179e\"], [0.4444444444444444, \"#bd3786\"], [0.5555555555555556, \"#d8576b\"], [0.6666666666666666, \"#ed7953\"], [0.7777777777777778, \"#fb9f3a\"], [0.8888888888888888, \"#fdca26\"], [1.0, \"#f0f921\"]], \"type\": \"heatmap\"}], \"heatmapgl\": [{\"colorbar\": {\"outlinewidth\": 0, \"ticks\": \"\"}, \"colorscale\": [[0.0, \"#0d0887\"], [0.1111111111111111, \"#46039f\"], [0.2222222222222222, \"#7201a8\"], [0.3333333333333333, \"#9c179e\"], [0.4444444444444444, \"#bd3786\"], [0.5555555555555556, \"#d8576b\"], [0.6666666666666666, \"#ed7953\"], [0.7777777777777778, \"#fb9f3a\"], [0.8888888888888888, \"#fdca26\"], [1.0, \"#f0f921\"]], \"type\": \"heatmapgl\"}], \"histogram\": [{\"marker\": {\"colorbar\": {\"outlinewidth\": 0, \"ticks\": \"\"}}, \"type\": \"histogram\"}], \"histogram2d\": [{\"colorbar\": {\"outlinewidth\": 0, \"ticks\": \"\"}, \"colorscale\": [[0.0, \"#0d0887\"], [0.1111111111111111, \"#46039f\"], [0.2222222222222222, \"#7201a8\"], [0.3333333333333333, \"#9c179e\"], [0.4444444444444444, \"#bd3786\"], [0.5555555555555556, \"#d8576b\"], [0.6666666666666666, \"#ed7953\"], [0.7777777777777778, \"#fb9f3a\"], [0.8888888888888888, \"#fdca26\"], [1.0, \"#f0f921\"]], \"type\": \"histogram2d\"}], \"histogram2dcontour\": [{\"colorbar\": {\"outlinewidth\": 0, \"ticks\": \"\"}, \"colorscale\": [[0.0, \"#0d0887\"], [0.1111111111111111, \"#46039f\"], [0.2222222222222222, \"#7201a8\"], [0.3333333333333333, \"#9c179e\"], [0.4444444444444444, \"#bd3786\"], [0.5555555555555556, \"#d8576b\"], [0.6666666666666666, \"#ed7953\"], [0.7777777777777778, \"#fb9f3a\"], [0.8888888888888888, \"#fdca26\"], [1.0, \"#f0f921\"]], \"type\": \"histogram2dcontour\"}], \"mesh3d\": [{\"colorbar\": {\"outlinewidth\": 0, \"ticks\": \"\"}, \"type\": \"mesh3d\"}], \"parcoords\": [{\"line\": {\"colorbar\": {\"outlinewidth\": 0, \"ticks\": \"\"}}, \"type\": \"parcoords\"}], \"pie\": [{\"automargin\": true, \"type\": \"pie\"}], \"scatter\": [{\"marker\": {\"colorbar\": {\"outlinewidth\": 0, \"ticks\": \"\"}}, \"type\": \"scatter\"}], \"scatter3d\": [{\"line\": {\"colorbar\": {\"outlinewidth\": 0, \"ticks\": \"\"}}, \"marker\": {\"colorbar\": {\"outlinewidth\": 0, \"ticks\": \"\"}}, \"type\": \"scatter3d\"}], \"scattercarpet\": [{\"marker\": {\"colorbar\": {\"outlinewidth\": 0, \"ticks\": \"\"}}, \"type\": \"scattercarpet\"}], \"scattergeo\": [{\"marker\": {\"colorbar\": {\"outlinewidth\": 0, \"ticks\": \"\"}}, \"type\": \"scattergeo\"}], \"scattergl\": [{\"marker\": {\"colorbar\": {\"outlinewidth\": 0, \"ticks\": \"\"}}, \"type\": \"scattergl\"}], \"scattermapbox\": [{\"marker\": {\"colorbar\": {\"outlinewidth\": 0, \"ticks\": \"\"}}, \"type\": \"scattermapbox\"}], \"scatterpolar\": [{\"marker\": {\"colorbar\": {\"outlinewidth\": 0, \"ticks\": \"\"}}, \"type\": \"scatterpolar\"}], \"scatterpolargl\": [{\"marker\": {\"colorbar\": {\"outlinewidth\": 0, \"ticks\": \"\"}}, \"type\": \"scatterpolargl\"}], \"scatterternary\": [{\"marker\": {\"colorbar\": {\"outlinewidth\": 0, \"ticks\": \"\"}}, \"type\": \"scatterternary\"}], \"surface\": [{\"colorbar\": {\"outlinewidth\": 0, \"ticks\": \"\"}, \"colorscale\": [[0.0, \"#0d0887\"], [0.1111111111111111, \"#46039f\"], [0.2222222222222222, \"#7201a8\"], [0.3333333333333333, \"#9c179e\"], [0.4444444444444444, \"#bd3786\"], [0.5555555555555556, \"#d8576b\"], [0.6666666666666666, \"#ed7953\"], [0.7777777777777778, \"#fb9f3a\"], [0.8888888888888888, \"#fdca26\"], [1.0, \"#f0f921\"]], \"type\": \"surface\"}], \"table\": [{\"cells\": {\"fill\": {\"color\": \"#EBF0F8\"}, \"line\": {\"color\": \"white\"}}, \"header\": {\"fill\": {\"color\": \"#C8D4E3\"}, \"line\": {\"color\": \"white\"}}, \"type\": \"table\"}]}, \"layout\": {\"annotationdefaults\": {\"arrowcolor\": \"#2a3f5f\", \"arrowhead\": 0, \"arrowwidth\": 1}, \"coloraxis\": {\"colorbar\": {\"outlinewidth\": 0, \"ticks\": \"\"}}, \"colorscale\": {\"diverging\": [[0, \"#8e0152\"], [0.1, \"#c51b7d\"], [0.2, \"#de77ae\"], [0.3, \"#f1b6da\"], [0.4, \"#fde0ef\"], [0.5, \"#f7f7f7\"], [0.6, \"#e6f5d0\"], [0.7, \"#b8e186\"], [0.8, \"#7fbc41\"], [0.9, \"#4d9221\"], [1, \"#276419\"]], \"sequential\": [[0.0, \"#0d0887\"], [0.1111111111111111, \"#46039f\"], [0.2222222222222222, \"#7201a8\"], [0.3333333333333333, \"#9c179e\"], [0.4444444444444444, \"#bd3786\"], [0.5555555555555556, \"#d8576b\"], [0.6666666666666666, \"#ed7953\"], [0.7777777777777778, \"#fb9f3a\"], [0.8888888888888888, \"#fdca26\"], [1.0, \"#f0f921\"]], \"sequentialminus\": [[0.0, \"#0d0887\"], [0.1111111111111111, \"#46039f\"], [0.2222222222222222, \"#7201a8\"], [0.3333333333333333, \"#9c179e\"], [0.4444444444444444, \"#bd3786\"], [0.5555555555555556, \"#d8576b\"], [0.6666666666666666, \"#ed7953\"], [0.7777777777777778, \"#fb9f3a\"], [0.8888888888888888, \"#fdca26\"], [1.0, \"#f0f921\"]]}, \"colorway\": [\"#636efa\", \"#EF553B\", \"#00cc96\", \"#ab63fa\", \"#FFA15A\", \"#19d3f3\", \"#FF6692\", \"#B6E880\", \"#FF97FF\", \"#FECB52\"], \"font\": {\"color\": \"#2a3f5f\"}, \"geo\": {\"bgcolor\": \"white\", \"lakecolor\": \"white\", \"landcolor\": \"#E5ECF6\", \"showlakes\": true, \"showland\": true, \"subunitcolor\": \"white\"}, \"hoverlabel\": {\"align\": \"left\"}, \"hovermode\": \"closest\", \"mapbox\": {\"style\": \"light\"}, \"paper_bgcolor\": \"white\", \"plot_bgcolor\": \"#E5ECF6\", \"polar\": {\"angularaxis\": {\"gridcolor\": \"white\", \"linecolor\": \"white\", \"ticks\": \"\"}, \"bgcolor\": \"#E5ECF6\", \"radialaxis\": {\"gridcolor\": \"white\", \"linecolor\": \"white\", \"ticks\": \"\"}}, \"scene\": {\"xaxis\": {\"backgroundcolor\": \"#E5ECF6\", \"gridcolor\": \"white\", \"gridwidth\": 2, \"linecolor\": \"white\", \"showbackground\": true, \"ticks\": \"\", \"zerolinecolor\": \"white\"}, \"yaxis\": {\"backgroundcolor\": \"#E5ECF6\", \"gridcolor\": \"white\", \"gridwidth\": 2, \"linecolor\": \"white\", \"showbackground\": true, \"ticks\": \"\", \"zerolinecolor\": \"white\"}, \"zaxis\": {\"backgroundcolor\": \"#E5ECF6\", \"gridcolor\": \"white\", \"gridwidth\": 2, \"linecolor\": \"white\", \"showbackground\": true, \"ticks\": \"\", \"zerolinecolor\": \"white\"}}, \"shapedefaults\": {\"line\": {\"color\": \"#2a3f5f\"}}, \"ternary\": {\"aaxis\": {\"gridcolor\": \"white\", \"linecolor\": \"white\", \"ticks\": \"\"}, \"baxis\": {\"gridcolor\": \"white\", \"linecolor\": \"white\", \"ticks\": \"\"}, \"bgcolor\": \"#E5ECF6\", \"caxis\": {\"gridcolor\": \"white\", \"linecolor\": \"white\", \"ticks\": \"\"}}, \"title\": {\"x\": 0.05}, \"xaxis\": {\"automargin\": true, \"gridcolor\": \"white\", \"linecolor\": \"white\", \"ticks\": \"\", \"title\": {\"standoff\": 15}, \"zerolinecolor\": \"white\", \"zerolinewidth\": 2}, \"yaxis\": {\"automargin\": true, \"gridcolor\": \"white\", \"linecolor\": \"white\", \"ticks\": \"\", \"title\": {\"standoff\": 15}, \"zerolinecolor\": \"white\", \"zerolinewidth\": 2}}}, \"title\": {\"text\": \"3d TSNE Plot for Clusters\"}, \"width\": 900},\n",
       "                        {\"responsive\": true}\n",
       "                    ).then(function(){\n",
       "                            \n",
       "var gd = document.getElementById('e2ed756e-2c08-4ead-8146-1588c063267d');\n",
       "var x = new MutationObserver(function (mutations, observer) {{\n",
       "        var display = window.getComputedStyle(gd).display;\n",
       "        if (!display || display === 'none') {{\n",
       "            console.log([gd, 'removed!']);\n",
       "            Plotly.purge(gd);\n",
       "            observer.disconnect();\n",
       "        }}\n",
       "}});\n",
       "\n",
       "// Listen for the removal of the full notebook cells\n",
       "var notebookContainer = gd.closest('#notebook-container');\n",
       "if (notebookContainer) {{\n",
       "    x.observe(notebookContainer, {childList: true});\n",
       "}}\n",
       "\n",
       "// Listen for the clearing of the current output cell\n",
       "var outputEl = gd.closest('.output');\n",
       "if (outputEl) {{\n",
       "    x.observe(outputEl, {childList: true});\n",
       "}}\n",
       "\n",
       "                        })\n",
       "                };\n",
       "                });\n",
       "            </script>\n",
       "        </div>"
      ]
     },
     "metadata": {},
     "output_type": "display_data"
    }
   ],
   "source": [
    "plot_model(kmeans,plot='tsne')"
   ]
  },
  {
   "cell_type": "code",
   "execution_count": 51,
   "metadata": {},
   "outputs": [
    {
     "data": {
      "text/html": [
       "        <script type=\"text/javascript\">\n",
       "        window.PlotlyConfig = {MathJaxConfig: 'local'};\n",
       "        if (window.MathJax) {MathJax.Hub.Config({SVG: {font: \"STIX-Web\"}});}\n",
       "        if (typeof require !== 'undefined') {\n",
       "        require.undef(\"plotly\");\n",
       "        requirejs.config({\n",
       "            paths: {\n",
       "                'plotly': ['https://cdn.plot.ly/plotly-latest.min']\n",
       "            }\n",
       "        });\n",
       "        require(['plotly'], function(Plotly) {\n",
       "            window._Plotly = Plotly;\n",
       "        });\n",
       "        }\n",
       "        </script>\n",
       "        "
      ]
     },
     "metadata": {},
     "output_type": "display_data"
    },
    {
     "data": {
      "application/vnd.plotly.v1+json": {
       "config": {
        "plotlyServerURL": "https://plot.ly"
       },
       "data": [
        {
         "customdata": [
          [
           1
          ],
          [
           2
          ],
          [
           3
          ],
          [
           4
          ],
          [
           5
          ],
          [
           6
          ],
          [
           7
          ],
          [
           8
          ],
          [
           9
          ],
          [
           10
          ],
          [
           11
          ],
          [
           12
          ],
          [
           13
          ],
          [
           14
          ],
          [
           15
          ],
          [
           16
          ],
          [
           17
          ],
          [
           18
          ],
          [
           19
          ],
          [
           20
          ],
          [
           21
          ],
          [
           22
          ],
          [
           23
          ],
          [
           24
          ],
          [
           25
          ],
          [
           26
          ],
          [
           27
          ],
          [
           28
          ],
          [
           29
          ],
          [
           30
          ],
          [
           31
          ],
          [
           32
          ],
          [
           33
          ],
          [
           34
          ],
          [
           35
          ],
          [
           36
          ],
          [
           37
          ],
          [
           38
          ],
          [
           39
          ],
          [
           40
          ],
          [
           41
          ],
          [
           42
          ],
          [
           43
          ],
          [
           44
          ],
          [
           45
          ],
          [
           46
          ],
          [
           47
          ],
          [
           48
          ],
          [
           49
          ],
          [
           50
          ]
         ],
         "hoverlabel": {
          "namelength": 0
         },
         "hovertemplate": "Cluster=Cluster 0<br>PCA1=%{x}<br>PCA2=%{y}<br>Feature=%{customdata[0]}",
         "legendgroup": "Cluster=Cluster 0",
         "marker": {
          "color": "#636efa",
          "opacity": 0.5,
          "symbol": "circle"
         },
         "mode": "markers",
         "name": "Cluster=Cluster 0",
         "showlegend": true,
         "textposition": "top center",
         "type": "scatter",
         "x": [
          -2.684207125103951,
          -2.562390946836749,
          -2.639821268376581,
          -2.6328479080307585,
          -2.588462051303392,
          -2.4100773371215958,
          -2.6476366733969,
          -2.597159477075918,
          -2.6738446867191215,
          -2.8669998469325346,
          -2.6252284646804207,
          -2.4690559975451234,
          -2.981842664853909,
          -2.7701389107463243,
          -2.8522110815663924,
          -2.998296442832352,
          -2.4055141012847017,
          -2.2088329541767053,
          -2.715665190747455,
          -2.5375733710135067,
          -2.840321296827009,
          -2.5426857570770482,
          -2.7039123148636506,
          -2.590323025585674,
          -2.507917226837881,
          -2.6738446867191215,
          -2.303128537663883,
          -2.3561710866838985,
          -2.7153906156341314,
          -2.889819539617917,
          -2.746437197308735,
          -2.7285929818313144,
          -2.2798973610095974,
          -2.8208906821806305,
          -2.887958565335635,
          -2.6738446867191215,
          -2.506526789338903,
          -2.6131427182710563,
          -2.6264819933238193,
          -2.5432349073036953,
          -3.2252004462749815,
          -2.6435432169411457,
          -2.3838693237993747,
          -2.622526203125808,
          -2.6483227324791265,
          -2.1990779614307625,
          -2.587346188917738,
          -2.3105317013131335,
          -2.7874339759970983,
          -3.2158576949001056
         ],
         "xaxis": "x",
         "y": [
          0.32660731476438876,
          0.3746845627501057,
          0.3192900659603216,
          -0.1900758306336239,
          -0.19739307943769066,
          0.41808000824761593,
          0.819982632559507,
          1.1000219280072683,
          -0.10669170375273847,
          0.07719309572358712,
          0.6068000084215861,
          0.1378873145904178,
          -0.4802500488560764,
          0.2710594197651672,
          -0.9328653674695444,
          -0.33430757459077687,
          0.1959172576960609,
          0.4426960304210028,
          -0.24268148289811284,
          0.5103675454766057,
          -0.22057633827647638,
          0.5862810253439883,
          0.11501085217050565,
          0.23605933728887282,
          -0.13905633991317404,
          -0.10669170375273847,
          0.10552267842998235,
          -0.031209589068338137,
          -0.16955684755602604,
          -0.13734560960502765,
          -0.31112431575199156,
          0.33392456356845474,
          0.7477827132251335,
          -0.0821045110246806,
          -0.5707980263315914,
          -0.10669170375273847,
          0.6519350136725718,
          0.02152063196025816,
          0.1704053489602899,
          0.44003175465981537,
          -0.5032799094854254,
          1.186194899413449,
          1.344754344559862,
          0.8180896745965951,
          0.3191366677508847,
          0.8792440880917364,
          0.5204736388059678,
          0.3978678215888918,
          -0.2277401888711062,
          0.1416155716255838
         ],
         "yaxis": "y"
        },
        {
         "customdata": [
          [
           51
          ],
          [
           52
          ],
          [
           53
          ],
          [
           54
          ],
          [
           55
          ],
          [
           56
          ],
          [
           57
          ],
          [
           58
          ],
          [
           59
          ],
          [
           60
          ],
          [
           61
          ],
          [
           62
          ],
          [
           63
          ],
          [
           64
          ],
          [
           65
          ],
          [
           66
          ],
          [
           67
          ],
          [
           68
          ],
          [
           69
          ],
          [
           70
          ],
          [
           71
          ],
          [
           72
          ],
          [
           73
          ],
          [
           74
          ],
          [
           75
          ],
          [
           76
          ],
          [
           77
          ],
          [
           78
          ],
          [
           79
          ],
          [
           80
          ],
          [
           81
          ],
          [
           82
          ],
          [
           83
          ],
          [
           84
          ],
          [
           85
          ],
          [
           86
          ],
          [
           87
          ],
          [
           88
          ],
          [
           89
          ],
          [
           90
          ]
         ],
         "hoverlabel": {
          "namelength": 0
         },
         "hovertemplate": "Cluster=Cluster 1<br>PCA1=%{x}<br>PCA2=%{y}<br>Feature=%{customdata[0]}",
         "legendgroup": "Cluster=Cluster 1",
         "marker": {
          "color": "#EF553B",
          "opacity": 0.5,
          "symbol": "circle"
         },
         "mode": "markers",
         "name": "Cluster=Cluster 1",
         "showlegend": true,
         "textposition": "top center",
         "type": "scatter",
         "x": [
          1.6619349470194875,
          1.4140722251737574,
          0.6416902781665436,
          0.8901604456511565,
          0.8124555489980023,
          1.2204289662446803,
          0.8072054966767168,
          1.3787369827755829,
          1.8023404526607338,
          0.81286779036907,
          1.3445942175098242,
          1.7640459355269833,
          1.298329824567816,
          1.1980973722749628,
          1.387668250181556,
          1.2576251829251366,
          1.2906696477376018,
          1.443102604375975,
          1.7796401068985703,
          1.1688534694704038,
          1.4140722251737574,
          1.5256636313138732,
          1.557396272070703,
          1.5852672993086439,
          1.3310414188547206,
          0.7140082136428338,
          1.3896661333194171,
          1.095223709938479,
          1.0432977807062815,
          1.0871344872070012,
          0.8996408632837767,
          0.9840445451694313,
          1.4640613227790762,
          0.9275729420327005,
          1.2847945878450724,
          0.9423617073988421,
          0.9324107529829184,
          1.1162407237538159,
          1.2964688502855344,
          0.9205026489090096
         ],
         "xaxis": "x",
         "y": [
          0.24203840103752228,
          -0.5749250559123046,
          0.019071176491270634,
          -0.033812442746762705,
          -0.16233157487863328,
          0.40803533700101713,
          0.19505396377111164,
          -0.42120513821462824,
          -0.21615460662653635,
          -0.3706789983189099,
          -0.7764154251768248,
          0.07851918642935737,
          -0.7610139365215078,
          -0.6055789617645941,
          -0.20403098657015478,
          -0.17913699742322284,
          -0.1164252518293724,
          -0.1438012890827262,
          -0.5014647947060156,
          -0.1645024998150898,
          -0.5749250559123046,
          -0.37502084819182296,
          0.26739258481276457,
          -0.5393070538471717,
          0.24466952060228886,
          0.15037915314843694,
          -0.28288670917226894,
          0.28389121093848035,
          0.2289569087770065,
          0.07539038928876732,
          0.3296109795818836,
          -0.12436042022227795,
          0.5041898329724526,
          0.4682362050431168,
          0.6854391861329195,
          -0.5418222581500143,
          0.3191980898336486,
          -0.08421401387837321,
          -0.3275615197949443,
          -0.18239036332792105
         ],
         "yaxis": "y"
        },
        {
         "customdata": [
          [
           91
          ],
          [
           92
          ],
          [
           93
          ],
          [
           94
          ],
          [
           95
          ],
          [
           96
          ],
          [
           97
          ],
          [
           98
          ],
          [
           99
          ],
          [
           100
          ],
          [
           101
          ],
          [
           102
          ],
          [
           103
          ],
          [
           104
          ],
          [
           105
          ],
          [
           106
          ],
          [
           107
          ],
          [
           108
          ],
          [
           109
          ],
          [
           110
          ],
          [
           111
          ],
          [
           112
          ],
          [
           113
          ],
          [
           114
          ],
          [
           115
          ],
          [
           116
          ],
          [
           117
          ],
          [
           118
          ]
         ],
         "hoverlabel": {
          "namelength": 0
         },
         "hovertemplate": "Cluster=Cluster 2<br>PCA1=%{x}<br>PCA2=%{y}<br>Feature=%{customdata[0]}",
         "legendgroup": "Cluster=Cluster 2",
         "marker": {
          "color": "#00cc96",
          "opacity": 0.5,
          "symbol": "circle"
         },
         "mode": "markers",
         "name": "Cluster=Cluster 2",
         "showlegend": true,
         "textposition": "top center",
         "type": "scatter",
         "x": [
          -0.010190070727853665,
          0.18096720634769858,
          -0.3073347556634044,
          0.5110980606834776,
          0.2623357561531801,
          -0.07034288894927178,
          -0.19188449210314582,
          -0.1748640019656962,
          0.043246400328704644,
          0.13499495045137344,
          0.5193832450849353,
          0.6404367495231454,
          -0.7514671406482277,
          0.35553303918706347,
          0.2451951616903461,
          0.16451342836925556,
          0.46303098887142413,
          0.2345405862598357,
          0.2288790499696476,
          -0.7070812839208613,
          0.3567865678304615,
          -0.5110861958950914,
          0.37523822894676584,
          0.6595927890562004,
          -0.9084633331234957,
          0.29780790740693397,
          0.5872748535799109,
          0.33112694733272274
         ],
         "xaxis": "x",
         "y": [
          -0.7205748667019012,
          -0.8256039435761132,
          -0.36508661276616033,
          -0.10228410504597017,
          -0.5478932980253368,
          -0.7025379317307258,
          -0.6774905443743571,
          -0.25181557108017044,
          -0.5814894466123586,
          -0.3117096427033962,
          -1.1913516890506526,
          -0.4173234829700255,
          -1.0011075129743938,
          -0.5032184874026622,
          -0.26672803566184783,
          -0.6796614693108135,
          -0.6695265465361223,
          -0.3319218293621204,
          -0.4022576201789113,
          -1.0084247617784607,
          -0.0668238279413663,
          -1.2624919538621402,
          -0.29162202480877963,
          -0.35197629106031625,
          -0.7515687251694853,
          -0.3470165215985638,
          -0.48328426771748206,
          -0.21118014066262653
         ],
         "yaxis": "y"
        },
        {
         "customdata": [
          [
           119
          ],
          [
           120
          ],
          [
           121
          ],
          [
           122
          ],
          [
           123
          ],
          [
           124
          ],
          [
           125
          ],
          [
           126
          ],
          [
           127
          ],
          [
           128
          ],
          [
           129
          ],
          [
           130
          ],
          [
           131
          ],
          [
           132
          ],
          [
           133
          ],
          [
           134
          ],
          [
           135
          ],
          [
           136
          ],
          [
           137
          ],
          [
           138
          ],
          [
           139
          ],
          [
           140
          ],
          [
           141
          ],
          [
           142
          ],
          [
           143
          ],
          [
           144
          ],
          [
           145
          ],
          [
           146
          ],
          [
           147
          ],
          [
           148
          ],
          [
           149
          ],
          [
           150
          ]
         ],
         "hoverlabel": {
          "namelength": 0
         },
         "hovertemplate": "Cluster=Cluster 3<br>PCA1=%{x}<br>PCA2=%{y}<br>Feature=%{customdata[0]}",
         "legendgroup": "Cluster=Cluster 3",
         "marker": {
          "color": "#ab63fa",
          "opacity": 0.5,
          "symbol": "circle"
         },
         "mode": "markers",
         "name": "Cluster=Cluster 3",
         "showlegend": true,
         "textposition": "top center",
         "type": "scatter",
         "x": [
          2.158738373133135,
          3.076521621020663,
          1.9224508848357535,
          1.9048629251371325,
          2.1076537311732695,
          2.314303394629549,
          2.56332271234081,
          2.419391219804981,
          1.9440170488777382,
          3.232342898295877,
          2.1449868567093042,
          2.840960925285385,
          1.9016290752882328,
          2.1228539805083138,
          2.531726980439559,
          2.6164846082840443,
          1.9708149459064823,
          2.349757983950943,
          3.3968799206781397,
          2.9320050969913027,
          2.3196727938740542,
          2.387564402369029,
          2.9181342336442526,
          1.9492487818644983,
          3.488765379656388,
          3.7946868612099713,
          2.428167259020849,
          3.499265484298958,
          2.2758536493056947,
          2.6141938306983348,
          1.904743578213913,
          2.165378862953398
         ],
         "xaxis": "x",
         "y": [
          -0.2183255315629932,
          0.685764442246056,
          0.4092711761786953,
          0.048047508231834554,
          0.37148224917710554,
          0.18260885079369849,
          0.275974502239838,
          0.3035039377026287,
          0.18741522204601374,
          1.370524035976333,
          0.1389066088773147,
          0.3727425910490208,
          0.11587674824796587,
          -0.21085488454948986,
          -0.01184223664030011,
          0.3419352869872945,
          -0.18112569470491366,
          -0.04188254965484179,
          0.5471680462301522,
          0.3523770061808593,
          -0.24554817060691042,
          0.46251925072626004,
          0.780380629372032,
          0.04073025942776777,
          1.1715445442635635,
          0.253265570972534,
          0.3767819712541523,
          0.4567734669640739,
          0.333386525756642,
          0.5583669502788219,
          0.11881899098269859,
          0.21528028337300698
         ],
         "yaxis": "y"
        }
       ],
       "layout": {
        "height": 600,
        "legend": {
         "tracegroupgap": 0
        },
        "margin": {
         "t": 60
        },
        "plot_bgcolor": "rgb(240,240,240)",
        "template": {
         "data": {
          "bar": [
           {
            "error_x": {
             "color": "#2a3f5f"
            },
            "error_y": {
             "color": "#2a3f5f"
            },
            "marker": {
             "line": {
              "color": "#E5ECF6",
              "width": 0.5
             }
            },
            "type": "bar"
           }
          ],
          "barpolar": [
           {
            "marker": {
             "line": {
              "color": "#E5ECF6",
              "width": 0.5
             }
            },
            "type": "barpolar"
           }
          ],
          "carpet": [
           {
            "aaxis": {
             "endlinecolor": "#2a3f5f",
             "gridcolor": "white",
             "linecolor": "white",
             "minorgridcolor": "white",
             "startlinecolor": "#2a3f5f"
            },
            "baxis": {
             "endlinecolor": "#2a3f5f",
             "gridcolor": "white",
             "linecolor": "white",
             "minorgridcolor": "white",
             "startlinecolor": "#2a3f5f"
            },
            "type": "carpet"
           }
          ],
          "choropleth": [
           {
            "colorbar": {
             "outlinewidth": 0,
             "ticks": ""
            },
            "type": "choropleth"
           }
          ],
          "contour": [
           {
            "colorbar": {
             "outlinewidth": 0,
             "ticks": ""
            },
            "colorscale": [
             [
              0,
              "#0d0887"
             ],
             [
              0.1111111111111111,
              "#46039f"
             ],
             [
              0.2222222222222222,
              "#7201a8"
             ],
             [
              0.3333333333333333,
              "#9c179e"
             ],
             [
              0.4444444444444444,
              "#bd3786"
             ],
             [
              0.5555555555555556,
              "#d8576b"
             ],
             [
              0.6666666666666666,
              "#ed7953"
             ],
             [
              0.7777777777777778,
              "#fb9f3a"
             ],
             [
              0.8888888888888888,
              "#fdca26"
             ],
             [
              1,
              "#f0f921"
             ]
            ],
            "type": "contour"
           }
          ],
          "contourcarpet": [
           {
            "colorbar": {
             "outlinewidth": 0,
             "ticks": ""
            },
            "type": "contourcarpet"
           }
          ],
          "heatmap": [
           {
            "colorbar": {
             "outlinewidth": 0,
             "ticks": ""
            },
            "colorscale": [
             [
              0,
              "#0d0887"
             ],
             [
              0.1111111111111111,
              "#46039f"
             ],
             [
              0.2222222222222222,
              "#7201a8"
             ],
             [
              0.3333333333333333,
              "#9c179e"
             ],
             [
              0.4444444444444444,
              "#bd3786"
             ],
             [
              0.5555555555555556,
              "#d8576b"
             ],
             [
              0.6666666666666666,
              "#ed7953"
             ],
             [
              0.7777777777777778,
              "#fb9f3a"
             ],
             [
              0.8888888888888888,
              "#fdca26"
             ],
             [
              1,
              "#f0f921"
             ]
            ],
            "type": "heatmap"
           }
          ],
          "heatmapgl": [
           {
            "colorbar": {
             "outlinewidth": 0,
             "ticks": ""
            },
            "colorscale": [
             [
              0,
              "#0d0887"
             ],
             [
              0.1111111111111111,
              "#46039f"
             ],
             [
              0.2222222222222222,
              "#7201a8"
             ],
             [
              0.3333333333333333,
              "#9c179e"
             ],
             [
              0.4444444444444444,
              "#bd3786"
             ],
             [
              0.5555555555555556,
              "#d8576b"
             ],
             [
              0.6666666666666666,
              "#ed7953"
             ],
             [
              0.7777777777777778,
              "#fb9f3a"
             ],
             [
              0.8888888888888888,
              "#fdca26"
             ],
             [
              1,
              "#f0f921"
             ]
            ],
            "type": "heatmapgl"
           }
          ],
          "histogram": [
           {
            "marker": {
             "colorbar": {
              "outlinewidth": 0,
              "ticks": ""
             }
            },
            "type": "histogram"
           }
          ],
          "histogram2d": [
           {
            "colorbar": {
             "outlinewidth": 0,
             "ticks": ""
            },
            "colorscale": [
             [
              0,
              "#0d0887"
             ],
             [
              0.1111111111111111,
              "#46039f"
             ],
             [
              0.2222222222222222,
              "#7201a8"
             ],
             [
              0.3333333333333333,
              "#9c179e"
             ],
             [
              0.4444444444444444,
              "#bd3786"
             ],
             [
              0.5555555555555556,
              "#d8576b"
             ],
             [
              0.6666666666666666,
              "#ed7953"
             ],
             [
              0.7777777777777778,
              "#fb9f3a"
             ],
             [
              0.8888888888888888,
              "#fdca26"
             ],
             [
              1,
              "#f0f921"
             ]
            ],
            "type": "histogram2d"
           }
          ],
          "histogram2dcontour": [
           {
            "colorbar": {
             "outlinewidth": 0,
             "ticks": ""
            },
            "colorscale": [
             [
              0,
              "#0d0887"
             ],
             [
              0.1111111111111111,
              "#46039f"
             ],
             [
              0.2222222222222222,
              "#7201a8"
             ],
             [
              0.3333333333333333,
              "#9c179e"
             ],
             [
              0.4444444444444444,
              "#bd3786"
             ],
             [
              0.5555555555555556,
              "#d8576b"
             ],
             [
              0.6666666666666666,
              "#ed7953"
             ],
             [
              0.7777777777777778,
              "#fb9f3a"
             ],
             [
              0.8888888888888888,
              "#fdca26"
             ],
             [
              1,
              "#f0f921"
             ]
            ],
            "type": "histogram2dcontour"
           }
          ],
          "mesh3d": [
           {
            "colorbar": {
             "outlinewidth": 0,
             "ticks": ""
            },
            "type": "mesh3d"
           }
          ],
          "parcoords": [
           {
            "line": {
             "colorbar": {
              "outlinewidth": 0,
              "ticks": ""
             }
            },
            "type": "parcoords"
           }
          ],
          "pie": [
           {
            "automargin": true,
            "type": "pie"
           }
          ],
          "scatter": [
           {
            "marker": {
             "colorbar": {
              "outlinewidth": 0,
              "ticks": ""
             }
            },
            "type": "scatter"
           }
          ],
          "scatter3d": [
           {
            "line": {
             "colorbar": {
              "outlinewidth": 0,
              "ticks": ""
             }
            },
            "marker": {
             "colorbar": {
              "outlinewidth": 0,
              "ticks": ""
             }
            },
            "type": "scatter3d"
           }
          ],
          "scattercarpet": [
           {
            "marker": {
             "colorbar": {
              "outlinewidth": 0,
              "ticks": ""
             }
            },
            "type": "scattercarpet"
           }
          ],
          "scattergeo": [
           {
            "marker": {
             "colorbar": {
              "outlinewidth": 0,
              "ticks": ""
             }
            },
            "type": "scattergeo"
           }
          ],
          "scattergl": [
           {
            "marker": {
             "colorbar": {
              "outlinewidth": 0,
              "ticks": ""
             }
            },
            "type": "scattergl"
           }
          ],
          "scattermapbox": [
           {
            "marker": {
             "colorbar": {
              "outlinewidth": 0,
              "ticks": ""
             }
            },
            "type": "scattermapbox"
           }
          ],
          "scatterpolar": [
           {
            "marker": {
             "colorbar": {
              "outlinewidth": 0,
              "ticks": ""
             }
            },
            "type": "scatterpolar"
           }
          ],
          "scatterpolargl": [
           {
            "marker": {
             "colorbar": {
              "outlinewidth": 0,
              "ticks": ""
             }
            },
            "type": "scatterpolargl"
           }
          ],
          "scatterternary": [
           {
            "marker": {
             "colorbar": {
              "outlinewidth": 0,
              "ticks": ""
             }
            },
            "type": "scatterternary"
           }
          ],
          "surface": [
           {
            "colorbar": {
             "outlinewidth": 0,
             "ticks": ""
            },
            "colorscale": [
             [
              0,
              "#0d0887"
             ],
             [
              0.1111111111111111,
              "#46039f"
             ],
             [
              0.2222222222222222,
              "#7201a8"
             ],
             [
              0.3333333333333333,
              "#9c179e"
             ],
             [
              0.4444444444444444,
              "#bd3786"
             ],
             [
              0.5555555555555556,
              "#d8576b"
             ],
             [
              0.6666666666666666,
              "#ed7953"
             ],
             [
              0.7777777777777778,
              "#fb9f3a"
             ],
             [
              0.8888888888888888,
              "#fdca26"
             ],
             [
              1,
              "#f0f921"
             ]
            ],
            "type": "surface"
           }
          ],
          "table": [
           {
            "cells": {
             "fill": {
              "color": "#EBF0F8"
             },
             "line": {
              "color": "white"
             }
            },
            "header": {
             "fill": {
              "color": "#C8D4E3"
             },
             "line": {
              "color": "white"
             }
            },
            "type": "table"
           }
          ]
         },
         "layout": {
          "annotationdefaults": {
           "arrowcolor": "#2a3f5f",
           "arrowhead": 0,
           "arrowwidth": 1
          },
          "coloraxis": {
           "colorbar": {
            "outlinewidth": 0,
            "ticks": ""
           }
          },
          "colorscale": {
           "diverging": [
            [
             0,
             "#8e0152"
            ],
            [
             0.1,
             "#c51b7d"
            ],
            [
             0.2,
             "#de77ae"
            ],
            [
             0.3,
             "#f1b6da"
            ],
            [
             0.4,
             "#fde0ef"
            ],
            [
             0.5,
             "#f7f7f7"
            ],
            [
             0.6,
             "#e6f5d0"
            ],
            [
             0.7,
             "#b8e186"
            ],
            [
             0.8,
             "#7fbc41"
            ],
            [
             0.9,
             "#4d9221"
            ],
            [
             1,
             "#276419"
            ]
           ],
           "sequential": [
            [
             0,
             "#0d0887"
            ],
            [
             0.1111111111111111,
             "#46039f"
            ],
            [
             0.2222222222222222,
             "#7201a8"
            ],
            [
             0.3333333333333333,
             "#9c179e"
            ],
            [
             0.4444444444444444,
             "#bd3786"
            ],
            [
             0.5555555555555556,
             "#d8576b"
            ],
            [
             0.6666666666666666,
             "#ed7953"
            ],
            [
             0.7777777777777778,
             "#fb9f3a"
            ],
            [
             0.8888888888888888,
             "#fdca26"
            ],
            [
             1,
             "#f0f921"
            ]
           ],
           "sequentialminus": [
            [
             0,
             "#0d0887"
            ],
            [
             0.1111111111111111,
             "#46039f"
            ],
            [
             0.2222222222222222,
             "#7201a8"
            ],
            [
             0.3333333333333333,
             "#9c179e"
            ],
            [
             0.4444444444444444,
             "#bd3786"
            ],
            [
             0.5555555555555556,
             "#d8576b"
            ],
            [
             0.6666666666666666,
             "#ed7953"
            ],
            [
             0.7777777777777778,
             "#fb9f3a"
            ],
            [
             0.8888888888888888,
             "#fdca26"
            ],
            [
             1,
             "#f0f921"
            ]
           ]
          },
          "colorway": [
           "#636efa",
           "#EF553B",
           "#00cc96",
           "#ab63fa",
           "#FFA15A",
           "#19d3f3",
           "#FF6692",
           "#B6E880",
           "#FF97FF",
           "#FECB52"
          ],
          "font": {
           "color": "#2a3f5f"
          },
          "geo": {
           "bgcolor": "white",
           "lakecolor": "white",
           "landcolor": "#E5ECF6",
           "showlakes": true,
           "showland": true,
           "subunitcolor": "white"
          },
          "hoverlabel": {
           "align": "left"
          },
          "hovermode": "closest",
          "mapbox": {
           "style": "light"
          },
          "paper_bgcolor": "white",
          "plot_bgcolor": "#E5ECF6",
          "polar": {
           "angularaxis": {
            "gridcolor": "white",
            "linecolor": "white",
            "ticks": ""
           },
           "bgcolor": "#E5ECF6",
           "radialaxis": {
            "gridcolor": "white",
            "linecolor": "white",
            "ticks": ""
           }
          },
          "scene": {
           "xaxis": {
            "backgroundcolor": "#E5ECF6",
            "gridcolor": "white",
            "gridwidth": 2,
            "linecolor": "white",
            "showbackground": true,
            "ticks": "",
            "zerolinecolor": "white"
           },
           "yaxis": {
            "backgroundcolor": "#E5ECF6",
            "gridcolor": "white",
            "gridwidth": 2,
            "linecolor": "white",
            "showbackground": true,
            "ticks": "",
            "zerolinecolor": "white"
           },
           "zaxis": {
            "backgroundcolor": "#E5ECF6",
            "gridcolor": "white",
            "gridwidth": 2,
            "linecolor": "white",
            "showbackground": true,
            "ticks": "",
            "zerolinecolor": "white"
           }
          },
          "shapedefaults": {
           "line": {
            "color": "#2a3f5f"
           }
          },
          "ternary": {
           "aaxis": {
            "gridcolor": "white",
            "linecolor": "white",
            "ticks": ""
           },
           "baxis": {
            "gridcolor": "white",
            "linecolor": "white",
            "ticks": ""
           },
           "bgcolor": "#E5ECF6",
           "caxis": {
            "gridcolor": "white",
            "linecolor": "white",
            "ticks": ""
           }
          },
          "title": {
           "x": 0.05
          },
          "xaxis": {
           "automargin": true,
           "gridcolor": "white",
           "linecolor": "white",
           "ticks": "",
           "title": {
            "standoff": 15
           },
           "zerolinecolor": "white",
           "zerolinewidth": 2
          },
          "yaxis": {
           "automargin": true,
           "gridcolor": "white",
           "linecolor": "white",
           "ticks": "",
           "title": {
            "standoff": 15
           },
           "zerolinecolor": "white",
           "zerolinewidth": 2
          }
         }
        },
        "title": {
         "text": "2D Cluster PCA Plot"
        },
        "xaxis": {
         "anchor": "y",
         "domain": [
          0,
          1
         ],
         "title": {
          "text": "PCA1"
         }
        },
        "yaxis": {
         "anchor": "x",
         "domain": [
          0,
          1
         ],
         "title": {
          "text": "PCA2"
         }
        }
       }
      },
      "text/html": [
       "<div>\n",
       "        \n",
       "        \n",
       "            <div id=\"d7ed9aae-e198-4ac2-9733-d6001da3051f\" class=\"plotly-graph-div\" style=\"height:600px; width:100%;\"></div>\n",
       "            <script type=\"text/javascript\">\n",
       "                require([\"plotly\"], function(Plotly) {\n",
       "                    window.PLOTLYENV=window.PLOTLYENV || {};\n",
       "                    \n",
       "                if (document.getElementById(\"d7ed9aae-e198-4ac2-9733-d6001da3051f\")) {\n",
       "                    Plotly.newPlot(\n",
       "                        'd7ed9aae-e198-4ac2-9733-d6001da3051f',\n",
       "                        [{\"customdata\": [[1], [2], [3], [4], [5], [6], [7], [8], [9], [10], [11], [12], [13], [14], [15], [16], [17], [18], [19], [20], [21], [22], [23], [24], [25], [26], [27], [28], [29], [30], [31], [32], [33], [34], [35], [36], [37], [38], [39], [40], [41], [42], [43], [44], [45], [46], [47], [48], [49], [50]], \"hoverlabel\": {\"namelength\": 0}, \"hovertemplate\": \"Cluster=Cluster 0<br>PCA1=%{x}<br>PCA2=%{y}<br>Feature=%{customdata[0]}\", \"legendgroup\": \"Cluster=Cluster 0\", \"marker\": {\"color\": \"#636efa\", \"opacity\": 0.5, \"symbol\": \"circle\"}, \"mode\": \"markers\", \"name\": \"Cluster=Cluster 0\", \"showlegend\": true, \"textposition\": \"top center\", \"type\": \"scatter\", \"x\": [-2.684207125103951, -2.562390946836749, -2.639821268376581, -2.6328479080307585, -2.588462051303392, -2.4100773371215958, -2.6476366733969, -2.597159477075918, -2.6738446867191215, -2.8669998469325346, -2.6252284646804207, -2.4690559975451234, -2.981842664853909, -2.7701389107463243, -2.8522110815663924, -2.998296442832352, -2.4055141012847017, -2.2088329541767053, -2.715665190747455, -2.5375733710135067, -2.840321296827009, -2.5426857570770482, -2.7039123148636506, -2.590323025585674, -2.507917226837881, -2.6738446867191215, -2.303128537663883, -2.3561710866838985, -2.7153906156341314, -2.889819539617917, -2.746437197308735, -2.7285929818313144, -2.2798973610095974, -2.8208906821806305, -2.887958565335635, -2.6738446867191215, -2.506526789338903, -2.6131427182710563, -2.6264819933238193, -2.5432349073036953, -3.2252004462749815, -2.6435432169411457, -2.3838693237993747, -2.622526203125808, -2.6483227324791265, -2.1990779614307625, -2.587346188917738, -2.3105317013131335, -2.7874339759970983, -3.2158576949001056], \"xaxis\": \"x\", \"y\": [0.32660731476438876, 0.3746845627501057, 0.3192900659603216, -0.1900758306336239, -0.19739307943769066, 0.41808000824761593, 0.819982632559507, 1.1000219280072683, -0.10669170375273847, 0.07719309572358712, 0.6068000084215861, 0.1378873145904178, -0.4802500488560764, 0.2710594197651672, -0.9328653674695444, -0.33430757459077687, 0.1959172576960609, 0.4426960304210028, -0.24268148289811284, 0.5103675454766057, -0.22057633827647638, 0.5862810253439883, 0.11501085217050565, 0.23605933728887282, -0.13905633991317404, -0.10669170375273847, 0.10552267842998235, -0.031209589068338137, -0.16955684755602604, -0.13734560960502765, -0.31112431575199156, 0.33392456356845474, 0.7477827132251335, -0.0821045110246806, -0.5707980263315914, -0.10669170375273847, 0.6519350136725718, 0.02152063196025816, 0.1704053489602899, 0.44003175465981537, -0.5032799094854254, 1.186194899413449, 1.344754344559862, 0.8180896745965951, 0.3191366677508847, 0.8792440880917364, 0.5204736388059678, 0.3978678215888918, -0.2277401888711062, 0.1416155716255838], \"yaxis\": \"y\"}, {\"customdata\": [[51], [52], [53], [54], [55], [56], [57], [58], [59], [60], [61], [62], [63], [64], [65], [66], [67], [68], [69], [70], [71], [72], [73], [74], [75], [76], [77], [78], [79], [80], [81], [82], [83], [84], [85], [86], [87], [88], [89], [90]], \"hoverlabel\": {\"namelength\": 0}, \"hovertemplate\": \"Cluster=Cluster 1<br>PCA1=%{x}<br>PCA2=%{y}<br>Feature=%{customdata[0]}\", \"legendgroup\": \"Cluster=Cluster 1\", \"marker\": {\"color\": \"#EF553B\", \"opacity\": 0.5, \"symbol\": \"circle\"}, \"mode\": \"markers\", \"name\": \"Cluster=Cluster 1\", \"showlegend\": true, \"textposition\": \"top center\", \"type\": \"scatter\", \"x\": [1.6619349470194875, 1.4140722251737574, 0.6416902781665436, 0.8901604456511565, 0.8124555489980023, 1.2204289662446803, 0.8072054966767168, 1.3787369827755829, 1.8023404526607338, 0.81286779036907, 1.3445942175098242, 1.7640459355269833, 1.298329824567816, 1.1980973722749628, 1.387668250181556, 1.2576251829251366, 1.2906696477376018, 1.443102604375975, 1.7796401068985703, 1.1688534694704038, 1.4140722251737574, 1.5256636313138732, 1.557396272070703, 1.5852672993086439, 1.3310414188547206, 0.7140082136428338, 1.3896661333194171, 1.095223709938479, 1.0432977807062815, 1.0871344872070012, 0.8996408632837767, 0.9840445451694313, 1.4640613227790762, 0.9275729420327005, 1.2847945878450724, 0.9423617073988421, 0.9324107529829184, 1.1162407237538159, 1.2964688502855344, 0.9205026489090096], \"xaxis\": \"x\", \"y\": [0.24203840103752228, -0.5749250559123046, 0.019071176491270634, -0.033812442746762705, -0.16233157487863328, 0.40803533700101713, 0.19505396377111164, -0.42120513821462824, -0.21615460662653635, -0.3706789983189099, -0.7764154251768248, 0.07851918642935737, -0.7610139365215078, -0.6055789617645941, -0.20403098657015478, -0.17913699742322284, -0.1164252518293724, -0.1438012890827262, -0.5014647947060156, -0.1645024998150898, -0.5749250559123046, -0.37502084819182296, 0.26739258481276457, -0.5393070538471717, 0.24466952060228886, 0.15037915314843694, -0.28288670917226894, 0.28389121093848035, 0.2289569087770065, 0.07539038928876732, 0.3296109795818836, -0.12436042022227795, 0.5041898329724526, 0.4682362050431168, 0.6854391861329195, -0.5418222581500143, 0.3191980898336486, -0.08421401387837321, -0.3275615197949443, -0.18239036332792105], \"yaxis\": \"y\"}, {\"customdata\": [[91], [92], [93], [94], [95], [96], [97], [98], [99], [100], [101], [102], [103], [104], [105], [106], [107], [108], [109], [110], [111], [112], [113], [114], [115], [116], [117], [118]], \"hoverlabel\": {\"namelength\": 0}, \"hovertemplate\": \"Cluster=Cluster 2<br>PCA1=%{x}<br>PCA2=%{y}<br>Feature=%{customdata[0]}\", \"legendgroup\": \"Cluster=Cluster 2\", \"marker\": {\"color\": \"#00cc96\", \"opacity\": 0.5, \"symbol\": \"circle\"}, \"mode\": \"markers\", \"name\": \"Cluster=Cluster 2\", \"showlegend\": true, \"textposition\": \"top center\", \"type\": \"scatter\", \"x\": [-0.010190070727853665, 0.18096720634769858, -0.3073347556634044, 0.5110980606834776, 0.2623357561531801, -0.07034288894927178, -0.19188449210314582, -0.1748640019656962, 0.043246400328704644, 0.13499495045137344, 0.5193832450849353, 0.6404367495231454, -0.7514671406482277, 0.35553303918706347, 0.2451951616903461, 0.16451342836925556, 0.46303098887142413, 0.2345405862598357, 0.2288790499696476, -0.7070812839208613, 0.3567865678304615, -0.5110861958950914, 0.37523822894676584, 0.6595927890562004, -0.9084633331234957, 0.29780790740693397, 0.5872748535799109, 0.33112694733272274], \"xaxis\": \"x\", \"y\": [-0.7205748667019012, -0.8256039435761132, -0.36508661276616033, -0.10228410504597017, -0.5478932980253368, -0.7025379317307258, -0.6774905443743571, -0.25181557108017044, -0.5814894466123586, -0.3117096427033962, -1.1913516890506526, -0.4173234829700255, -1.0011075129743938, -0.5032184874026622, -0.26672803566184783, -0.6796614693108135, -0.6695265465361223, -0.3319218293621204, -0.4022576201789113, -1.0084247617784607, -0.0668238279413663, -1.2624919538621402, -0.29162202480877963, -0.35197629106031625, -0.7515687251694853, -0.3470165215985638, -0.48328426771748206, -0.21118014066262653], \"yaxis\": \"y\"}, {\"customdata\": [[119], [120], [121], [122], [123], [124], [125], [126], [127], [128], [129], [130], [131], [132], [133], [134], [135], [136], [137], [138], [139], [140], [141], [142], [143], [144], [145], [146], [147], [148], [149], [150]], \"hoverlabel\": {\"namelength\": 0}, \"hovertemplate\": \"Cluster=Cluster 3<br>PCA1=%{x}<br>PCA2=%{y}<br>Feature=%{customdata[0]}\", \"legendgroup\": \"Cluster=Cluster 3\", \"marker\": {\"color\": \"#ab63fa\", \"opacity\": 0.5, \"symbol\": \"circle\"}, \"mode\": \"markers\", \"name\": \"Cluster=Cluster 3\", \"showlegend\": true, \"textposition\": \"top center\", \"type\": \"scatter\", \"x\": [2.158738373133135, 3.076521621020663, 1.9224508848357535, 1.9048629251371325, 2.1076537311732695, 2.314303394629549, 2.56332271234081, 2.419391219804981, 1.9440170488777382, 3.232342898295877, 2.1449868567093042, 2.840960925285385, 1.9016290752882328, 2.1228539805083138, 2.531726980439559, 2.6164846082840443, 1.9708149459064823, 2.349757983950943, 3.3968799206781397, 2.9320050969913027, 2.3196727938740542, 2.387564402369029, 2.9181342336442526, 1.9492487818644983, 3.488765379656388, 3.7946868612099713, 2.428167259020849, 3.499265484298958, 2.2758536493056947, 2.6141938306983348, 1.904743578213913, 2.165378862953398], \"xaxis\": \"x\", \"y\": [-0.2183255315629932, 0.685764442246056, 0.4092711761786953, 0.048047508231834554, 0.37148224917710554, 0.18260885079369849, 0.275974502239838, 0.3035039377026287, 0.18741522204601374, 1.370524035976333, 0.1389066088773147, 0.3727425910490208, 0.11587674824796587, -0.21085488454948986, -0.01184223664030011, 0.3419352869872945, -0.18112569470491366, -0.04188254965484179, 0.5471680462301522, 0.3523770061808593, -0.24554817060691042, 0.46251925072626004, 0.780380629372032, 0.04073025942776777, 1.1715445442635635, 0.253265570972534, 0.3767819712541523, 0.4567734669640739, 0.333386525756642, 0.5583669502788219, 0.11881899098269859, 0.21528028337300698], \"yaxis\": \"y\"}],\n",
       "                        {\"height\": 600, \"legend\": {\"tracegroupgap\": 0}, \"margin\": {\"t\": 60}, \"plot_bgcolor\": \"rgb(240,240,240)\", \"template\": {\"data\": {\"bar\": [{\"error_x\": {\"color\": \"#2a3f5f\"}, \"error_y\": {\"color\": \"#2a3f5f\"}, \"marker\": {\"line\": {\"color\": \"#E5ECF6\", \"width\": 0.5}}, \"type\": \"bar\"}], \"barpolar\": [{\"marker\": {\"line\": {\"color\": \"#E5ECF6\", \"width\": 0.5}}, \"type\": \"barpolar\"}], \"carpet\": [{\"aaxis\": {\"endlinecolor\": \"#2a3f5f\", \"gridcolor\": \"white\", \"linecolor\": \"white\", \"minorgridcolor\": \"white\", \"startlinecolor\": \"#2a3f5f\"}, \"baxis\": {\"endlinecolor\": \"#2a3f5f\", \"gridcolor\": \"white\", \"linecolor\": \"white\", \"minorgridcolor\": \"white\", \"startlinecolor\": \"#2a3f5f\"}, \"type\": \"carpet\"}], \"choropleth\": [{\"colorbar\": {\"outlinewidth\": 0, \"ticks\": \"\"}, \"type\": \"choropleth\"}], \"contour\": [{\"colorbar\": {\"outlinewidth\": 0, \"ticks\": \"\"}, \"colorscale\": [[0.0, \"#0d0887\"], [0.1111111111111111, \"#46039f\"], [0.2222222222222222, \"#7201a8\"], [0.3333333333333333, \"#9c179e\"], [0.4444444444444444, \"#bd3786\"], [0.5555555555555556, \"#d8576b\"], [0.6666666666666666, \"#ed7953\"], [0.7777777777777778, \"#fb9f3a\"], [0.8888888888888888, \"#fdca26\"], [1.0, \"#f0f921\"]], \"type\": \"contour\"}], \"contourcarpet\": [{\"colorbar\": {\"outlinewidth\": 0, \"ticks\": \"\"}, \"type\": \"contourcarpet\"}], \"heatmap\": [{\"colorbar\": {\"outlinewidth\": 0, \"ticks\": \"\"}, \"colorscale\": [[0.0, \"#0d0887\"], [0.1111111111111111, \"#46039f\"], [0.2222222222222222, \"#7201a8\"], [0.3333333333333333, \"#9c179e\"], [0.4444444444444444, \"#bd3786\"], [0.5555555555555556, \"#d8576b\"], [0.6666666666666666, \"#ed7953\"], [0.7777777777777778, \"#fb9f3a\"], [0.8888888888888888, \"#fdca26\"], [1.0, \"#f0f921\"]], \"type\": \"heatmap\"}], \"heatmapgl\": [{\"colorbar\": {\"outlinewidth\": 0, \"ticks\": \"\"}, \"colorscale\": [[0.0, \"#0d0887\"], [0.1111111111111111, \"#46039f\"], [0.2222222222222222, \"#7201a8\"], [0.3333333333333333, \"#9c179e\"], [0.4444444444444444, \"#bd3786\"], [0.5555555555555556, \"#d8576b\"], [0.6666666666666666, \"#ed7953\"], [0.7777777777777778, \"#fb9f3a\"], [0.8888888888888888, \"#fdca26\"], [1.0, \"#f0f921\"]], \"type\": \"heatmapgl\"}], \"histogram\": [{\"marker\": {\"colorbar\": {\"outlinewidth\": 0, \"ticks\": \"\"}}, \"type\": \"histogram\"}], \"histogram2d\": [{\"colorbar\": {\"outlinewidth\": 0, \"ticks\": \"\"}, \"colorscale\": [[0.0, \"#0d0887\"], [0.1111111111111111, \"#46039f\"], [0.2222222222222222, \"#7201a8\"], [0.3333333333333333, \"#9c179e\"], [0.4444444444444444, \"#bd3786\"], [0.5555555555555556, \"#d8576b\"], [0.6666666666666666, \"#ed7953\"], [0.7777777777777778, \"#fb9f3a\"], [0.8888888888888888, \"#fdca26\"], [1.0, \"#f0f921\"]], \"type\": \"histogram2d\"}], \"histogram2dcontour\": [{\"colorbar\": {\"outlinewidth\": 0, \"ticks\": \"\"}, \"colorscale\": [[0.0, \"#0d0887\"], [0.1111111111111111, \"#46039f\"], [0.2222222222222222, \"#7201a8\"], [0.3333333333333333, \"#9c179e\"], [0.4444444444444444, \"#bd3786\"], [0.5555555555555556, \"#d8576b\"], [0.6666666666666666, \"#ed7953\"], [0.7777777777777778, \"#fb9f3a\"], [0.8888888888888888, \"#fdca26\"], [1.0, \"#f0f921\"]], \"type\": \"histogram2dcontour\"}], \"mesh3d\": [{\"colorbar\": {\"outlinewidth\": 0, \"ticks\": \"\"}, \"type\": \"mesh3d\"}], \"parcoords\": [{\"line\": {\"colorbar\": {\"outlinewidth\": 0, \"ticks\": \"\"}}, \"type\": \"parcoords\"}], \"pie\": [{\"automargin\": true, \"type\": \"pie\"}], \"scatter\": [{\"marker\": {\"colorbar\": {\"outlinewidth\": 0, \"ticks\": \"\"}}, \"type\": \"scatter\"}], \"scatter3d\": [{\"line\": {\"colorbar\": {\"outlinewidth\": 0, \"ticks\": \"\"}}, \"marker\": {\"colorbar\": {\"outlinewidth\": 0, \"ticks\": \"\"}}, \"type\": \"scatter3d\"}], \"scattercarpet\": [{\"marker\": {\"colorbar\": {\"outlinewidth\": 0, \"ticks\": \"\"}}, \"type\": \"scattercarpet\"}], \"scattergeo\": [{\"marker\": {\"colorbar\": {\"outlinewidth\": 0, \"ticks\": \"\"}}, \"type\": \"scattergeo\"}], \"scattergl\": [{\"marker\": {\"colorbar\": {\"outlinewidth\": 0, \"ticks\": \"\"}}, \"type\": \"scattergl\"}], \"scattermapbox\": [{\"marker\": {\"colorbar\": {\"outlinewidth\": 0, \"ticks\": \"\"}}, \"type\": \"scattermapbox\"}], \"scatterpolar\": [{\"marker\": {\"colorbar\": {\"outlinewidth\": 0, \"ticks\": \"\"}}, \"type\": \"scatterpolar\"}], \"scatterpolargl\": [{\"marker\": {\"colorbar\": {\"outlinewidth\": 0, \"ticks\": \"\"}}, \"type\": \"scatterpolargl\"}], \"scatterternary\": [{\"marker\": {\"colorbar\": {\"outlinewidth\": 0, \"ticks\": \"\"}}, \"type\": \"scatterternary\"}], \"surface\": [{\"colorbar\": {\"outlinewidth\": 0, \"ticks\": \"\"}, \"colorscale\": [[0.0, \"#0d0887\"], [0.1111111111111111, \"#46039f\"], [0.2222222222222222, \"#7201a8\"], [0.3333333333333333, \"#9c179e\"], [0.4444444444444444, \"#bd3786\"], [0.5555555555555556, \"#d8576b\"], [0.6666666666666666, \"#ed7953\"], [0.7777777777777778, \"#fb9f3a\"], [0.8888888888888888, \"#fdca26\"], [1.0, \"#f0f921\"]], \"type\": \"surface\"}], \"table\": [{\"cells\": {\"fill\": {\"color\": \"#EBF0F8\"}, \"line\": {\"color\": \"white\"}}, \"header\": {\"fill\": {\"color\": \"#C8D4E3\"}, \"line\": {\"color\": \"white\"}}, \"type\": \"table\"}]}, \"layout\": {\"annotationdefaults\": {\"arrowcolor\": \"#2a3f5f\", \"arrowhead\": 0, \"arrowwidth\": 1}, \"coloraxis\": {\"colorbar\": {\"outlinewidth\": 0, \"ticks\": \"\"}}, \"colorscale\": {\"diverging\": [[0, \"#8e0152\"], [0.1, \"#c51b7d\"], [0.2, \"#de77ae\"], [0.3, \"#f1b6da\"], [0.4, \"#fde0ef\"], [0.5, \"#f7f7f7\"], [0.6, \"#e6f5d0\"], [0.7, \"#b8e186\"], [0.8, \"#7fbc41\"], [0.9, \"#4d9221\"], [1, \"#276419\"]], \"sequential\": [[0.0, \"#0d0887\"], [0.1111111111111111, \"#46039f\"], [0.2222222222222222, \"#7201a8\"], [0.3333333333333333, \"#9c179e\"], [0.4444444444444444, \"#bd3786\"], [0.5555555555555556, \"#d8576b\"], [0.6666666666666666, \"#ed7953\"], [0.7777777777777778, \"#fb9f3a\"], [0.8888888888888888, \"#fdca26\"], [1.0, \"#f0f921\"]], \"sequentialminus\": [[0.0, \"#0d0887\"], [0.1111111111111111, \"#46039f\"], [0.2222222222222222, \"#7201a8\"], [0.3333333333333333, \"#9c179e\"], [0.4444444444444444, \"#bd3786\"], [0.5555555555555556, \"#d8576b\"], [0.6666666666666666, \"#ed7953\"], [0.7777777777777778, \"#fb9f3a\"], [0.8888888888888888, \"#fdca26\"], [1.0, \"#f0f921\"]]}, \"colorway\": [\"#636efa\", \"#EF553B\", \"#00cc96\", \"#ab63fa\", \"#FFA15A\", \"#19d3f3\", \"#FF6692\", \"#B6E880\", \"#FF97FF\", \"#FECB52\"], \"font\": {\"color\": \"#2a3f5f\"}, \"geo\": {\"bgcolor\": \"white\", \"lakecolor\": \"white\", \"landcolor\": \"#E5ECF6\", \"showlakes\": true, \"showland\": true, \"subunitcolor\": \"white\"}, \"hoverlabel\": {\"align\": \"left\"}, \"hovermode\": \"closest\", \"mapbox\": {\"style\": \"light\"}, \"paper_bgcolor\": \"white\", \"plot_bgcolor\": \"#E5ECF6\", \"polar\": {\"angularaxis\": {\"gridcolor\": \"white\", \"linecolor\": \"white\", \"ticks\": \"\"}, \"bgcolor\": \"#E5ECF6\", \"radialaxis\": {\"gridcolor\": \"white\", \"linecolor\": \"white\", \"ticks\": \"\"}}, \"scene\": {\"xaxis\": {\"backgroundcolor\": \"#E5ECF6\", \"gridcolor\": \"white\", \"gridwidth\": 2, \"linecolor\": \"white\", \"showbackground\": true, \"ticks\": \"\", \"zerolinecolor\": \"white\"}, \"yaxis\": {\"backgroundcolor\": \"#E5ECF6\", \"gridcolor\": \"white\", \"gridwidth\": 2, \"linecolor\": \"white\", \"showbackground\": true, \"ticks\": \"\", \"zerolinecolor\": \"white\"}, \"zaxis\": {\"backgroundcolor\": \"#E5ECF6\", \"gridcolor\": \"white\", \"gridwidth\": 2, \"linecolor\": \"white\", \"showbackground\": true, \"ticks\": \"\", \"zerolinecolor\": \"white\"}}, \"shapedefaults\": {\"line\": {\"color\": \"#2a3f5f\"}}, \"ternary\": {\"aaxis\": {\"gridcolor\": \"white\", \"linecolor\": \"white\", \"ticks\": \"\"}, \"baxis\": {\"gridcolor\": \"white\", \"linecolor\": \"white\", \"ticks\": \"\"}, \"bgcolor\": \"#E5ECF6\", \"caxis\": {\"gridcolor\": \"white\", \"linecolor\": \"white\", \"ticks\": \"\"}}, \"title\": {\"x\": 0.05}, \"xaxis\": {\"automargin\": true, \"gridcolor\": \"white\", \"linecolor\": \"white\", \"ticks\": \"\", \"title\": {\"standoff\": 15}, \"zerolinecolor\": \"white\", \"zerolinewidth\": 2}, \"yaxis\": {\"automargin\": true, \"gridcolor\": \"white\", \"linecolor\": \"white\", \"ticks\": \"\", \"title\": {\"standoff\": 15}, \"zerolinecolor\": \"white\", \"zerolinewidth\": 2}}}, \"title\": {\"text\": \"2D Cluster PCA Plot\"}, \"xaxis\": {\"anchor\": \"y\", \"domain\": [0.0, 1.0], \"title\": {\"text\": \"PCA1\"}}, \"yaxis\": {\"anchor\": \"x\", \"domain\": [0.0, 1.0], \"title\": {\"text\": \"PCA2\"}}},\n",
       "                        {\"responsive\": true}\n",
       "                    ).then(function(){\n",
       "                            \n",
       "var gd = document.getElementById('d7ed9aae-e198-4ac2-9733-d6001da3051f');\n",
       "var x = new MutationObserver(function (mutations, observer) {{\n",
       "        var display = window.getComputedStyle(gd).display;\n",
       "        if (!display || display === 'none') {{\n",
       "            console.log([gd, 'removed!']);\n",
       "            Plotly.purge(gd);\n",
       "            observer.disconnect();\n",
       "        }}\n",
       "}});\n",
       "\n",
       "// Listen for the removal of the full notebook cells\n",
       "var notebookContainer = gd.closest('#notebook-container');\n",
       "if (notebookContainer) {{\n",
       "    x.observe(notebookContainer, {childList: true});\n",
       "}}\n",
       "\n",
       "// Listen for the clearing of the current output cell\n",
       "var outputEl = gd.closest('.output');\n",
       "if (outputEl) {{\n",
       "    x.observe(outputEl, {childList: true});\n",
       "}}\n",
       "\n",
       "                        })\n",
       "                };\n",
       "                });\n",
       "            </script>\n",
       "        </div>"
      ]
     },
     "metadata": {},
     "output_type": "display_data"
    }
   ],
   "source": [
    "plot_model(kmeans)"
   ]
  },
  {
   "cell_type": "code",
   "execution_count": 53,
   "metadata": {},
   "outputs": [
    {
     "data": {
      "text/html": [
       "        <script type=\"text/javascript\">\n",
       "        window.PlotlyConfig = {MathJaxConfig: 'local'};\n",
       "        if (window.MathJax) {MathJax.Hub.Config({SVG: {font: \"STIX-Web\"}});}\n",
       "        if (typeof require !== 'undefined') {\n",
       "        require.undef(\"plotly\");\n",
       "        requirejs.config({\n",
       "            paths: {\n",
       "                'plotly': ['https://cdn.plot.ly/plotly-latest.min']\n",
       "            }\n",
       "        });\n",
       "        require(['plotly'], function(Plotly) {\n",
       "            window._Plotly = Plotly;\n",
       "        });\n",
       "        }\n",
       "        </script>\n",
       "        "
      ]
     },
     "metadata": {},
     "output_type": "display_data"
    },
    {
     "data": {
      "image/png": "[encoded data removed]",
      "text/plain": [
       "<Figure size 576x396 with 1 Axes>"
      ]
     },
     "metadata": {},
     "output_type": "display_data"
    }
   ],
   "source": [
    "plot_model(kmeans,plot='elbow')"
   ]
  },
  {
   "cell_type": "code",
   "execution_count": 54,
   "metadata": {},
   "outputs": [
    {
     "data": {
      "text/html": [
       "        <script type=\"text/javascript\">\n",
       "        window.PlotlyConfig = {MathJaxConfig: 'local'};\n",
       "        if (window.MathJax) {MathJax.Hub.Config({SVG: {font: \"STIX-Web\"}});}\n",
       "        if (typeof require !== 'undefined') {\n",
       "        require.undef(\"plotly\");\n",
       "        requirejs.config({\n",
       "            paths: {\n",
       "                'plotly': ['https://cdn.plot.ly/plotly-latest.min']\n",
       "            }\n",
       "        });\n",
       "        require(['plotly'], function(Plotly) {\n",
       "            window._Plotly = Plotly;\n",
       "        });\n",
       "        }\n",
       "        </script>\n",
       "        "
      ]
     },
     "metadata": {},
     "output_type": "display_data"
    },
    {
     "data": {
      "image/png": "[encoded data removed]",
      "text/plain": [
       "<Figure size 576x396 with 1 Axes>"
      ]
     },
     "metadata": {},
     "output_type": "display_data"
    }
   ],
   "source": [
    "plot_model(kmeans,plot='silhouette')"
   ]
  },
  {
   "cell_type": "code",
   "execution_count": 55,
   "metadata": {},
   "outputs": [
    {
     "data": {
      "text/html": [
       "        <script type=\"text/javascript\">\n",
       "        window.PlotlyConfig = {MathJaxConfig: 'local'};\n",
       "        if (window.MathJax) {MathJax.Hub.Config({SVG: {font: \"STIX-Web\"}});}\n",
       "        if (typeof require !== 'undefined') {\n",
       "        require.undef(\"plotly\");\n",
       "        requirejs.config({\n",
       "            paths: {\n",
       "                'plotly': ['https://cdn.plot.ly/plotly-latest.min']\n",
       "            }\n",
       "        });\n",
       "        require(['plotly'], function(Plotly) {\n",
       "            window._Plotly = Plotly;\n",
       "        });\n",
       "        }\n",
       "        </script>\n",
       "        "
      ]
     },
     "metadata": {},
     "output_type": "display_data"
    },
    {
     "data": {
      "application/vnd.plotly.v1+json": {
       "config": {
        "plotlyServerURL": "https://plot.ly"
       },
       "data": [
        {
         "alignmentgroup": "True",
         "bingroup": "x",
         "hoverlabel": {
          "namelength": 0
         },
         "hovertemplate": "Cluster=%{x}<br>count=%{y}",
         "legendgroup": "Cluster=Cluster 0",
         "marker": {
          "color": "#636efa",
          "opacity": 0.7
         },
         "name": "Cluster=Cluster 0",
         "offsetgroup": "Cluster=Cluster 0",
         "orientation": "v",
         "showlegend": true,
         "type": "histogram",
         "x": [
          "Cluster 0",
          "Cluster 0",
          "Cluster 0",
          "Cluster 0",
          "Cluster 0",
          "Cluster 0",
          "Cluster 0",
          "Cluster 0",
          "Cluster 0",
          "Cluster 0",
          "Cluster 0",
          "Cluster 0",
          "Cluster 0",
          "Cluster 0",
          "Cluster 0",
          "Cluster 0",
          "Cluster 0",
          "Cluster 0",
          "Cluster 0",
          "Cluster 0",
          "Cluster 0",
          "Cluster 0",
          "Cluster 0",
          "Cluster 0",
          "Cluster 0",
          "Cluster 0",
          "Cluster 0",
          "Cluster 0",
          "Cluster 0",
          "Cluster 0",
          "Cluster 0",
          "Cluster 0",
          "Cluster 0",
          "Cluster 0",
          "Cluster 0",
          "Cluster 0",
          "Cluster 0",
          "Cluster 0",
          "Cluster 0",
          "Cluster 0",
          "Cluster 0",
          "Cluster 0",
          "Cluster 0",
          "Cluster 0",
          "Cluster 0",
          "Cluster 0",
          "Cluster 0",
          "Cluster 0",
          "Cluster 0",
          "Cluster 0"
         ],
         "xaxis": "x",
         "yaxis": "y"
        },
        {
         "alignmentgroup": "True",
         "customdata": [
          [
           1,
           5.1,
           3.5,
           1.4,
           0.2,
           "Iris-setosa",
           "Cluster 0"
          ],
          [
           28,
           5.2,
           3.5,
           1.5,
           0.2,
           "Iris-setosa",
           "Cluster 0"
          ],
          [
           29,
           5.2,
           3.4,
           1.4,
           0.2,
           "Iris-setosa",
           "Cluster 0"
          ],
          [
           30,
           4.7,
           3.2,
           1.6,
           0.2,
           "Iris-setosa",
           "Cluster 0"
          ],
          [
           31,
           4.8,
           3.1,
           1.6,
           0.2,
           "Iris-setosa",
           "Cluster 0"
          ],
          [
           32,
           5.4,
           3.4,
           1.5,
           0.4,
           "Iris-setosa",
           "Cluster 0"
          ],
          [
           33,
           5.2,
           4.1,
           1.5,
           0.1,
           "Iris-setosa",
           "Cluster 0"
          ],
          [
           34,
           5.5,
           4.2,
           1.4,
           0.2,
           "Iris-setosa",
           "Cluster 0"
          ],
          [
           35,
           4.9,
           3.1,
           1.5,
           0.1,
           "Iris-setosa",
           "Cluster 0"
          ],
          [
           36,
           5,
           3.2,
           1.2,
           0.2,
           "Iris-setosa",
           "Cluster 0"
          ],
          [
           37,
           5.5,
           3.5,
           1.3,
           0.2,
           "Iris-setosa",
           "Cluster 0"
          ],
          [
           27,
           5,
           3.4,
           1.6,
           0.4,
           "Iris-setosa",
           "Cluster 0"
          ],
          [
           39,
           4.4,
           3,
           1.3,
           0.2,
           "Iris-setosa",
           "Cluster 0"
          ],
          [
           41,
           5,
           3.5,
           1.3,
           0.3,
           "Iris-setosa",
           "Cluster 0"
          ],
          [
           42,
           4.5,
           2.3,
           1.3,
           0.3,
           "Iris-setosa",
           "Cluster 0"
          ],
          [
           43,
           4.4,
           3.2,
           1.3,
           0.2,
           "Iris-setosa",
           "Cluster 0"
          ],
          [
           44,
           5,
           3.5,
           1.6,
           0.6,
           "Iris-setosa",
           "Cluster 0"
          ],
          [
           45,
           5.1,
           3.8,
           1.9,
           0.4,
           "Iris-setosa",
           "Cluster 0"
          ],
          [
           46,
           4.8,
           3,
           1.4,
           0.3,
           "Iris-setosa",
           "Cluster 0"
          ],
          [
           47,
           5.1,
           3.8,
           1.6,
           0.2,
           "Iris-setosa",
           "Cluster 0"
          ],
          [
           48,
           4.6,
           3.2,
           1.4,
           0.2,
           "Iris-setosa",
           "Cluster 0"
          ],
          [
           49,
           5.3,
           3.7,
           1.5,
           0.2,
           "Iris-setosa",
           "Cluster 0"
          ],
          [
           50,
           5,
           3.3,
           1.4,
           0.2,
           "Iris-setosa",
           "Cluster 0"
          ],
          [
           40,
           5.1,
           3.4,
           1.5,
           0.2,
           "Iris-setosa",
           "Cluster 0"
          ],
          [
           26,
           5,
           3,
           1.6,
           0.2,
           "Iris-setosa",
           "Cluster 0"
          ],
          [
           38,
           4.9,
           3.1,
           1.5,
           0.1,
           "Iris-setosa",
           "Cluster 0"
          ],
          [
           24,
           5.1,
           3.3,
           1.7,
           0.5,
           "Iris-setosa",
           "Cluster 0"
          ],
          [
           25,
           4.8,
           3.4,
           1.9,
           0.2,
           "Iris-setosa",
           "Cluster 0"
          ],
          [
           2,
           4.9,
           3,
           1.4,
           0.2,
           "Iris-setosa",
           "Cluster 0"
          ],
          [
           3,
           4.7,
           3.2,
           1.3,
           0.2,
           "Iris-setosa",
           "Cluster 0"
          ],
          [
           4,
           4.6,
           3.1,
           1.5,
           0.2,
           "Iris-setosa",
           "Cluster 0"
          ],
          [
           5,
           5,
           3.6,
           1.4,
           0.2,
           "Iris-setosa",
           "Cluster 0"
          ],
          [
           6,
           5.4,
           3.9,
           1.7,
           0.4,
           "Iris-setosa",
           "Cluster 0"
          ],
          [
           7,
           4.6,
           3.4,
           1.4,
           0.3,
           "Iris-setosa",
           "Cluster 0"
          ],
          [
           9,
           4.4,
           2.9,
           1.4,
           0.2,
           "Iris-setosa",
           "Cluster 0"
          ],
          [
           10,
           4.9,
           3.1,
           1.5,
           0.1,
           "Iris-setosa",
           "Cluster 0"
          ],
          [
           11,
           5.4,
           3.7,
           1.5,
           0.2,
           "Iris-setosa",
           "Cluster 0"
          ],
          [
           12,
           4.8,
           3.4,
           1.6,
           0.2,
           "Iris-setosa",
           "Cluster 0"
          ],
          [
           8,
           5,
           3.4,
           1.5,
           0.2,
           "Iris-setosa",
           "Cluster 0"
          ],
          [
           22,
           5.1,
           3.7,
           1.5,
           0.4,
           "Iris-setosa",
           "Cluster 0"
          ],
          [
           14,
           4.3,
           3,
           1.1,
           0.1,
           "Iris-setosa",
           "Cluster 0"
          ],
          [
           15,
           5.8,
           4,
           1.2,
           0.2,
           "Iris-setosa",
           "Cluster 0"
          ],
          [
           16,
           5.7,
           4.4,
           1.5,
           0.4,
           "Iris-setosa",
           "Cluster 0"
          ],
          [
           17,
           5.4,
           3.9,
           1.3,
           0.4,
           "Iris-setosa",
           "Cluster 0"
          ],
          [
           18,
           5.1,
           3.5,
           1.4,
           0.3,
           "Iris-setosa",
           "Cluster 0"
          ],
          [
           19,
           5.7,
           3.8,
           1.7,
           0.3,
           "Iris-setosa",
           "Cluster 0"
          ],
          [
           20,
           5.1,
           3.8,
           1.5,
           0.3,
           "Iris-setosa",
           "Cluster 0"
          ],
          [
           21,
           5.4,
           3.4,
           1.7,
           0.2,
           "Iris-setosa",
           "Cluster 0"
          ],
          [
           13,
           4.8,
           3,
           1.4,
           0.1,
           "Iris-setosa",
           "Cluster 0"
          ],
          [
           23,
           4.6,
           3.6,
           1,
           0.2,
           "Iris-setosa",
           "Cluster 0"
          ]
         ],
         "hoverlabel": {
          "namelength": 0
         },
         "hovertemplate": "Cluster=%{customdata[6]}<br>Id=%{customdata[0]}<br>SepalLengthCm=%{customdata[1]}<br>SepalWidthCm=%{customdata[2]}<br>PetalLengthCm=%{customdata[3]}<br>PetalWidthCm=%{customdata[4]}<br>Species=%{customdata[5]}",
         "legendgroup": "Cluster=Cluster 0",
         "marker": {
          "color": "#636efa"
         },
         "name": "Cluster=Cluster 0",
         "notched": true,
         "offsetgroup": "Cluster=Cluster 0",
         "showlegend": false,
         "type": "box",
         "x": [
          "Cluster 0",
          "Cluster 0",
          "Cluster 0",
          "Cluster 0",
          "Cluster 0",
          "Cluster 0",
          "Cluster 0",
          "Cluster 0",
          "Cluster 0",
          "Cluster 0",
          "Cluster 0",
          "Cluster 0",
          "Cluster 0",
          "Cluster 0",
          "Cluster 0",
          "Cluster 0",
          "Cluster 0",
          "Cluster 0",
          "Cluster 0",
          "Cluster 0",
          "Cluster 0",
          "Cluster 0",
          "Cluster 0",
          "Cluster 0",
          "Cluster 0",
          "Cluster 0",
          "Cluster 0",
          "Cluster 0",
          "Cluster 0",
          "Cluster 0",
          "Cluster 0",
          "Cluster 0",
          "Cluster 0",
          "Cluster 0",
          "Cluster 0",
          "Cluster 0",
          "Cluster 0",
          "Cluster 0",
          "Cluster 0",
          "Cluster 0",
          "Cluster 0",
          "Cluster 0",
          "Cluster 0",
          "Cluster 0",
          "Cluster 0",
          "Cluster 0",
          "Cluster 0",
          "Cluster 0",
          "Cluster 0",
          "Cluster 0"
         ],
         "xaxis": "x2",
         "yaxis": "y2"
        },
        {
         "alignmentgroup": "True",
         "bingroup": "x",
         "hoverlabel": {
          "namelength": 0
         },
         "hovertemplate": "Cluster=%{x}<br>count=%{y}",
         "legendgroup": "Cluster=Cluster 1",
         "marker": {
          "color": "#EF553B",
          "opacity": 0.7
         },
         "name": "Cluster=Cluster 1",
         "offsetgroup": "Cluster=Cluster 1",
         "orientation": "v",
         "showlegend": true,
         "type": "histogram",
         "x": [
          "Cluster 1",
          "Cluster 1",
          "Cluster 1",
          "Cluster 1",
          "Cluster 1",
          "Cluster 1",
          "Cluster 1",
          "Cluster 1",
          "Cluster 1",
          "Cluster 1",
          "Cluster 1",
          "Cluster 1",
          "Cluster 1",
          "Cluster 1",
          "Cluster 1",
          "Cluster 1",
          "Cluster 1",
          "Cluster 1",
          "Cluster 1",
          "Cluster 1",
          "Cluster 1",
          "Cluster 1",
          "Cluster 1",
          "Cluster 1",
          "Cluster 1",
          "Cluster 1",
          "Cluster 1",
          "Cluster 1",
          "Cluster 1",
          "Cluster 1",
          "Cluster 1",
          "Cluster 1",
          "Cluster 1",
          "Cluster 1",
          "Cluster 1",
          "Cluster 1",
          "Cluster 1",
          "Cluster 1",
          "Cluster 1",
          "Cluster 1"
         ],
         "xaxis": "x",
         "yaxis": "y"
        },
        {
         "alignmentgroup": "True",
         "customdata": [
          [
           111,
           6.5,
           3.2,
           5.1,
           2,
           "Iris-virginica",
           "Cluster 1"
          ],
          [
           102,
           5.8,
           2.7,
           5.1,
           1.9,
           "Iris-virginica",
           "Cluster 1"
          ],
          [
           98,
           6.2,
           2.9,
           4.3,
           1.3,
           "Iris-versicolor",
           "Cluster 1"
          ],
          [
           92,
           6.1,
           3,
           4.6,
           1.4,
           "Iris-versicolor",
           "Cluster 1"
          ],
          [
           79,
           6,
           2.9,
           4.5,
           1.5,
           "Iris-versicolor",
           "Cluster 1"
          ],
          [
           87,
           6.7,
           3.1,
           4.7,
           1.5,
           "Iris-versicolor",
           "Cluster 1"
          ],
          [
           86,
           6,
           3.4,
           4.5,
           1.6,
           "Iris-versicolor",
           "Cluster 1"
          ],
          [
           84,
           6,
           2.7,
           5.1,
           1.6,
           "Iris-versicolor",
           "Cluster 1"
          ],
          [
           112,
           6.4,
           2.7,
           5.3,
           1.9,
           "Iris-virginica",
           "Cluster 1"
          ],
          [
           88,
           6.3,
           2.3,
           4.4,
           1.3,
           "Iris-versicolor",
           "Cluster 1"
          ],
          [
           114,
           5.7,
           2.5,
           5,
           2,
           "Iris-virginica",
           "Cluster 1"
          ],
          [
           148,
           6.5,
           3,
           5.2,
           2,
           "Iris-virginica",
           "Cluster 1"
          ],
          [
           120,
           6,
           2.2,
           5,
           1.5,
           "Iris-virginica",
           "Cluster 1"
          ],
          [
           122,
           5.6,
           2.8,
           4.9,
           2,
           "Iris-virginica",
           "Cluster 1"
          ],
          [
           124,
           6.3,
           2.7,
           4.9,
           1.8,
           "Iris-virginica",
           "Cluster 1"
          ],
          [
           127,
           6.2,
           2.8,
           4.8,
           1.8,
           "Iris-virginica",
           "Cluster 1"
          ],
          [
           128,
           6.1,
           3,
           4.9,
           1.8,
           "Iris-virginica",
           "Cluster 1"
          ],
          [
           134,
           6.3,
           2.8,
           5.1,
           1.5,
           "Iris-virginica",
           "Cluster 1"
          ],
          [
           135,
           6.1,
           2.6,
           5.6,
           1.4,
           "Iris-virginica",
           "Cluster 1"
          ],
          [
           139,
           6,
           3,
           4.8,
           1.8,
           "Iris-virginica",
           "Cluster 1"
          ],
          [
           143,
           5.8,
           2.7,
           5.1,
           1.9,
           "Iris-virginica",
           "Cluster 1"
          ],
          [
           147,
           6.3,
           2.5,
           5,
           1.9,
           "Iris-virginica",
           "Cluster 1"
          ],
          [
           78,
           6.7,
           3,
           5,
           1.7,
           "Iris-versicolor",
           "Cluster 1"
          ],
          [
           115,
           5.8,
           2.8,
           5.1,
           2.4,
           "Iris-virginica",
           "Cluster 1"
          ],
          [
           77,
           6.8,
           2.8,
           4.8,
           1.4,
           "Iris-versicolor",
           "Cluster 1"
          ],
          [
           75,
           6.4,
           2.9,
           4.3,
           1.3,
           "Iris-versicolor",
           "Cluster 1"
          ],
          [
           150,
           5.9,
           3,
           5.1,
           1.8,
           "Iris-virginica",
           "Cluster 1"
          ],
          [
           57,
           6.3,
           3.3,
           4.7,
           1.6,
           "Iris-versicolor",
           "Cluster 1"
          ],
          [
           59,
           6.6,
           2.9,
           4.6,
           1.3,
           "Iris-versicolor",
           "Cluster 1"
          ],
          [
           55,
           6.5,
           2.8,
           4.6,
           1.5,
           "Iris-versicolor",
           "Cluster 1"
          ],
          [
           76,
           6.6,
           3,
           4.4,
           1.4,
           "Iris-versicolor",
           "Cluster 1"
          ],
          [
           64,
           6.1,
           2.9,
           4.7,
           1.4,
           "Iris-versicolor",
           "Cluster 1"
          ],
          [
           53,
           6.9,
           3.1,
           4.9,
           1.5,
           "Iris-versicolor",
           "Cluster 1"
          ],
          [
           66,
           6.7,
           3.1,
           4.4,
           1.4,
           "Iris-versicolor",
           "Cluster 1"
          ],
          [
           51,
           7,
           3.2,
           4.7,
           1.4,
           "Iris-versicolor",
           "Cluster 1"
          ],
          [
           69,
           6.2,
           2.2,
           4.5,
           1.5,
           "Iris-versicolor",
           "Cluster 1"
          ],
          [
           52,
           6.4,
           3.2,
           4.5,
           1.5,
           "Iris-versicolor",
           "Cluster 1"
          ],
          [
           71,
           5.9,
           3.2,
           4.8,
           1.8,
           "Iris-versicolor",
           "Cluster 1"
          ],
          [
           73,
           6.3,
           2.5,
           4.9,
           1.5,
           "Iris-versicolor",
           "Cluster 1"
          ],
          [
           74,
           6.1,
           2.8,
           4.7,
           1.2,
           "Iris-versicolor",
           "Cluster 1"
          ]
         ],
         "hoverlabel": {
          "namelength": 0
         },
         "hovertemplate": "Cluster=%{customdata[6]}<br>Id=%{customdata[0]}<br>SepalLengthCm=%{customdata[1]}<br>SepalWidthCm=%{customdata[2]}<br>PetalLengthCm=%{customdata[3]}<br>PetalWidthCm=%{customdata[4]}<br>Species=%{customdata[5]}",
         "legendgroup": "Cluster=Cluster 1",
         "marker": {
          "color": "#EF553B"
         },
         "name": "Cluster=Cluster 1",
         "notched": true,
         "offsetgroup": "Cluster=Cluster 1",
         "showlegend": false,
         "type": "box",
         "x": [
          "Cluster 1",
          "Cluster 1",
          "Cluster 1",
          "Cluster 1",
          "Cluster 1",
          "Cluster 1",
          "Cluster 1",
          "Cluster 1",
          "Cluster 1",
          "Cluster 1",
          "Cluster 1",
          "Cluster 1",
          "Cluster 1",
          "Cluster 1",
          "Cluster 1",
          "Cluster 1",
          "Cluster 1",
          "Cluster 1",
          "Cluster 1",
          "Cluster 1",
          "Cluster 1",
          "Cluster 1",
          "Cluster 1",
          "Cluster 1",
          "Cluster 1",
          "Cluster 1",
          "Cluster 1",
          "Cluster 1",
          "Cluster 1",
          "Cluster 1",
          "Cluster 1",
          "Cluster 1",
          "Cluster 1",
          "Cluster 1",
          "Cluster 1",
          "Cluster 1",
          "Cluster 1",
          "Cluster 1",
          "Cluster 1",
          "Cluster 1"
         ],
         "xaxis": "x2",
         "yaxis": "y2"
        },
        {
         "alignmentgroup": "True",
         "bingroup": "x",
         "hoverlabel": {
          "namelength": 0
         },
         "hovertemplate": "Cluster=%{x}<br>count=%{y}",
         "legendgroup": "Cluster=Cluster 2",
         "marker": {
          "color": "#00cc96",
          "opacity": 0.7
         },
         "name": "Cluster=Cluster 2",
         "offsetgroup": "Cluster=Cluster 2",
         "orientation": "v",
         "showlegend": true,
         "type": "histogram",
         "x": [
          "Cluster 2",
          "Cluster 2",
          "Cluster 2",
          "Cluster 2",
          "Cluster 2",
          "Cluster 2",
          "Cluster 2",
          "Cluster 2",
          "Cluster 2",
          "Cluster 2",
          "Cluster 2",
          "Cluster 2",
          "Cluster 2",
          "Cluster 2",
          "Cluster 2",
          "Cluster 2",
          "Cluster 2",
          "Cluster 2",
          "Cluster 2",
          "Cluster 2",
          "Cluster 2",
          "Cluster 2",
          "Cluster 2",
          "Cluster 2",
          "Cluster 2",
          "Cluster 2",
          "Cluster 2",
          "Cluster 2"
         ],
         "xaxis": "x",
         "yaxis": "y"
        },
        {
         "alignmentgroup": "True",
         "customdata": [
          [
           60,
           5.2,
           2.7,
           3.9,
           1.4,
           "Iris-versicolor",
           "Cluster 2"
          ],
          [
           54,
           5.5,
           2.3,
           4,
           1.3,
           "Iris-versicolor",
           "Cluster 2"
          ],
          [
           80,
           5.7,
           2.6,
           3.5,
           1,
           "Iris-versicolor",
           "Cluster 2"
          ],
          [
           62,
           5.9,
           3,
           4.2,
           1.5,
           "Iris-versicolor",
           "Cluster 2"
          ],
          [
           63,
           6,
           2.2,
           4,
           1,
           "Iris-versicolor",
           "Cluster 2"
          ],
          [
           81,
           5.5,
           2.4,
           3.8,
           1.1,
           "Iris-versicolor",
           "Cluster 2"
          ],
          [
           82,
           5.5,
           2.4,
           3.7,
           1,
           "Iris-versicolor",
           "Cluster 2"
          ],
          [
           65,
           5.6,
           2.9,
           3.6,
           1.3,
           "Iris-versicolor",
           "Cluster 2"
          ],
          [
           70,
           5.6,
           2.5,
           3.9,
           1.1,
           "Iris-versicolor",
           "Cluster 2"
          ],
          [
           83,
           5.8,
           2.7,
           3.9,
           1.2,
           "Iris-versicolor",
           "Cluster 2"
          ],
          [
           107,
           4.9,
           2.5,
           4.5,
           1.7,
           "Iris-virginica",
           "Cluster 2"
          ],
          [
           56,
           5.7,
           2.8,
           4.5,
           1.3,
           "Iris-versicolor",
           "Cluster 2"
          ],
          [
           58,
           4.9,
           2.4,
           3.3,
           1,
           "Iris-versicolor",
           "Cluster 2"
          ],
          [
           95,
           5.6,
           2.7,
           4.2,
           1.3,
           "Iris-versicolor",
           "Cluster 2"
          ],
          [
           89,
           5.6,
           3,
           4.1,
           1.3,
           "Iris-versicolor",
           "Cluster 2"
          ],
          [
           90,
           5.5,
           2.5,
           4,
           1.3,
           "Iris-versicolor",
           "Cluster 2"
          ],
          [
           91,
           5.5,
           2.6,
           4.4,
           1.2,
           "Iris-versicolor",
           "Cluster 2"
          ],
          [
           68,
           5.8,
           2.7,
           4.1,
           1,
           "Iris-versicolor",
           "Cluster 2"
          ],
          [
           93,
           5.8,
           2.6,
           4,
           1.2,
           "Iris-versicolor",
           "Cluster 2"
          ],
          [
           94,
           5,
           2.3,
           3.3,
           1,
           "Iris-versicolor",
           "Cluster 2"
          ],
          [
           72,
           6.1,
           2.8,
           4,
           1.3,
           "Iris-versicolor",
           "Cluster 2"
          ],
          [
           61,
           5,
           2,
           3.5,
           1,
           "Iris-versicolor",
           "Cluster 2"
          ],
          [
           97,
           5.7,
           2.9,
           4.2,
           1.3,
           "Iris-versicolor",
           "Cluster 2"
          ],
          [
           67,
           5.6,
           3,
           4.5,
           1.5,
           "Iris-versicolor",
           "Cluster 2"
          ],
          [
           99,
           5.1,
           2.5,
           3,
           1.1,
           "Iris-versicolor",
           "Cluster 2"
          ],
          [
           100,
           5.7,
           2.8,
           4.1,
           1.3,
           "Iris-versicolor",
           "Cluster 2"
          ],
          [
           85,
           5.4,
           3,
           4.5,
           1.5,
           "Iris-versicolor",
           "Cluster 2"
          ],
          [
           96,
           5.7,
           3,
           4.2,
           1.2,
           "Iris-versicolor",
           "Cluster 2"
          ]
         ],
         "hoverlabel": {
          "namelength": 0
         },
         "hovertemplate": "Cluster=%{customdata[6]}<br>Id=%{customdata[0]}<br>SepalLengthCm=%{customdata[1]}<br>SepalWidthCm=%{customdata[2]}<br>PetalLengthCm=%{customdata[3]}<br>PetalWidthCm=%{customdata[4]}<br>Species=%{customdata[5]}",
         "legendgroup": "Cluster=Cluster 2",
         "marker": {
          "color": "#00cc96"
         },
         "name": "Cluster=Cluster 2",
         "notched": true,
         "offsetgroup": "Cluster=Cluster 2",
         "showlegend": false,
         "type": "box",
         "x": [
          "Cluster 2",
          "Cluster 2",
          "Cluster 2",
          "Cluster 2",
          "Cluster 2",
          "Cluster 2",
          "Cluster 2",
          "Cluster 2",
          "Cluster 2",
          "Cluster 2",
          "Cluster 2",
          "Cluster 2",
          "Cluster 2",
          "Cluster 2",
          "Cluster 2",
          "Cluster 2",
          "Cluster 2",
          "Cluster 2",
          "Cluster 2",
          "Cluster 2",
          "Cluster 2",
          "Cluster 2",
          "Cluster 2",
          "Cluster 2",
          "Cluster 2",
          "Cluster 2",
          "Cluster 2",
          "Cluster 2"
         ],
         "xaxis": "x2",
         "yaxis": "y2"
        },
        {
         "alignmentgroup": "True",
         "bingroup": "x",
         "hoverlabel": {
          "namelength": 0
         },
         "hovertemplate": "Cluster=%{x}<br>count=%{y}",
         "legendgroup": "Cluster=Cluster 3",
         "marker": {
          "color": "#ab63fa",
          "opacity": 0.7
         },
         "name": "Cluster=Cluster 3",
         "offsetgroup": "Cluster=Cluster 3",
         "orientation": "v",
         "showlegend": true,
         "type": "histogram",
         "x": [
          "Cluster 3",
          "Cluster 3",
          "Cluster 3",
          "Cluster 3",
          "Cluster 3",
          "Cluster 3",
          "Cluster 3",
          "Cluster 3",
          "Cluster 3",
          "Cluster 3",
          "Cluster 3",
          "Cluster 3",
          "Cluster 3",
          "Cluster 3",
          "Cluster 3",
          "Cluster 3",
          "Cluster 3",
          "Cluster 3",
          "Cluster 3",
          "Cluster 3",
          "Cluster 3",
          "Cluster 3",
          "Cluster 3",
          "Cluster 3",
          "Cluster 3",
          "Cluster 3",
          "Cluster 3",
          "Cluster 3",
          "Cluster 3",
          "Cluster 3",
          "Cluster 3",
          "Cluster 3"
         ],
         "xaxis": "x",
         "yaxis": "y"
        },
        {
         "alignmentgroup": "True",
         "customdata": [
          [
           133,
           6.4,
           2.8,
           5.6,
           2.2,
           "Iris-virginica",
           "Cluster 3"
          ],
          [
           136,
           7.7,
           3,
           6.1,
           2.3,
           "Iris-virginica",
           "Cluster 3"
          ],
          [
           142,
           6.9,
           3.1,
           5.1,
           2.3,
           "Iris-virginica",
           "Cluster 3"
          ],
          [
           138,
           6.4,
           3.1,
           5.5,
           1.8,
           "Iris-virginica",
           "Cluster 3"
          ],
          [
           140,
           6.9,
           3.1,
           5.4,
           2.1,
           "Iris-virginica",
           "Cluster 3"
          ],
          [
           141,
           6.7,
           3.1,
           5.6,
           2.4,
           "Iris-virginica",
           "Cluster 3"
          ],
          [
           144,
           6.8,
           3.2,
           5.9,
           2.3,
           "Iris-virginica",
           "Cluster 3"
          ],
          [
           145,
           6.7,
           3.3,
           5.7,
           2.5,
           "Iris-virginica",
           "Cluster 3"
          ],
          [
           146,
           6.7,
           3,
           5.2,
           2.3,
           "Iris-virginica",
           "Cluster 3"
          ],
          [
           132,
           7.9,
           3.8,
           6.4,
           2,
           "Iris-virginica",
           "Cluster 3"
          ],
          [
           137,
           6.3,
           3.4,
           5.6,
           2.4,
           "Iris-virginica",
           "Cluster 3"
          ],
          [
           131,
           7.4,
           2.8,
           6.1,
           1.9,
           "Iris-virginica",
           "Cluster 3"
          ],
          [
           149,
           6.2,
           3.4,
           5.4,
           2.3,
           "Iris-virginica",
           "Cluster 3"
          ],
          [
           129,
           6.4,
           2.8,
           5.6,
           2.1,
           "Iris-virginica",
           "Cluster 3"
          ],
          [
           101,
           6.3,
           3.3,
           6,
           2.5,
           "Iris-virginica",
           "Cluster 3"
          ],
          [
           103,
           7.1,
           3,
           5.9,
           2.1,
           "Iris-virginica",
           "Cluster 3"
          ],
          [
           104,
           6.3,
           2.9,
           5.6,
           1.8,
           "Iris-virginica",
           "Cluster 3"
          ],
          [
           105,
           6.5,
           3,
           5.8,
           2.2,
           "Iris-virginica",
           "Cluster 3"
          ],
          [
           106,
           7.6,
           3,
           6.6,
           2.1,
           "Iris-virginica",
           "Cluster 3"
          ],
          [
           108,
           7.3,
           2.9,
           6.3,
           1.8,
           "Iris-virginica",
           "Cluster 3"
          ],
          [
           109,
           6.7,
           2.5,
           5.8,
           1.8,
           "Iris-virginica",
           "Cluster 3"
          ],
          [
           130,
           7.2,
           3,
           5.8,
           1.6,
           "Iris-virginica",
           "Cluster 3"
          ],
          [
           110,
           7.2,
           3.6,
           6.1,
           2.5,
           "Iris-virginica",
           "Cluster 3"
          ],
          [
           117,
           6.5,
           3,
           5.5,
           1.8,
           "Iris-virginica",
           "Cluster 3"
          ],
          [
           118,
           7.7,
           3.8,
           6.7,
           2.2,
           "Iris-virginica",
           "Cluster 3"
          ],
          [
           119,
           7.7,
           2.6,
           6.9,
           2.3,
           "Iris-virginica",
           "Cluster 3"
          ],
          [
           121,
           6.9,
           3.2,
           5.7,
           2.3,
           "Iris-virginica",
           "Cluster 3"
          ],
          [
           123,
           7.7,
           2.8,
           6.7,
           2,
           "Iris-virginica",
           "Cluster 3"
          ],
          [
           125,
           6.7,
           3.3,
           5.7,
           2.1,
           "Iris-virginica",
           "Cluster 3"
          ],
          [
           126,
           7.2,
           3.2,
           6,
           1.8,
           "Iris-virginica",
           "Cluster 3"
          ],
          [
           116,
           6.4,
           3.2,
           5.3,
           2.3,
           "Iris-virginica",
           "Cluster 3"
          ],
          [
           113,
           6.8,
           3,
           5.5,
           2.1,
           "Iris-virginica",
           "Cluster 3"
          ]
         ],
         "hoverlabel": {
          "namelength": 0
         },
         "hovertemplate": "Cluster=%{customdata[6]}<br>Id=%{customdata[0]}<br>SepalLengthCm=%{customdata[1]}<br>SepalWidthCm=%{customdata[2]}<br>PetalLengthCm=%{customdata[3]}<br>PetalWidthCm=%{customdata[4]}<br>Species=%{customdata[5]}",
         "legendgroup": "Cluster=Cluster 3",
         "marker": {
          "color": "#ab63fa"
         },
         "name": "Cluster=Cluster 3",
         "notched": true,
         "offsetgroup": "Cluster=Cluster 3",
         "showlegend": false,
         "type": "box",
         "x": [
          "Cluster 3",
          "Cluster 3",
          "Cluster 3",
          "Cluster 3",
          "Cluster 3",
          "Cluster 3",
          "Cluster 3",
          "Cluster 3",
          "Cluster 3",
          "Cluster 3",
          "Cluster 3",
          "Cluster 3",
          "Cluster 3",
          "Cluster 3",
          "Cluster 3",
          "Cluster 3",
          "Cluster 3",
          "Cluster 3",
          "Cluster 3",
          "Cluster 3",
          "Cluster 3",
          "Cluster 3",
          "Cluster 3",
          "Cluster 3",
          "Cluster 3",
          "Cluster 3",
          "Cluster 3",
          "Cluster 3",
          "Cluster 3",
          "Cluster 3",
          "Cluster 3",
          "Cluster 3"
         ],
         "xaxis": "x2",
         "yaxis": "y2"
        }
       ],
       "layout": {
        "barmode": "relative",
        "legend": {
         "tracegroupgap": 0
        },
        "margin": {
         "t": 60
        },
        "template": {
         "data": {
          "bar": [
           {
            "error_x": {
             "color": "#2a3f5f"
            },
            "error_y": {
             "color": "#2a3f5f"
            },
            "marker": {
             "line": {
              "color": "#E5ECF6",
              "width": 0.5
             }
            },
            "type": "bar"
           }
          ],
          "barpolar": [
           {
            "marker": {
             "line": {
              "color": "#E5ECF6",
              "width": 0.5
             }
            },
            "type": "barpolar"
           }
          ],
          "carpet": [
           {
            "aaxis": {
             "endlinecolor": "#2a3f5f",
             "gridcolor": "white",
             "linecolor": "white",
             "minorgridcolor": "white",
             "startlinecolor": "#2a3f5f"
            },
            "baxis": {
             "endlinecolor": "#2a3f5f",
             "gridcolor": "white",
             "linecolor": "white",
             "minorgridcolor": "white",
             "startlinecolor": "#2a3f5f"
            },
            "type": "carpet"
           }
          ],
          "choropleth": [
           {
            "colorbar": {
             "outlinewidth": 0,
             "ticks": ""
            },
            "type": "choropleth"
           }
          ],
          "contour": [
           {
            "colorbar": {
             "outlinewidth": 0,
             "ticks": ""
            },
            "colorscale": [
             [
              0,
              "#0d0887"
             ],
             [
              0.1111111111111111,
              "#46039f"
             ],
             [
              0.2222222222222222,
              "#7201a8"
             ],
             [
              0.3333333333333333,
              "#9c179e"
             ],
             [
              0.4444444444444444,
              "#bd3786"
             ],
             [
              0.5555555555555556,
              "#d8576b"
             ],
             [
              0.6666666666666666,
              "#ed7953"
             ],
             [
              0.7777777777777778,
              "#fb9f3a"
             ],
             [
              0.8888888888888888,
              "#fdca26"
             ],
             [
              1,
              "#f0f921"
             ]
            ],
            "type": "contour"
           }
          ],
          "contourcarpet": [
           {
            "colorbar": {
             "outlinewidth": 0,
             "ticks": ""
            },
            "type": "contourcarpet"
           }
          ],
          "heatmap": [
           {
            "colorbar": {
             "outlinewidth": 0,
             "ticks": ""
            },
            "colorscale": [
             [
              0,
              "#0d0887"
             ],
             [
              0.1111111111111111,
              "#46039f"
             ],
             [
              0.2222222222222222,
              "#7201a8"
             ],
             [
              0.3333333333333333,
              "#9c179e"
             ],
             [
              0.4444444444444444,
              "#bd3786"
             ],
             [
              0.5555555555555556,
              "#d8576b"
             ],
             [
              0.6666666666666666,
              "#ed7953"
             ],
             [
              0.7777777777777778,
              "#fb9f3a"
             ],
             [
              0.8888888888888888,
              "#fdca26"
             ],
             [
              1,
              "#f0f921"
             ]
            ],
            "type": "heatmap"
           }
          ],
          "heatmapgl": [
           {
            "colorbar": {
             "outlinewidth": 0,
             "ticks": ""
            },
            "colorscale": [
             [
              0,
              "#0d0887"
             ],
             [
              0.1111111111111111,
              "#46039f"
             ],
             [
              0.2222222222222222,
              "#7201a8"
             ],
             [
              0.3333333333333333,
              "#9c179e"
             ],
             [
              0.4444444444444444,
              "#bd3786"
             ],
             [
              0.5555555555555556,
              "#d8576b"
             ],
             [
              0.6666666666666666,
              "#ed7953"
             ],
             [
              0.7777777777777778,
              "#fb9f3a"
             ],
             [
              0.8888888888888888,
              "#fdca26"
             ],
             [
              1,
              "#f0f921"
             ]
            ],
            "type": "heatmapgl"
           }
          ],
          "histogram": [
           {
            "marker": {
             "colorbar": {
              "outlinewidth": 0,
              "ticks": ""
             }
            },
            "type": "histogram"
           }
          ],
          "histogram2d": [
           {
            "colorbar": {
             "outlinewidth": 0,
             "ticks": ""
            },
            "colorscale": [
             [
              0,
              "#0d0887"
             ],
             [
              0.1111111111111111,
              "#46039f"
             ],
             [
              0.2222222222222222,
              "#7201a8"
             ],
             [
              0.3333333333333333,
              "#9c179e"
             ],
             [
              0.4444444444444444,
              "#bd3786"
             ],
             [
              0.5555555555555556,
              "#d8576b"
             ],
             [
              0.6666666666666666,
              "#ed7953"
             ],
             [
              0.7777777777777778,
              "#fb9f3a"
             ],
             [
              0.8888888888888888,
              "#fdca26"
             ],
             [
              1,
              "#f0f921"
             ]
            ],
            "type": "histogram2d"
           }
          ],
          "histogram2dcontour": [
           {
            "colorbar": {
             "outlinewidth": 0,
             "ticks": ""
            },
            "colorscale": [
             [
              0,
              "#0d0887"
             ],
             [
              0.1111111111111111,
              "#46039f"
             ],
             [
              0.2222222222222222,
              "#7201a8"
             ],
             [
              0.3333333333333333,
              "#9c179e"
             ],
             [
              0.4444444444444444,
              "#bd3786"
             ],
             [
              0.5555555555555556,
              "#d8576b"
             ],
             [
              0.6666666666666666,
              "#ed7953"
             ],
             [
              0.7777777777777778,
              "#fb9f3a"
             ],
             [
              0.8888888888888888,
              "#fdca26"
             ],
             [
              1,
              "#f0f921"
             ]
            ],
            "type": "histogram2dcontour"
           }
          ],
          "mesh3d": [
           {
            "colorbar": {
             "outlinewidth": 0,
             "ticks": ""
            },
            "type": "mesh3d"
           }
          ],
          "parcoords": [
           {
            "line": {
             "colorbar": {
              "outlinewidth": 0,
              "ticks": ""
             }
            },
            "type": "parcoords"
           }
          ],
          "pie": [
           {
            "automargin": true,
            "type": "pie"
           }
          ],
          "scatter": [
           {
            "marker": {
             "colorbar": {
              "outlinewidth": 0,
              "ticks": ""
             }
            },
            "type": "scatter"
           }
          ],
          "scatter3d": [
           {
            "line": {
             "colorbar": {
              "outlinewidth": 0,
              "ticks": ""
             }
            },
            "marker": {
             "colorbar": {
              "outlinewidth": 0,
              "ticks": ""
             }
            },
            "type": "scatter3d"
           }
          ],
          "scattercarpet": [
           {
            "marker": {
             "colorbar": {
              "outlinewidth": 0,
              "ticks": ""
             }
            },
            "type": "scattercarpet"
           }
          ],
          "scattergeo": [
           {
            "marker": {
             "colorbar": {
              "outlinewidth": 0,
              "ticks": ""
             }
            },
            "type": "scattergeo"
           }
          ],
          "scattergl": [
           {
            "marker": {
             "colorbar": {
              "outlinewidth": 0,
              "ticks": ""
             }
            },
            "type": "scattergl"
           }
          ],
          "scattermapbox": [
           {
            "marker": {
             "colorbar": {
              "outlinewidth": 0,
              "ticks": ""
             }
            },
            "type": "scattermapbox"
           }
          ],
          "scatterpolar": [
           {
            "marker": {
             "colorbar": {
              "outlinewidth": 0,
              "ticks": ""
             }
            },
            "type": "scatterpolar"
           }
          ],
          "scatterpolargl": [
           {
            "marker": {
             "colorbar": {
              "outlinewidth": 0,
              "ticks": ""
             }
            },
            "type": "scatterpolargl"
           }
          ],
          "scatterternary": [
           {
            "marker": {
             "colorbar": {
              "outlinewidth": 0,
              "ticks": ""
             }
            },
            "type": "scatterternary"
           }
          ],
          "surface": [
           {
            "colorbar": {
             "outlinewidth": 0,
             "ticks": ""
            },
            "colorscale": [
             [
              0,
              "#0d0887"
             ],
             [
              0.1111111111111111,
              "#46039f"
             ],
             [
              0.2222222222222222,
              "#7201a8"
             ],
             [
              0.3333333333333333,
              "#9c179e"
             ],
             [
              0.4444444444444444,
              "#bd3786"
             ],
             [
              0.5555555555555556,
              "#d8576b"
             ],
             [
              0.6666666666666666,
              "#ed7953"
             ],
             [
              0.7777777777777778,
              "#fb9f3a"
             ],
             [
              0.8888888888888888,
              "#fdca26"
             ],
             [
              1,
              "#f0f921"
             ]
            ],
            "type": "surface"
           }
          ],
          "table": [
           {
            "cells": {
             "fill": {
              "color": "#EBF0F8"
             },
             "line": {
              "color": "white"
             }
            },
            "header": {
             "fill": {
              "color": "#C8D4E3"
             },
             "line": {
              "color": "white"
             }
            },
            "type": "table"
           }
          ]
         },
         "layout": {
          "annotationdefaults": {
           "arrowcolor": "#2a3f5f",
           "arrowhead": 0,
           "arrowwidth": 1
          },
          "coloraxis": {
           "colorbar": {
            "outlinewidth": 0,
            "ticks": ""
           }
          },
          "colorscale": {
           "diverging": [
            [
             0,
             "#8e0152"
            ],
            [
             0.1,
             "#c51b7d"
            ],
            [
             0.2,
             "#de77ae"
            ],
            [
             0.3,
             "#f1b6da"
            ],
            [
             0.4,
             "#fde0ef"
            ],
            [
             0.5,
             "#f7f7f7"
            ],
            [
             0.6,
             "#e6f5d0"
            ],
            [
             0.7,
             "#b8e186"
            ],
            [
             0.8,
             "#7fbc41"
            ],
            [
             0.9,
             "#4d9221"
            ],
            [
             1,
             "#276419"
            ]
           ],
           "sequential": [
            [
             0,
             "#0d0887"
            ],
            [
             0.1111111111111111,
             "#46039f"
            ],
            [
             0.2222222222222222,
             "#7201a8"
            ],
            [
             0.3333333333333333,
             "#9c179e"
            ],
            [
             0.4444444444444444,
             "#bd3786"
            ],
            [
             0.5555555555555556,
             "#d8576b"
            ],
            [
             0.6666666666666666,
             "#ed7953"
            ],
            [
             0.7777777777777778,
             "#fb9f3a"
            ],
            [
             0.8888888888888888,
             "#fdca26"
            ],
            [
             1,
             "#f0f921"
            ]
           ],
           "sequentialminus": [
            [
             0,
             "#0d0887"
            ],
            [
             0.1111111111111111,
             "#46039f"
            ],
            [
             0.2222222222222222,
             "#7201a8"
            ],
            [
             0.3333333333333333,
             "#9c179e"
            ],
            [
             0.4444444444444444,
             "#bd3786"
            ],
            [
             0.5555555555555556,
             "#d8576b"
            ],
            [
             0.6666666666666666,
             "#ed7953"
            ],
            [
             0.7777777777777778,
             "#fb9f3a"
            ],
            [
             0.8888888888888888,
             "#fdca26"
            ],
            [
             1,
             "#f0f921"
            ]
           ]
          },
          "colorway": [
           "#636efa",
           "#EF553B",
           "#00cc96",
           "#ab63fa",
           "#FFA15A",
           "#19d3f3",
           "#FF6692",
           "#B6E880",
           "#FF97FF",
           "#FECB52"
          ],
          "font": {
           "color": "#2a3f5f"
          },
          "geo": {
           "bgcolor": "white",
           "lakecolor": "white",
           "landcolor": "#E5ECF6",
           "showlakes": true,
           "showland": true,
           "subunitcolor": "white"
          },
          "hoverlabel": {
           "align": "left"
          },
          "hovermode": "closest",
          "mapbox": {
           "style": "light"
          },
          "paper_bgcolor": "white",
          "plot_bgcolor": "#E5ECF6",
          "polar": {
           "angularaxis": {
            "gridcolor": "white",
            "linecolor": "white",
            "ticks": ""
           },
           "bgcolor": "#E5ECF6",
           "radialaxis": {
            "gridcolor": "white",
            "linecolor": "white",
            "ticks": ""
           }
          },
          "scene": {
           "xaxis": {
            "backgroundcolor": "#E5ECF6",
            "gridcolor": "white",
            "gridwidth": 2,
            "linecolor": "white",
            "showbackground": true,
            "ticks": "",
            "zerolinecolor": "white"
           },
           "yaxis": {
            "backgroundcolor": "#E5ECF6",
            "gridcolor": "white",
            "gridwidth": 2,
            "linecolor": "white",
            "showbackground": true,
            "ticks": "",
            "zerolinecolor": "white"
           },
           "zaxis": {
            "backgroundcolor": "#E5ECF6",
            "gridcolor": "white",
            "gridwidth": 2,
            "linecolor": "white",
            "showbackground": true,
            "ticks": "",
            "zerolinecolor": "white"
           }
          },
          "shapedefaults": {
           "line": {
            "color": "#2a3f5f"
           }
          },
          "ternary": {
           "aaxis": {
            "gridcolor": "white",
            "linecolor": "white",
            "ticks": ""
           },
           "baxis": {
            "gridcolor": "white",
            "linecolor": "white",
            "ticks": ""
           },
           "bgcolor": "#E5ECF6",
           "caxis": {
            "gridcolor": "white",
            "linecolor": "white",
            "ticks": ""
           }
          },
          "title": {
           "x": 0.05
          },
          "xaxis": {
           "automargin": true,
           "gridcolor": "white",
           "linecolor": "white",
           "ticks": "",
           "title": {
            "standoff": 15
           },
           "zerolinecolor": "white",
           "zerolinewidth": 2
          },
          "yaxis": {
           "automargin": true,
           "gridcolor": "white",
           "linecolor": "white",
           "ticks": "",
           "title": {
            "standoff": 15
           },
           "zerolinecolor": "white",
           "zerolinewidth": 2
          }
         }
        },
        "xaxis": {
         "anchor": "y",
         "categoryarray": [
          "Cluster 0",
          "Cluster 1",
          "Cluster 2",
          "Cluster 3"
         ],
         "categoryorder": "array",
         "domain": [
          0,
          1
         ],
         "title": {
          "text": "Cluster"
         }
        },
        "xaxis2": {
         "anchor": "y2",
         "domain": [
          0,
          1
         ],
         "matches": "x",
         "showgrid": true,
         "showticklabels": false
        },
        "yaxis": {
         "anchor": "x",
         "domain": [
          0,
          0.7326
         ],
         "title": {
          "text": "count"
         }
        },
        "yaxis2": {
         "anchor": "x2",
         "domain": [
          0.7426,
          1
         ],
         "matches": "y2",
         "showgrid": false,
         "showline": false,
         "showticklabels": false,
         "ticks": ""
        }
       }
      },
      "text/html": [
       "<div>\n",
       "        \n",
       "        \n",
       "            <div id=\"0c792514-e9b6-418f-ae43-97173f6d5e6f\" class=\"plotly-graph-div\" style=\"height:525px; width:100%;\"></div>\n",
       "            <script type=\"text/javascript\">\n",
       "                require([\"plotly\"], function(Plotly) {\n",
       "                    window.PLOTLYENV=window.PLOTLYENV || {};\n",
       "                    \n",
       "                if (document.getElementById(\"0c792514-e9b6-418f-ae43-97173f6d5e6f\")) {\n",
       "                    Plotly.newPlot(\n",
       "                        '0c792514-e9b6-418f-ae43-97173f6d5e6f',\n",
       "                        [{\"alignmentgroup\": \"True\", \"bingroup\": \"x\", \"hoverlabel\": {\"namelength\": 0}, \"hovertemplate\": \"Cluster=%{x}<br>count=%{y}\", \"legendgroup\": \"Cluster=Cluster 0\", \"marker\": {\"color\": \"#636efa\", \"opacity\": 0.7}, \"name\": \"Cluster=Cluster 0\", \"offsetgroup\": \"Cluster=Cluster 0\", \"orientation\": \"v\", \"showlegend\": true, \"type\": \"histogram\", \"x\": [\"Cluster 0\", \"Cluster 0\", \"Cluster 0\", \"Cluster 0\", \"Cluster 0\", \"Cluster 0\", \"Cluster 0\", \"Cluster 0\", \"Cluster 0\", \"Cluster 0\", \"Cluster 0\", \"Cluster 0\", \"Cluster 0\", \"Cluster 0\", \"Cluster 0\", \"Cluster 0\", \"Cluster 0\", \"Cluster 0\", \"Cluster 0\", \"Cluster 0\", \"Cluster 0\", \"Cluster 0\", \"Cluster 0\", \"Cluster 0\", \"Cluster 0\", \"Cluster 0\", \"Cluster 0\", \"Cluster 0\", \"Cluster 0\", \"Cluster 0\", \"Cluster 0\", \"Cluster 0\", \"Cluster 0\", \"Cluster 0\", \"Cluster 0\", \"Cluster 0\", \"Cluster 0\", \"Cluster 0\", \"Cluster 0\", \"Cluster 0\", \"Cluster 0\", \"Cluster 0\", \"Cluster 0\", \"Cluster 0\", \"Cluster 0\", \"Cluster 0\", \"Cluster 0\", \"Cluster 0\", \"Cluster 0\", \"Cluster 0\"], \"xaxis\": \"x\", \"yaxis\": \"y\"}, {\"alignmentgroup\": \"True\", \"customdata\": [[1.0, 5.1, 3.5, 1.4, 0.2, \"Iris-setosa\", \"Cluster 0\"], [28.0, 5.2, 3.5, 1.5, 0.2, \"Iris-setosa\", \"Cluster 0\"], [29.0, 5.2, 3.4, 1.4, 0.2, \"Iris-setosa\", \"Cluster 0\"], [30.0, 4.7, 3.2, 1.6, 0.2, \"Iris-setosa\", \"Cluster 0\"], [31.0, 4.8, 3.1, 1.6, 0.2, \"Iris-setosa\", \"Cluster 0\"], [32.0, 5.4, 3.4, 1.5, 0.4, \"Iris-setosa\", \"Cluster 0\"], [33.0, 5.2, 4.1, 1.5, 0.1, \"Iris-setosa\", \"Cluster 0\"], [34.0, 5.5, 4.2, 1.4, 0.2, \"Iris-setosa\", \"Cluster 0\"], [35.0, 4.9, 3.1, 1.5, 0.1, \"Iris-setosa\", \"Cluster 0\"], [36.0, 5.0, 3.2, 1.2, 0.2, \"Iris-setosa\", \"Cluster 0\"], [37.0, 5.5, 3.5, 1.3, 0.2, \"Iris-setosa\", \"Cluster 0\"], [27.0, 5.0, 3.4, 1.6, 0.4, \"Iris-setosa\", \"Cluster 0\"], [39.0, 4.4, 3.0, 1.3, 0.2, \"Iris-setosa\", \"Cluster 0\"], [41.0, 5.0, 3.5, 1.3, 0.3, \"Iris-setosa\", \"Cluster 0\"], [42.0, 4.5, 2.3, 1.3, 0.3, \"Iris-setosa\", \"Cluster 0\"], [43.0, 4.4, 3.2, 1.3, 0.2, \"Iris-setosa\", \"Cluster 0\"], [44.0, 5.0, 3.5, 1.6, 0.6, \"Iris-setosa\", \"Cluster 0\"], [45.0, 5.1, 3.8, 1.9, 0.4, \"Iris-setosa\", \"Cluster 0\"], [46.0, 4.8, 3.0, 1.4, 0.3, \"Iris-setosa\", \"Cluster 0\"], [47.0, 5.1, 3.8, 1.6, 0.2, \"Iris-setosa\", \"Cluster 0\"], [48.0, 4.6, 3.2, 1.4, 0.2, \"Iris-setosa\", \"Cluster 0\"], [49.0, 5.3, 3.7, 1.5, 0.2, \"Iris-setosa\", \"Cluster 0\"], [50.0, 5.0, 3.3, 1.4, 0.2, \"Iris-setosa\", \"Cluster 0\"], [40.0, 5.1, 3.4, 1.5, 0.2, \"Iris-setosa\", \"Cluster 0\"], [26.0, 5.0, 3.0, 1.6, 0.2, \"Iris-setosa\", \"Cluster 0\"], [38.0, 4.9, 3.1, 1.5, 0.1, \"Iris-setosa\", \"Cluster 0\"], [24.0, 5.1, 3.3, 1.7, 0.5, \"Iris-setosa\", \"Cluster 0\"], [25.0, 4.8, 3.4, 1.9, 0.2, \"Iris-setosa\", \"Cluster 0\"], [2.0, 4.9, 3.0, 1.4, 0.2, \"Iris-setosa\", \"Cluster 0\"], [3.0, 4.7, 3.2, 1.3, 0.2, \"Iris-setosa\", \"Cluster 0\"], [4.0, 4.6, 3.1, 1.5, 0.2, \"Iris-setosa\", \"Cluster 0\"], [5.0, 5.0, 3.6, 1.4, 0.2, \"Iris-setosa\", \"Cluster 0\"], [6.0, 5.4, 3.9, 1.7, 0.4, \"Iris-setosa\", \"Cluster 0\"], [7.0, 4.6, 3.4, 1.4, 0.3, \"Iris-setosa\", \"Cluster 0\"], [9.0, 4.4, 2.9, 1.4, 0.2, \"Iris-setosa\", \"Cluster 0\"], [10.0, 4.9, 3.1, 1.5, 0.1, \"Iris-setosa\", \"Cluster 0\"], [11.0, 5.4, 3.7, 1.5, 0.2, \"Iris-setosa\", \"Cluster 0\"], [12.0, 4.8, 3.4, 1.6, 0.2, \"Iris-setosa\", \"Cluster 0\"], [8.0, 5.0, 3.4, 1.5, 0.2, \"Iris-setosa\", \"Cluster 0\"], [22.0, 5.1, 3.7, 1.5, 0.4, \"Iris-setosa\", \"Cluster 0\"], [14.0, 4.3, 3.0, 1.1, 0.1, \"Iris-setosa\", \"Cluster 0\"], [15.0, 5.8, 4.0, 1.2, 0.2, \"Iris-setosa\", \"Cluster 0\"], [16.0, 5.7, 4.4, 1.5, 0.4, \"Iris-setosa\", \"Cluster 0\"], [17.0, 5.4, 3.9, 1.3, 0.4, \"Iris-setosa\", \"Cluster 0\"], [18.0, 5.1, 3.5, 1.4, 0.3, \"Iris-setosa\", \"Cluster 0\"], [19.0, 5.7, 3.8, 1.7, 0.3, \"Iris-setosa\", \"Cluster 0\"], [20.0, 5.1, 3.8, 1.5, 0.3, \"Iris-setosa\", \"Cluster 0\"], [21.0, 5.4, 3.4, 1.7, 0.2, \"Iris-setosa\", \"Cluster 0\"], [13.0, 4.8, 3.0, 1.4, 0.1, \"Iris-setosa\", \"Cluster 0\"], [23.0, 4.6, 3.6, 1.0, 0.2, \"Iris-setosa\", \"Cluster 0\"]], \"hoverlabel\": {\"namelength\": 0}, \"hovertemplate\": \"Cluster=%{customdata[6]}<br>Id=%{customdata[0]}<br>SepalLengthCm=%{customdata[1]}<br>SepalWidthCm=%{customdata[2]}<br>PetalLengthCm=%{customdata[3]}<br>PetalWidthCm=%{customdata[4]}<br>Species=%{customdata[5]}\", \"legendgroup\": \"Cluster=Cluster 0\", \"marker\": {\"color\": \"#636efa\"}, \"name\": \"Cluster=Cluster 0\", \"notched\": true, \"offsetgroup\": \"Cluster=Cluster 0\", \"showlegend\": false, \"type\": \"box\", \"x\": [\"Cluster 0\", \"Cluster 0\", \"Cluster 0\", \"Cluster 0\", \"Cluster 0\", \"Cluster 0\", \"Cluster 0\", \"Cluster 0\", \"Cluster 0\", \"Cluster 0\", \"Cluster 0\", \"Cluster 0\", \"Cluster 0\", \"Cluster 0\", \"Cluster 0\", \"Cluster 0\", \"Cluster 0\", \"Cluster 0\", \"Cluster 0\", \"Cluster 0\", \"Cluster 0\", \"Cluster 0\", \"Cluster 0\", \"Cluster 0\", \"Cluster 0\", \"Cluster 0\", \"Cluster 0\", \"Cluster 0\", \"Cluster 0\", \"Cluster 0\", \"Cluster 0\", \"Cluster 0\", \"Cluster 0\", \"Cluster 0\", \"Cluster 0\", \"Cluster 0\", \"Cluster 0\", \"Cluster 0\", \"Cluster 0\", \"Cluster 0\", \"Cluster 0\", \"Cluster 0\", \"Cluster 0\", \"Cluster 0\", \"Cluster 0\", \"Cluster 0\", \"Cluster 0\", \"Cluster 0\", \"Cluster 0\", \"Cluster 0\"], \"xaxis\": \"x2\", \"yaxis\": \"y2\"}, {\"alignmentgroup\": \"True\", \"bingroup\": \"x\", \"hoverlabel\": {\"namelength\": 0}, \"hovertemplate\": \"Cluster=%{x}<br>count=%{y}\", \"legendgroup\": \"Cluster=Cluster 1\", \"marker\": {\"color\": \"#EF553B\", \"opacity\": 0.7}, \"name\": \"Cluster=Cluster 1\", \"offsetgroup\": \"Cluster=Cluster 1\", \"orientation\": \"v\", \"showlegend\": true, \"type\": \"histogram\", \"x\": [\"Cluster 1\", \"Cluster 1\", \"Cluster 1\", \"Cluster 1\", \"Cluster 1\", \"Cluster 1\", \"Cluster 1\", \"Cluster 1\", \"Cluster 1\", \"Cluster 1\", \"Cluster 1\", \"Cluster 1\", \"Cluster 1\", \"Cluster 1\", \"Cluster 1\", \"Cluster 1\", \"Cluster 1\", \"Cluster 1\", \"Cluster 1\", \"Cluster 1\", \"Cluster 1\", \"Cluster 1\", \"Cluster 1\", \"Cluster 1\", \"Cluster 1\", \"Cluster 1\", \"Cluster 1\", \"Cluster 1\", \"Cluster 1\", \"Cluster 1\", \"Cluster 1\", \"Cluster 1\", \"Cluster 1\", \"Cluster 1\", \"Cluster 1\", \"Cluster 1\", \"Cluster 1\", \"Cluster 1\", \"Cluster 1\", \"Cluster 1\"], \"xaxis\": \"x\", \"yaxis\": \"y\"}, {\"alignmentgroup\": \"True\", \"customdata\": [[111.0, 6.5, 3.2, 5.1, 2.0, \"Iris-virginica\", \"Cluster 1\"], [102.0, 5.8, 2.7, 5.1, 1.9, \"Iris-virginica\", \"Cluster 1\"], [98.0, 6.2, 2.9, 4.3, 1.3, \"Iris-versicolor\", \"Cluster 1\"], [92.0, 6.1, 3.0, 4.6, 1.4, \"Iris-versicolor\", \"Cluster 1\"], [79.0, 6.0, 2.9, 4.5, 1.5, \"Iris-versicolor\", \"Cluster 1\"], [87.0, 6.7, 3.1, 4.7, 1.5, \"Iris-versicolor\", \"Cluster 1\"], [86.0, 6.0, 3.4, 4.5, 1.6, \"Iris-versicolor\", \"Cluster 1\"], [84.0, 6.0, 2.7, 5.1, 1.6, \"Iris-versicolor\", \"Cluster 1\"], [112.0, 6.4, 2.7, 5.3, 1.9, \"Iris-virginica\", \"Cluster 1\"], [88.0, 6.3, 2.3, 4.4, 1.3, \"Iris-versicolor\", \"Cluster 1\"], [114.0, 5.7, 2.5, 5.0, 2.0, \"Iris-virginica\", \"Cluster 1\"], [148.0, 6.5, 3.0, 5.2, 2.0, \"Iris-virginica\", \"Cluster 1\"], [120.0, 6.0, 2.2, 5.0, 1.5, \"Iris-virginica\", \"Cluster 1\"], [122.0, 5.6, 2.8, 4.9, 2.0, \"Iris-virginica\", \"Cluster 1\"], [124.0, 6.3, 2.7, 4.9, 1.8, \"Iris-virginica\", \"Cluster 1\"], [127.0, 6.2, 2.8, 4.8, 1.8, \"Iris-virginica\", \"Cluster 1\"], [128.0, 6.1, 3.0, 4.9, 1.8, \"Iris-virginica\", \"Cluster 1\"], [134.0, 6.3, 2.8, 5.1, 1.5, \"Iris-virginica\", \"Cluster 1\"], [135.0, 6.1, 2.6, 5.6, 1.4, \"Iris-virginica\", \"Cluster 1\"], [139.0, 6.0, 3.0, 4.8, 1.8, \"Iris-virginica\", \"Cluster 1\"], [143.0, 5.8, 2.7, 5.1, 1.9, \"Iris-virginica\", \"Cluster 1\"], [147.0, 6.3, 2.5, 5.0, 1.9, \"Iris-virginica\", \"Cluster 1\"], [78.0, 6.7, 3.0, 5.0, 1.7, \"Iris-versicolor\", \"Cluster 1\"], [115.0, 5.8, 2.8, 5.1, 2.4, \"Iris-virginica\", \"Cluster 1\"], [77.0, 6.8, 2.8, 4.8, 1.4, \"Iris-versicolor\", \"Cluster 1\"], [75.0, 6.4, 2.9, 4.3, 1.3, \"Iris-versicolor\", \"Cluster 1\"], [150.0, 5.9, 3.0, 5.1, 1.8, \"Iris-virginica\", \"Cluster 1\"], [57.0, 6.3, 3.3, 4.7, 1.6, \"Iris-versicolor\", \"Cluster 1\"], [59.0, 6.6, 2.9, 4.6, 1.3, \"Iris-versicolor\", \"Cluster 1\"], [55.0, 6.5, 2.8, 4.6, 1.5, \"Iris-versicolor\", \"Cluster 1\"], [76.0, 6.6, 3.0, 4.4, 1.4, \"Iris-versicolor\", \"Cluster 1\"], [64.0, 6.1, 2.9, 4.7, 1.4, \"Iris-versicolor\", \"Cluster 1\"], [53.0, 6.9, 3.1, 4.9, 1.5, \"Iris-versicolor\", \"Cluster 1\"], [66.0, 6.7, 3.1, 4.4, 1.4, \"Iris-versicolor\", \"Cluster 1\"], [51.0, 7.0, 3.2, 4.7, 1.4, \"Iris-versicolor\", \"Cluster 1\"], [69.0, 6.2, 2.2, 4.5, 1.5, \"Iris-versicolor\", \"Cluster 1\"], [52.0, 6.4, 3.2, 4.5, 1.5, \"Iris-versicolor\", \"Cluster 1\"], [71.0, 5.9, 3.2, 4.8, 1.8, \"Iris-versicolor\", \"Cluster 1\"], [73.0, 6.3, 2.5, 4.9, 1.5, \"Iris-versicolor\", \"Cluster 1\"], [74.0, 6.1, 2.8, 4.7, 1.2, \"Iris-versicolor\", \"Cluster 1\"]], \"hoverlabel\": {\"namelength\": 0}, \"hovertemplate\": \"Cluster=%{customdata[6]}<br>Id=%{customdata[0]}<br>SepalLengthCm=%{customdata[1]}<br>SepalWidthCm=%{customdata[2]}<br>PetalLengthCm=%{customdata[3]}<br>PetalWidthCm=%{customdata[4]}<br>Species=%{customdata[5]}\", \"legendgroup\": \"Cluster=Cluster 1\", \"marker\": {\"color\": \"#EF553B\"}, \"name\": \"Cluster=Cluster 1\", \"notched\": true, \"offsetgroup\": \"Cluster=Cluster 1\", \"showlegend\": false, \"type\": \"box\", \"x\": [\"Cluster 1\", \"Cluster 1\", \"Cluster 1\", \"Cluster 1\", \"Cluster 1\", \"Cluster 1\", \"Cluster 1\", \"Cluster 1\", \"Cluster 1\", \"Cluster 1\", \"Cluster 1\", \"Cluster 1\", \"Cluster 1\", \"Cluster 1\", \"Cluster 1\", \"Cluster 1\", \"Cluster 1\", \"Cluster 1\", \"Cluster 1\", \"Cluster 1\", \"Cluster 1\", \"Cluster 1\", \"Cluster 1\", \"Cluster 1\", \"Cluster 1\", \"Cluster 1\", \"Cluster 1\", \"Cluster 1\", \"Cluster 1\", \"Cluster 1\", \"Cluster 1\", \"Cluster 1\", \"Cluster 1\", \"Cluster 1\", \"Cluster 1\", \"Cluster 1\", \"Cluster 1\", \"Cluster 1\", \"Cluster 1\", \"Cluster 1\"], \"xaxis\": \"x2\", \"yaxis\": \"y2\"}, {\"alignmentgroup\": \"True\", \"bingroup\": \"x\", \"hoverlabel\": {\"namelength\": 0}, \"hovertemplate\": \"Cluster=%{x}<br>count=%{y}\", \"legendgroup\": \"Cluster=Cluster 2\", \"marker\": {\"color\": \"#00cc96\", \"opacity\": 0.7}, \"name\": \"Cluster=Cluster 2\", \"offsetgroup\": \"Cluster=Cluster 2\", \"orientation\": \"v\", \"showlegend\": true, \"type\": \"histogram\", \"x\": [\"Cluster 2\", \"Cluster 2\", \"Cluster 2\", \"Cluster 2\", \"Cluster 2\", \"Cluster 2\", \"Cluster 2\", \"Cluster 2\", \"Cluster 2\", \"Cluster 2\", \"Cluster 2\", \"Cluster 2\", \"Cluster 2\", \"Cluster 2\", \"Cluster 2\", \"Cluster 2\", \"Cluster 2\", \"Cluster 2\", \"Cluster 2\", \"Cluster 2\", \"Cluster 2\", \"Cluster 2\", \"Cluster 2\", \"Cluster 2\", \"Cluster 2\", \"Cluster 2\", \"Cluster 2\", \"Cluster 2\"], \"xaxis\": \"x\", \"yaxis\": \"y\"}, {\"alignmentgroup\": \"True\", \"customdata\": [[60.0, 5.2, 2.7, 3.9, 1.4, \"Iris-versicolor\", \"Cluster 2\"], [54.0, 5.5, 2.3, 4.0, 1.3, \"Iris-versicolor\", \"Cluster 2\"], [80.0, 5.7, 2.6, 3.5, 1.0, \"Iris-versicolor\", \"Cluster 2\"], [62.0, 5.9, 3.0, 4.2, 1.5, \"Iris-versicolor\", \"Cluster 2\"], [63.0, 6.0, 2.2, 4.0, 1.0, \"Iris-versicolor\", \"Cluster 2\"], [81.0, 5.5, 2.4, 3.8, 1.1, \"Iris-versicolor\", \"Cluster 2\"], [82.0, 5.5, 2.4, 3.7, 1.0, \"Iris-versicolor\", \"Cluster 2\"], [65.0, 5.6, 2.9, 3.6, 1.3, \"Iris-versicolor\", \"Cluster 2\"], [70.0, 5.6, 2.5, 3.9, 1.1, \"Iris-versicolor\", \"Cluster 2\"], [83.0, 5.8, 2.7, 3.9, 1.2, \"Iris-versicolor\", \"Cluster 2\"], [107.0, 4.9, 2.5, 4.5, 1.7, \"Iris-virginica\", \"Cluster 2\"], [56.0, 5.7, 2.8, 4.5, 1.3, \"Iris-versicolor\", \"Cluster 2\"], [58.0, 4.9, 2.4, 3.3, 1.0, \"Iris-versicolor\", \"Cluster 2\"], [95.0, 5.6, 2.7, 4.2, 1.3, \"Iris-versicolor\", \"Cluster 2\"], [89.0, 5.6, 3.0, 4.1, 1.3, \"Iris-versicolor\", \"Cluster 2\"], [90.0, 5.5, 2.5, 4.0, 1.3, \"Iris-versicolor\", \"Cluster 2\"], [91.0, 5.5, 2.6, 4.4, 1.2, \"Iris-versicolor\", \"Cluster 2\"], [68.0, 5.8, 2.7, 4.1, 1.0, \"Iris-versicolor\", \"Cluster 2\"], [93.0, 5.8, 2.6, 4.0, 1.2, \"Iris-versicolor\", \"Cluster 2\"], [94.0, 5.0, 2.3, 3.3, 1.0, \"Iris-versicolor\", \"Cluster 2\"], [72.0, 6.1, 2.8, 4.0, 1.3, \"Iris-versicolor\", \"Cluster 2\"], [61.0, 5.0, 2.0, 3.5, 1.0, \"Iris-versicolor\", \"Cluster 2\"], [97.0, 5.7, 2.9, 4.2, 1.3, \"Iris-versicolor\", \"Cluster 2\"], [67.0, 5.6, 3.0, 4.5, 1.5, \"Iris-versicolor\", \"Cluster 2\"], [99.0, 5.1, 2.5, 3.0, 1.1, \"Iris-versicolor\", \"Cluster 2\"], [100.0, 5.7, 2.8, 4.1, 1.3, \"Iris-versicolor\", \"Cluster 2\"], [85.0, 5.4, 3.0, 4.5, 1.5, \"Iris-versicolor\", \"Cluster 2\"], [96.0, 5.7, 3.0, 4.2, 1.2, \"Iris-versicolor\", \"Cluster 2\"]], \"hoverlabel\": {\"namelength\": 0}, \"hovertemplate\": \"Cluster=%{customdata[6]}<br>Id=%{customdata[0]}<br>SepalLengthCm=%{customdata[1]}<br>SepalWidthCm=%{customdata[2]}<br>PetalLengthCm=%{customdata[3]}<br>PetalWidthCm=%{customdata[4]}<br>Species=%{customdata[5]}\", \"legendgroup\": \"Cluster=Cluster 2\", \"marker\": {\"color\": \"#00cc96\"}, \"name\": \"Cluster=Cluster 2\", \"notched\": true, \"offsetgroup\": \"Cluster=Cluster 2\", \"showlegend\": false, \"type\": \"box\", \"x\": [\"Cluster 2\", \"Cluster 2\", \"Cluster 2\", \"Cluster 2\", \"Cluster 2\", \"Cluster 2\", \"Cluster 2\", \"Cluster 2\", \"Cluster 2\", \"Cluster 2\", \"Cluster 2\", \"Cluster 2\", \"Cluster 2\", \"Cluster 2\", \"Cluster 2\", \"Cluster 2\", \"Cluster 2\", \"Cluster 2\", \"Cluster 2\", \"Cluster 2\", \"Cluster 2\", \"Cluster 2\", \"Cluster 2\", \"Cluster 2\", \"Cluster 2\", \"Cluster 2\", \"Cluster 2\", \"Cluster 2\"], \"xaxis\": \"x2\", \"yaxis\": \"y2\"}, {\"alignmentgroup\": \"True\", \"bingroup\": \"x\", \"hoverlabel\": {\"namelength\": 0}, \"hovertemplate\": \"Cluster=%{x}<br>count=%{y}\", \"legendgroup\": \"Cluster=Cluster 3\", \"marker\": {\"color\": \"#ab63fa\", \"opacity\": 0.7}, \"name\": \"Cluster=Cluster 3\", \"offsetgroup\": \"Cluster=Cluster 3\", \"orientation\": \"v\", \"showlegend\": true, \"type\": \"histogram\", \"x\": [\"Cluster 3\", \"Cluster 3\", \"Cluster 3\", \"Cluster 3\", \"Cluster 3\", \"Cluster 3\", \"Cluster 3\", \"Cluster 3\", \"Cluster 3\", \"Cluster 3\", \"Cluster 3\", \"Cluster 3\", \"Cluster 3\", \"Cluster 3\", \"Cluster 3\", \"Cluster 3\", \"Cluster 3\", \"Cluster 3\", \"Cluster 3\", \"Cluster 3\", \"Cluster 3\", \"Cluster 3\", \"Cluster 3\", \"Cluster 3\", \"Cluster 3\", \"Cluster 3\", \"Cluster 3\", \"Cluster 3\", \"Cluster 3\", \"Cluster 3\", \"Cluster 3\", \"Cluster 3\"], \"xaxis\": \"x\", \"yaxis\": \"y\"}, {\"alignmentgroup\": \"True\", \"customdata\": [[133.0, 6.4, 2.8, 5.6, 2.2, \"Iris-virginica\", \"Cluster 3\"], [136.0, 7.7, 3.0, 6.1, 2.3, \"Iris-virginica\", \"Cluster 3\"], [142.0, 6.9, 3.1, 5.1, 2.3, \"Iris-virginica\", \"Cluster 3\"], [138.0, 6.4, 3.1, 5.5, 1.8, \"Iris-virginica\", \"Cluster 3\"], [140.0, 6.9, 3.1, 5.4, 2.1, \"Iris-virginica\", \"Cluster 3\"], [141.0, 6.7, 3.1, 5.6, 2.4, \"Iris-virginica\", \"Cluster 3\"], [144.0, 6.8, 3.2, 5.9, 2.3, \"Iris-virginica\", \"Cluster 3\"], [145.0, 6.7, 3.3, 5.7, 2.5, \"Iris-virginica\", \"Cluster 3\"], [146.0, 6.7, 3.0, 5.2, 2.3, \"Iris-virginica\", \"Cluster 3\"], [132.0, 7.9, 3.8, 6.4, 2.0, \"Iris-virginica\", \"Cluster 3\"], [137.0, 6.3, 3.4, 5.6, 2.4, \"Iris-virginica\", \"Cluster 3\"], [131.0, 7.4, 2.8, 6.1, 1.9, \"Iris-virginica\", \"Cluster 3\"], [149.0, 6.2, 3.4, 5.4, 2.3, \"Iris-virginica\", \"Cluster 3\"], [129.0, 6.4, 2.8, 5.6, 2.1, \"Iris-virginica\", \"Cluster 3\"], [101.0, 6.3, 3.3, 6.0, 2.5, \"Iris-virginica\", \"Cluster 3\"], [103.0, 7.1, 3.0, 5.9, 2.1, \"Iris-virginica\", \"Cluster 3\"], [104.0, 6.3, 2.9, 5.6, 1.8, \"Iris-virginica\", \"Cluster 3\"], [105.0, 6.5, 3.0, 5.8, 2.2, \"Iris-virginica\", \"Cluster 3\"], [106.0, 7.6, 3.0, 6.6, 2.1, \"Iris-virginica\", \"Cluster 3\"], [108.0, 7.3, 2.9, 6.3, 1.8, \"Iris-virginica\", \"Cluster 3\"], [109.0, 6.7, 2.5, 5.8, 1.8, \"Iris-virginica\", \"Cluster 3\"], [130.0, 7.2, 3.0, 5.8, 1.6, \"Iris-virginica\", \"Cluster 3\"], [110.0, 7.2, 3.6, 6.1, 2.5, \"Iris-virginica\", \"Cluster 3\"], [117.0, 6.5, 3.0, 5.5, 1.8, \"Iris-virginica\", \"Cluster 3\"], [118.0, 7.7, 3.8, 6.7, 2.2, \"Iris-virginica\", \"Cluster 3\"], [119.0, 7.7, 2.6, 6.9, 2.3, \"Iris-virginica\", \"Cluster 3\"], [121.0, 6.9, 3.2, 5.7, 2.3, \"Iris-virginica\", \"Cluster 3\"], [123.0, 7.7, 2.8, 6.7, 2.0, \"Iris-virginica\", \"Cluster 3\"], [125.0, 6.7, 3.3, 5.7, 2.1, \"Iris-virginica\", \"Cluster 3\"], [126.0, 7.2, 3.2, 6.0, 1.8, \"Iris-virginica\", \"Cluster 3\"], [116.0, 6.4, 3.2, 5.3, 2.3, \"Iris-virginica\", \"Cluster 3\"], [113.0, 6.8, 3.0, 5.5, 2.1, \"Iris-virginica\", \"Cluster 3\"]], \"hoverlabel\": {\"namelength\": 0}, \"hovertemplate\": \"Cluster=%{customdata[6]}<br>Id=%{customdata[0]}<br>SepalLengthCm=%{customdata[1]}<br>SepalWidthCm=%{customdata[2]}<br>PetalLengthCm=%{customdata[3]}<br>PetalWidthCm=%{customdata[4]}<br>Species=%{customdata[5]}\", \"legendgroup\": \"Cluster=Cluster 3\", \"marker\": {\"color\": \"#ab63fa\"}, \"name\": \"Cluster=Cluster 3\", \"notched\": true, \"offsetgroup\": \"Cluster=Cluster 3\", \"showlegend\": false, \"type\": \"box\", \"x\": [\"Cluster 3\", \"Cluster 3\", \"Cluster 3\", \"Cluster 3\", \"Cluster 3\", \"Cluster 3\", \"Cluster 3\", \"Cluster 3\", \"Cluster 3\", \"Cluster 3\", \"Cluster 3\", \"Cluster 3\", \"Cluster 3\", \"Cluster 3\", \"Cluster 3\", \"Cluster 3\", \"Cluster 3\", \"Cluster 3\", \"Cluster 3\", \"Cluster 3\", \"Cluster 3\", \"Cluster 3\", \"Cluster 3\", \"Cluster 3\", \"Cluster 3\", \"Cluster 3\", \"Cluster 3\", \"Cluster 3\", \"Cluster 3\", \"Cluster 3\", \"Cluster 3\", \"Cluster 3\"], \"xaxis\": \"x2\", \"yaxis\": \"y2\"}],\n",
       "                        {\"barmode\": \"relative\", \"legend\": {\"tracegroupgap\": 0}, \"margin\": {\"t\": 60}, \"template\": {\"data\": {\"bar\": [{\"error_x\": {\"color\": \"#2a3f5f\"}, \"error_y\": {\"color\": \"#2a3f5f\"}, \"marker\": {\"line\": {\"color\": \"#E5ECF6\", \"width\": 0.5}}, \"type\": \"bar\"}], \"barpolar\": [{\"marker\": {\"line\": {\"color\": \"#E5ECF6\", \"width\": 0.5}}, \"type\": \"barpolar\"}], \"carpet\": [{\"aaxis\": {\"endlinecolor\": \"#2a3f5f\", \"gridcolor\": \"white\", \"linecolor\": \"white\", \"minorgridcolor\": \"white\", \"startlinecolor\": \"#2a3f5f\"}, \"baxis\": {\"endlinecolor\": \"#2a3f5f\", \"gridcolor\": \"white\", \"linecolor\": \"white\", \"minorgridcolor\": \"white\", \"startlinecolor\": \"#2a3f5f\"}, \"type\": \"carpet\"}], \"choropleth\": [{\"colorbar\": {\"outlinewidth\": 0, \"ticks\": \"\"}, \"type\": \"choropleth\"}], \"contour\": [{\"colorbar\": {\"outlinewidth\": 0, \"ticks\": \"\"}, \"colorscale\": [[0.0, \"#0d0887\"], [0.1111111111111111, \"#46039f\"], [0.2222222222222222, \"#7201a8\"], [0.3333333333333333, \"#9c179e\"], [0.4444444444444444, \"#bd3786\"], [0.5555555555555556, \"#d8576b\"], [0.6666666666666666, \"#ed7953\"], [0.7777777777777778, \"#fb9f3a\"], [0.8888888888888888, \"#fdca26\"], [1.0, \"#f0f921\"]], \"type\": \"contour\"}], \"contourcarpet\": [{\"colorbar\": {\"outlinewidth\": 0, \"ticks\": \"\"}, \"type\": \"contourcarpet\"}], \"heatmap\": [{\"colorbar\": {\"outlinewidth\": 0, \"ticks\": \"\"}, \"colorscale\": [[0.0, \"#0d0887\"], [0.1111111111111111, \"#46039f\"], [0.2222222222222222, \"#7201a8\"], [0.3333333333333333, \"#9c179e\"], [0.4444444444444444, \"#bd3786\"], [0.5555555555555556, \"#d8576b\"], [0.6666666666666666, \"#ed7953\"], [0.7777777777777778, \"#fb9f3a\"], [0.8888888888888888, \"#fdca26\"], [1.0, \"#f0f921\"]], \"type\": \"heatmap\"}], \"heatmapgl\": [{\"colorbar\": {\"outlinewidth\": 0, \"ticks\": \"\"}, \"colorscale\": [[0.0, \"#0d0887\"], [0.1111111111111111, \"#46039f\"], [0.2222222222222222, \"#7201a8\"], [0.3333333333333333, \"#9c179e\"], [0.4444444444444444, \"#bd3786\"], [0.5555555555555556, \"#d8576b\"], [0.6666666666666666, \"#ed7953\"], [0.7777777777777778, \"#fb9f3a\"], [0.8888888888888888, \"#fdca26\"], [1.0, \"#f0f921\"]], \"type\": \"heatmapgl\"}], \"histogram\": [{\"marker\": {\"colorbar\": {\"outlinewidth\": 0, \"ticks\": \"\"}}, \"type\": \"histogram\"}], \"histogram2d\": [{\"colorbar\": {\"outlinewidth\": 0, \"ticks\": \"\"}, \"colorscale\": [[0.0, \"#0d0887\"], [0.1111111111111111, \"#46039f\"], [0.2222222222222222, \"#7201a8\"], [0.3333333333333333, \"#9c179e\"], [0.4444444444444444, \"#bd3786\"], [0.5555555555555556, \"#d8576b\"], [0.6666666666666666, \"#ed7953\"], [0.7777777777777778, \"#fb9f3a\"], [0.8888888888888888, \"#fdca26\"], [1.0, \"#f0f921\"]], \"type\": \"histogram2d\"}], \"histogram2dcontour\": [{\"colorbar\": {\"outlinewidth\": 0, \"ticks\": \"\"}, \"colorscale\": [[0.0, \"#0d0887\"], [0.1111111111111111, \"#46039f\"], [0.2222222222222222, \"#7201a8\"], [0.3333333333333333, \"#9c179e\"], [0.4444444444444444, \"#bd3786\"], [0.5555555555555556, \"#d8576b\"], [0.6666666666666666, \"#ed7953\"], [0.7777777777777778, \"#fb9f3a\"], [0.8888888888888888, \"#fdca26\"], [1.0, \"#f0f921\"]], \"type\": \"histogram2dcontour\"}], \"mesh3d\": [{\"colorbar\": {\"outlinewidth\": 0, \"ticks\": \"\"}, \"type\": \"mesh3d\"}], \"parcoords\": [{\"line\": {\"colorbar\": {\"outlinewidth\": 0, \"ticks\": \"\"}}, \"type\": \"parcoords\"}], \"pie\": [{\"automargin\": true, \"type\": \"pie\"}], \"scatter\": [{\"marker\": {\"colorbar\": {\"outlinewidth\": 0, \"ticks\": \"\"}}, \"type\": \"scatter\"}], \"scatter3d\": [{\"line\": {\"colorbar\": {\"outlinewidth\": 0, \"ticks\": \"\"}}, \"marker\": {\"colorbar\": {\"outlinewidth\": 0, \"ticks\": \"\"}}, \"type\": \"scatter3d\"}], \"scattercarpet\": [{\"marker\": {\"colorbar\": {\"outlinewidth\": 0, \"ticks\": \"\"}}, \"type\": \"scattercarpet\"}], \"scattergeo\": [{\"marker\": {\"colorbar\": {\"outlinewidth\": 0, \"ticks\": \"\"}}, \"type\": \"scattergeo\"}], \"scattergl\": [{\"marker\": {\"colorbar\": {\"outlinewidth\": 0, \"ticks\": \"\"}}, \"type\": \"scattergl\"}], \"scattermapbox\": [{\"marker\": {\"colorbar\": {\"outlinewidth\": 0, \"ticks\": \"\"}}, \"type\": \"scattermapbox\"}], \"scatterpolar\": [{\"marker\": {\"colorbar\": {\"outlinewidth\": 0, \"ticks\": \"\"}}, \"type\": \"scatterpolar\"}], \"scatterpolargl\": [{\"marker\": {\"colorbar\": {\"outlinewidth\": 0, \"ticks\": \"\"}}, \"type\": \"scatterpolargl\"}], \"scatterternary\": [{\"marker\": {\"colorbar\": {\"outlinewidth\": 0, \"ticks\": \"\"}}, \"type\": \"scatterternary\"}], \"surface\": [{\"colorbar\": {\"outlinewidth\": 0, \"ticks\": \"\"}, \"colorscale\": [[0.0, \"#0d0887\"], [0.1111111111111111, \"#46039f\"], [0.2222222222222222, \"#7201a8\"], [0.3333333333333333, \"#9c179e\"], [0.4444444444444444, \"#bd3786\"], [0.5555555555555556, \"#d8576b\"], [0.6666666666666666, \"#ed7953\"], [0.7777777777777778, \"#fb9f3a\"], [0.8888888888888888, \"#fdca26\"], [1.0, \"#f0f921\"]], \"type\": \"surface\"}], \"table\": [{\"cells\": {\"fill\": {\"color\": \"#EBF0F8\"}, \"line\": {\"color\": \"white\"}}, \"header\": {\"fill\": {\"color\": \"#C8D4E3\"}, \"line\": {\"color\": \"white\"}}, \"type\": \"table\"}]}, \"layout\": {\"annotationdefaults\": {\"arrowcolor\": \"#2a3f5f\", \"arrowhead\": 0, \"arrowwidth\": 1}, \"coloraxis\": {\"colorbar\": {\"outlinewidth\": 0, \"ticks\": \"\"}}, \"colorscale\": {\"diverging\": [[0, \"#8e0152\"], [0.1, \"#c51b7d\"], [0.2, \"#de77ae\"], [0.3, \"#f1b6da\"], [0.4, \"#fde0ef\"], [0.5, \"#f7f7f7\"], [0.6, \"#e6f5d0\"], [0.7, \"#b8e186\"], [0.8, \"#7fbc41\"], [0.9, \"#4d9221\"], [1, \"#276419\"]], \"sequential\": [[0.0, \"#0d0887\"], [0.1111111111111111, \"#46039f\"], [0.2222222222222222, \"#7201a8\"], [0.3333333333333333, \"#9c179e\"], [0.4444444444444444, \"#bd3786\"], [0.5555555555555556, \"#d8576b\"], [0.6666666666666666, \"#ed7953\"], [0.7777777777777778, \"#fb9f3a\"], [0.8888888888888888, \"#fdca26\"], [1.0, \"#f0f921\"]], \"sequentialminus\": [[0.0, \"#0d0887\"], [0.1111111111111111, \"#46039f\"], [0.2222222222222222, \"#7201a8\"], [0.3333333333333333, \"#9c179e\"], [0.4444444444444444, \"#bd3786\"], [0.5555555555555556, \"#d8576b\"], [0.6666666666666666, \"#ed7953\"], [0.7777777777777778, \"#fb9f3a\"], [0.8888888888888888, \"#fdca26\"], [1.0, \"#f0f921\"]]}, \"colorway\": [\"#636efa\", \"#EF553B\", \"#00cc96\", \"#ab63fa\", \"#FFA15A\", \"#19d3f3\", \"#FF6692\", \"#B6E880\", \"#FF97FF\", \"#FECB52\"], \"font\": {\"color\": \"#2a3f5f\"}, \"geo\": {\"bgcolor\": \"white\", \"lakecolor\": \"white\", \"landcolor\": \"#E5ECF6\", \"showlakes\": true, \"showland\": true, \"subunitcolor\": \"white\"}, \"hoverlabel\": {\"align\": \"left\"}, \"hovermode\": \"closest\", \"mapbox\": {\"style\": \"light\"}, \"paper_bgcolor\": \"white\", \"plot_bgcolor\": \"#E5ECF6\", \"polar\": {\"angularaxis\": {\"gridcolor\": \"white\", \"linecolor\": \"white\", \"ticks\": \"\"}, \"bgcolor\": \"#E5ECF6\", \"radialaxis\": {\"gridcolor\": \"white\", \"linecolor\": \"white\", \"ticks\": \"\"}}, \"scene\": {\"xaxis\": {\"backgroundcolor\": \"#E5ECF6\", \"gridcolor\": \"white\", \"gridwidth\": 2, \"linecolor\": \"white\", \"showbackground\": true, \"ticks\": \"\", \"zerolinecolor\": \"white\"}, \"yaxis\": {\"backgroundcolor\": \"#E5ECF6\", \"gridcolor\": \"white\", \"gridwidth\": 2, \"linecolor\": \"white\", \"showbackground\": true, \"ticks\": \"\", \"zerolinecolor\": \"white\"}, \"zaxis\": {\"backgroundcolor\": \"#E5ECF6\", \"gridcolor\": \"white\", \"gridwidth\": 2, \"linecolor\": \"white\", \"showbackground\": true, \"ticks\": \"\", \"zerolinecolor\": \"white\"}}, \"shapedefaults\": {\"line\": {\"color\": \"#2a3f5f\"}}, \"ternary\": {\"aaxis\": {\"gridcolor\": \"white\", \"linecolor\": \"white\", \"ticks\": \"\"}, \"baxis\": {\"gridcolor\": \"white\", \"linecolor\": \"white\", \"ticks\": \"\"}, \"bgcolor\": \"#E5ECF6\", \"caxis\": {\"gridcolor\": \"white\", \"linecolor\": \"white\", \"ticks\": \"\"}}, \"title\": {\"x\": 0.05}, \"xaxis\": {\"automargin\": true, \"gridcolor\": \"white\", \"linecolor\": \"white\", \"ticks\": \"\", \"title\": {\"standoff\": 15}, \"zerolinecolor\": \"white\", \"zerolinewidth\": 2}, \"yaxis\": {\"automargin\": true, \"gridcolor\": \"white\", \"linecolor\": \"white\", \"ticks\": \"\", \"title\": {\"standoff\": 15}, \"zerolinecolor\": \"white\", \"zerolinewidth\": 2}}}, \"xaxis\": {\"anchor\": \"y\", \"categoryarray\": [\"Cluster 0\", \"Cluster 1\", \"Cluster 2\", \"Cluster 3\"], \"categoryorder\": \"array\", \"domain\": [0.0, 1.0], \"title\": {\"text\": \"Cluster\"}}, \"xaxis2\": {\"anchor\": \"y2\", \"domain\": [0.0, 1.0], \"matches\": \"x\", \"showgrid\": true, \"showticklabels\": false}, \"yaxis\": {\"anchor\": \"x\", \"domain\": [0.0, 0.7326], \"title\": {\"text\": \"count\"}}, \"yaxis2\": {\"anchor\": \"x2\", \"domain\": [0.7426, 1.0], \"matches\": \"y2\", \"showgrid\": false, \"showline\": false, \"showticklabels\": false, \"ticks\": \"\"}},\n",
       "                        {\"responsive\": true}\n",
       "                    ).then(function(){\n",
       "                            \n",
       "var gd = document.getElementById('0c792514-e9b6-418f-ae43-97173f6d5e6f');\n",
       "var x = new MutationObserver(function (mutations, observer) {{\n",
       "        var display = window.getComputedStyle(gd).display;\n",
       "        if (!display || display === 'none') {{\n",
       "            console.log([gd, 'removed!']);\n",
       "            Plotly.purge(gd);\n",
       "            observer.disconnect();\n",
       "        }}\n",
       "}});\n",
       "\n",
       "// Listen for the removal of the full notebook cells\n",
       "var notebookContainer = gd.closest('#notebook-container');\n",
       "if (notebookContainer) {{\n",
       "    x.observe(notebookContainer, {childList: true});\n",
       "}}\n",
       "\n",
       "// Listen for the clearing of the current output cell\n",
       "var outputEl = gd.closest('.output');\n",
       "if (outputEl) {{\n",
       "    x.observe(outputEl, {childList: true});\n",
       "}}\n",
       "\n",
       "                        })\n",
       "                };\n",
       "                });\n",
       "            </script>\n",
       "        </div>"
      ]
     },
     "metadata": {},
     "output_type": "display_data"
    }
   ],
   "source": [
    "plot_model(kmeans,plot='distribution')"
   ]
  },
  {
   "cell_type": "code",
   "execution_count": 25,
   "metadata": {},
   "outputs": [
    {
     "data": {
      "text/plain": [
       "Iris-virginica     50\n",
       "Iris-versicolor    50\n",
       "Iris-setosa        50\n",
       "Name: Species, dtype: int64"
      ]
     },
     "execution_count": 25,
     "metadata": {},
     "output_type": "execute_result"
    }
   ],
   "source": [
    "iris_df.Species.value_counts()"
   ]
  },
  {
   "cell_type": "code",
   "execution_count": 26,
   "metadata": {},
   "outputs": [
    {
     "data": {
      "text/plain": [
       "Cluster 0    50\n",
       "Cluster 1    40\n",
       "Cluster 2    32\n",
       "Cluster 3    28\n",
       "Name: Cluster, dtype: int64"
      ]
     },
     "execution_count": 26,
     "metadata": {},
     "output_type": "execute_result"
    }
   ],
   "source": [
    "kmeans_results.Cluster.value_counts()"
   ]
  },
  {
   "cell_type": "code",
   "execution_count": 56,
   "metadata": {},
   "outputs": [],
   "source": [
    "kmeans1 = create_model(\"kmeans\",num_clusters=3)"
   ]
  },
  {
   "cell_type": "code",
   "execution_count": 57,
   "metadata": {},
   "outputs": [],
   "source": [
    "kmeans_results1 = assign_model(kmeans1)"
   ]
  },
  {
   "cell_type": "code",
   "execution_count": 58,
   "metadata": {},
   "outputs": [
    {
     "data": {
      "text/html": [
       "<div>\n",
       "<style scoped>\n",
       "    .dataframe tbody tr th:only-of-type {\n",
       "        vertical-align: middle;\n",
       "    }\n",
       "\n",
       "    .dataframe tbody tr th {\n",
       "        vertical-align: top;\n",
       "    }\n",
       "\n",
       "    .dataframe thead th {\n",
       "        text-align: right;\n",
       "    }\n",
       "</style>\n",
       "<table border=\"1\" class=\"dataframe\">\n",
       "  <thead>\n",
       "    <tr style=\"text-align: right;\">\n",
       "      <th></th>\n",
       "      <th>Id</th>\n",
       "      <th>SepalLengthCm</th>\n",
       "      <th>SepalWidthCm</th>\n",
       "      <th>PetalLengthCm</th>\n",
       "      <th>PetalWidthCm</th>\n",
       "      <th>Species</th>\n",
       "      <th>Cluster</th>\n",
       "    </tr>\n",
       "  </thead>\n",
       "  <tbody>\n",
       "    <tr>\n",
       "      <th>0</th>\n",
       "      <td>1</td>\n",
       "      <td>5.1</td>\n",
       "      <td>3.5</td>\n",
       "      <td>1.4</td>\n",
       "      <td>0.2</td>\n",
       "      <td>Iris-setosa</td>\n",
       "      <td>Cluster 1</td>\n",
       "    </tr>\n",
       "    <tr>\n",
       "      <th>1</th>\n",
       "      <td>2</td>\n",
       "      <td>4.9</td>\n",
       "      <td>3.0</td>\n",
       "      <td>1.4</td>\n",
       "      <td>0.2</td>\n",
       "      <td>Iris-setosa</td>\n",
       "      <td>Cluster 1</td>\n",
       "    </tr>\n",
       "    <tr>\n",
       "      <th>2</th>\n",
       "      <td>3</td>\n",
       "      <td>4.7</td>\n",
       "      <td>3.2</td>\n",
       "      <td>1.3</td>\n",
       "      <td>0.2</td>\n",
       "      <td>Iris-setosa</td>\n",
       "      <td>Cluster 1</td>\n",
       "    </tr>\n",
       "    <tr>\n",
       "      <th>3</th>\n",
       "      <td>4</td>\n",
       "      <td>4.6</td>\n",
       "      <td>3.1</td>\n",
       "      <td>1.5</td>\n",
       "      <td>0.2</td>\n",
       "      <td>Iris-setosa</td>\n",
       "      <td>Cluster 1</td>\n",
       "    </tr>\n",
       "    <tr>\n",
       "      <th>4</th>\n",
       "      <td>5</td>\n",
       "      <td>5.0</td>\n",
       "      <td>3.6</td>\n",
       "      <td>1.4</td>\n",
       "      <td>0.2</td>\n",
       "      <td>Iris-setosa</td>\n",
       "      <td>Cluster 1</td>\n",
       "    </tr>\n",
       "    <tr>\n",
       "      <th>...</th>\n",
       "      <td>...</td>\n",
       "      <td>...</td>\n",
       "      <td>...</td>\n",
       "      <td>...</td>\n",
       "      <td>...</td>\n",
       "      <td>...</td>\n",
       "      <td>...</td>\n",
       "    </tr>\n",
       "    <tr>\n",
       "      <th>145</th>\n",
       "      <td>146</td>\n",
       "      <td>6.7</td>\n",
       "      <td>3.0</td>\n",
       "      <td>5.2</td>\n",
       "      <td>2.3</td>\n",
       "      <td>Iris-virginica</td>\n",
       "      <td>Cluster 2</td>\n",
       "    </tr>\n",
       "    <tr>\n",
       "      <th>146</th>\n",
       "      <td>147</td>\n",
       "      <td>6.3</td>\n",
       "      <td>2.5</td>\n",
       "      <td>5.0</td>\n",
       "      <td>1.9</td>\n",
       "      <td>Iris-virginica</td>\n",
       "      <td>Cluster 0</td>\n",
       "    </tr>\n",
       "    <tr>\n",
       "      <th>147</th>\n",
       "      <td>148</td>\n",
       "      <td>6.5</td>\n",
       "      <td>3.0</td>\n",
       "      <td>5.2</td>\n",
       "      <td>2.0</td>\n",
       "      <td>Iris-virginica</td>\n",
       "      <td>Cluster 2</td>\n",
       "    </tr>\n",
       "    <tr>\n",
       "      <th>148</th>\n",
       "      <td>149</td>\n",
       "      <td>6.2</td>\n",
       "      <td>3.4</td>\n",
       "      <td>5.4</td>\n",
       "      <td>2.3</td>\n",
       "      <td>Iris-virginica</td>\n",
       "      <td>Cluster 2</td>\n",
       "    </tr>\n",
       "    <tr>\n",
       "      <th>149</th>\n",
       "      <td>150</td>\n",
       "      <td>5.9</td>\n",
       "      <td>3.0</td>\n",
       "      <td>5.1</td>\n",
       "      <td>1.8</td>\n",
       "      <td>Iris-virginica</td>\n",
       "      <td>Cluster 0</td>\n",
       "    </tr>\n",
       "  </tbody>\n",
       "</table>\n",
       "<p>150 rows × 7 columns</p>\n",
       "</div>"
      ],
      "text/plain": [
       "      Id  SepalLengthCm  SepalWidthCm  PetalLengthCm  PetalWidthCm  \\\n",
       "0      1            5.1           3.5            1.4           0.2   \n",
       "1      2            4.9           3.0            1.4           0.2   \n",
       "2      3            4.7           3.2            1.3           0.2   \n",
       "3      4            4.6           3.1            1.5           0.2   \n",
       "4      5            5.0           3.6            1.4           0.2   \n",
       "..   ...            ...           ...            ...           ...   \n",
       "145  146            6.7           3.0            5.2           2.3   \n",
       "146  147            6.3           2.5            5.0           1.9   \n",
       "147  148            6.5           3.0            5.2           2.0   \n",
       "148  149            6.2           3.4            5.4           2.3   \n",
       "149  150            5.9           3.0            5.1           1.8   \n",
       "\n",
       "            Species    Cluster  \n",
       "0       Iris-setosa  Cluster 1  \n",
       "1       Iris-setosa  Cluster 1  \n",
       "2       Iris-setosa  Cluster 1  \n",
       "3       Iris-setosa  Cluster 1  \n",
       "4       Iris-setosa  Cluster 1  \n",
       "..              ...        ...  \n",
       "145  Iris-virginica  Cluster 2  \n",
       "146  Iris-virginica  Cluster 0  \n",
       "147  Iris-virginica  Cluster 2  \n",
       "148  Iris-virginica  Cluster 2  \n",
       "149  Iris-virginica  Cluster 0  \n",
       "\n",
       "[150 rows x 7 columns]"
      ]
     },
     "execution_count": 58,
     "metadata": {},
     "output_type": "execute_result"
    }
   ],
   "source": [
    "kmeans_results1"
   ]
  },
  {
   "cell_type": "code",
   "execution_count": 59,
   "metadata": {},
   "outputs": [
    {
     "data": {
      "text/plain": [
       "Cluster 0    62\n",
       "Cluster 1    50\n",
       "Cluster 2    38\n",
       "Name: Cluster, dtype: int64"
      ]
     },
     "execution_count": 59,
     "metadata": {},
     "output_type": "execute_result"
    }
   ],
   "source": [
    "kmeans_results1.Cluster.value_counts()"
   ]
  },
  {
   "cell_type": "code",
   "execution_count": 60,
   "metadata": {},
   "outputs": [
    {
     "data": {
      "text/html": [
       "        <script type=\"text/javascript\">\n",
       "        window.PlotlyConfig = {MathJaxConfig: 'local'};\n",
       "        if (window.MathJax) {MathJax.Hub.Config({SVG: {font: \"STIX-Web\"}});}\n",
       "        if (typeof require !== 'undefined') {\n",
       "        require.undef(\"plotly\");\n",
       "        requirejs.config({\n",
       "            paths: {\n",
       "                'plotly': ['https://cdn.plot.ly/plotly-latest.min']\n",
       "            }\n",
       "        });\n",
       "        require(['plotly'], function(Plotly) {\n",
       "            window._Plotly = Plotly;\n",
       "        });\n",
       "        }\n",
       "        </script>\n",
       "        "
      ]
     },
     "metadata": {},
     "output_type": "display_data"
    },
    {
     "data": {
      "application/vnd.plotly.v1+json": {
       "config": {
        "plotlyServerURL": "https://plot.ly"
       },
       "data": [
        {
         "customdata": [
          [
           1
          ],
          [
           2
          ],
          [
           3
          ],
          [
           4
          ],
          [
           5
          ],
          [
           6
          ],
          [
           7
          ],
          [
           8
          ],
          [
           9
          ],
          [
           10
          ],
          [
           11
          ],
          [
           12
          ],
          [
           13
          ],
          [
           14
          ],
          [
           15
          ],
          [
           16
          ],
          [
           17
          ],
          [
           18
          ],
          [
           19
          ],
          [
           20
          ],
          [
           21
          ],
          [
           22
          ],
          [
           23
          ],
          [
           24
          ],
          [
           25
          ],
          [
           26
          ],
          [
           27
          ],
          [
           28
          ],
          [
           29
          ],
          [
           30
          ],
          [
           31
          ],
          [
           32
          ],
          [
           33
          ],
          [
           34
          ],
          [
           35
          ],
          [
           36
          ],
          [
           37
          ],
          [
           38
          ],
          [
           39
          ],
          [
           40
          ],
          [
           41
          ],
          [
           42
          ],
          [
           43
          ],
          [
           44
          ],
          [
           45
          ],
          [
           46
          ],
          [
           47
          ],
          [
           48
          ],
          [
           49
          ],
          [
           50
          ],
          [
           51
          ],
          [
           52
          ],
          [
           53
          ],
          [
           54
          ],
          [
           55
          ],
          [
           56
          ],
          [
           57
          ],
          [
           58
          ],
          [
           59
          ],
          [
           60
          ],
          [
           61
          ],
          [
           62
          ]
         ],
         "hoverlabel": {
          "namelength": 0
         },
         "hovertemplate": "Cluster=Cluster 0<br>PCA1=%{x}<br>PCA2=%{y}<br>Feature=%{customdata[0]}",
         "legendgroup": "Cluster=Cluster 0",
         "marker": {
          "color": "#636efa",
          "opacity": 0.5,
          "symbol": "circle"
         },
         "mode": "markers",
         "name": "Cluster=Cluster 0",
         "showlegend": true,
         "textposition": "top center",
         "type": "scatter",
         "x": [
          0.7140082136428351,
          1.3787369827755844,
          0.13499495045137289,
          -0.1918844921031458,
          -0.07034288894927179,
          -0.3073347556634042,
          0.812455548998002,
          1.33104141885472,
          0.8996408632837765,
          0.9205026489090095,
          1.296468850285534,
          0.3567865678304612,
          0.587274853579911,
          1.1162407237538159,
          0.942361707398842,
          0.2345405862598357,
          0.6595927890562007,
          0.9275729420327001,
          -0.17486400196569615,
          0.9840445451694312,
          0.26233575615318017,
          0.5110980606834775,
          -0.5110861958950904,
          -0.010190070727853105,
          1.0432977807062809,
          0.04324640032870467,
          0.8072054966767166,
          1.22042896624468,
          0.8128677903690699,
          1.5256636313138725,
          1.4140722251737574,
          1.1688534694704036,
          1.4431026043759747,
          1.2906696477376016,
          1.2576251829251364,
          1.3876682501815558,
          1.1980973722749624,
          1.2983298245678156,
          1.5852672993086436,
          1.3445942175098247,
          0.519383245084936,
          1.4140722251737574,
          0.29780790740693414,
          -0.9084633331234948,
          0.6416902781665431,
          0.37523822894676595,
          0.3311269473327231,
          0.3555330391870634,
          -0.7070812839208602,
          0.2288790499696477,
          0.8901604456511564,
          0.46303098887142424,
          0.1645134283692557,
          0.24519516169034616,
          -0.7514671406482267,
          1.0952237099384787,
          1.389666133319417,
          1.0871344872070006,
          0.1809672063476985,
          0.9324107529829179,
          1.2847945878450715,
          0.6404367495231457
         ],
         "xaxis": "x",
         "y": [
          0.15037915314843636,
          -0.42120513821462874,
          -0.3117096427033958,
          -0.6774905443743564,
          -0.7025379317307252,
          -0.36508661276615995,
          -0.16233157487863317,
          0.2446695206022891,
          0.3296109795818836,
          -0.18239036332792083,
          -0.3275615197949439,
          -0.06682382794136606,
          -0.4832842677174821,
          -0.08421401387837349,
          -0.5418222581500135,
          -0.33192182936212006,
          -0.3519762910603163,
          0.46823620504311675,
          -0.2518155710801703,
          -0.12436042022227789,
          -0.5478932980253359,
          -0.10228410504597016,
          -1.2624919538621395,
          -0.720574866701901,
          0.22895690877700656,
          -0.581489446612358,
          0.19505396377111126,
          0.4080353370010171,
          -0.37067899831890944,
          -0.3750208481918226,
          -0.5749250559123045,
          -0.16450249981508985,
          -0.14380128908272616,
          -0.11642525182937247,
          -0.17913699742322278,
          -0.20403098657015473,
          -0.605578961764594,
          -0.761013936521507,
          -0.5393070538471717,
          -0.7764154251768246,
          -1.1913516890506521,
          -0.5749250559123045,
          -0.34701652159856355,
          -0.7515687251694849,
          0.019071176491270735,
          -0.2916220248087795,
          -0.21118014066262655,
          -0.5032184874026618,
          -1.00842476177846,
          -0.402257620178911,
          -0.03381244274676272,
          -0.669526546536122,
          -0.6796614693108132,
          -0.26672803566184783,
          -1.0011075129743934,
          0.2838912109384799,
          -0.28288670917226905,
          0.07539038928876739,
          -0.8256039435761126,
          0.3191980898336484,
          0.6854391861329194,
          -0.4173234829700254
         ],
         "yaxis": "y"
        },
        {
         "customdata": [
          [
           63
          ],
          [
           64
          ],
          [
           65
          ],
          [
           66
          ],
          [
           67
          ],
          [
           68
          ],
          [
           69
          ],
          [
           70
          ],
          [
           71
          ],
          [
           72
          ],
          [
           73
          ],
          [
           74
          ],
          [
           75
          ],
          [
           76
          ],
          [
           77
          ],
          [
           78
          ],
          [
           79
          ],
          [
           80
          ],
          [
           81
          ],
          [
           82
          ],
          [
           83
          ],
          [
           84
          ],
          [
           85
          ],
          [
           86
          ],
          [
           87
          ],
          [
           88
          ],
          [
           89
          ],
          [
           90
          ],
          [
           91
          ],
          [
           92
          ],
          [
           93
          ],
          [
           94
          ],
          [
           95
          ],
          [
           96
          ],
          [
           97
          ],
          [
           98
          ],
          [
           99
          ],
          [
           100
          ],
          [
           101
          ],
          [
           102
          ],
          [
           103
          ],
          [
           104
          ],
          [
           105
          ],
          [
           106
          ],
          [
           107
          ],
          [
           108
          ],
          [
           109
          ],
          [
           110
          ],
          [
           111
          ],
          [
           112
          ]
         ],
         "hoverlabel": {
          "namelength": 0
         },
         "hovertemplate": "Cluster=Cluster 1<br>PCA1=%{x}<br>PCA2=%{y}<br>Feature=%{customdata[0]}",
         "legendgroup": "Cluster=Cluster 1",
         "marker": {
          "color": "#EF553B",
          "opacity": 0.5,
          "symbol": "circle"
         },
         "mode": "markers",
         "name": "Cluster=Cluster 1",
         "showlegend": true,
         "textposition": "top center",
         "type": "scatter",
         "x": [
          -2.303128537663882,
          -3.2158576949001048,
          -2.543234907303695,
          -2.310531701313133,
          -2.5873461889177376,
          -2.199077961430762,
          -2.648322732479126,
          -2.622526203125807,
          -2.383869323799374,
          -2.643543216941146,
          -3.22520044627498,
          -2.6131427182710554,
          -2.3561710866838967,
          -2.5065267893389027,
          -2.6738446867191206,
          -2.8879585653356337,
          -2.6264819933238184,
          -2.820890682180629,
          -2.2798973610095965,
          -2.728592981831314,
          -2.7464371973087345,
          -2.889819539617916,
          -2.7153906156341305,
          -2.787433975997097,
          -2.50791722683788,
          -2.684207125103948,
          -2.5623909468367496,
          -2.208832954176705,
          -2.4055141012847003,
          -2.99829644283235,
          -2.469055997545122,
          -2.840321296827008,
          -2.852211081566392,
          -2.770138910746323,
          -2.5426857570770474,
          -2.715665190747454,
          -2.5903230255856737,
          -2.7039123148636497,
          -2.9818426648539074,
          -2.537573371013506,
          -2.597159477075918,
          -2.6738446867191206,
          -2.6252284646804207,
          -2.639821268376581,
          -2.6328479080307576,
          -2.866999846932534,
          -2.588462051303391,
          -2.6738446867191206,
          -2.410077337121595,
          -2.6476366733969
         ],
         "xaxis": "x",
         "y": [
          0.10552267842998227,
          0.14161557162558347,
          0.440031754659815,
          0.39786782158889167,
          0.5204736388059676,
          0.8792440880917356,
          0.3191366677508845,
          0.8180896745965945,
          1.344754344559861,
          1.1861948994134488,
          -0.5032799094854251,
          0.02152063196025802,
          -0.031209589068338258,
          0.6519350136725715,
          -0.10669170375273825,
          -0.5707980263315908,
          0.1704053489602898,
          -0.08210451102468078,
          0.747782713225133,
          0.33392456356845457,
          -0.31112431575199145,
          -0.13734560960502754,
          -0.16955684755602576,
          -0.22774018887110598,
          -0.13905633991317382,
          0.3266073147643878,
          0.3746845627501058,
          0.4426960304210026,
          0.19591725769606078,
          -0.33430757459077665,
          0.1378873145904177,
          -0.2205763382764764,
          -0.9328653674695433,
          0.27105941976516706,
          0.5862810253439878,
          -0.24268148289811262,
          0.23605933728887274,
          0.11501085217050568,
          -0.4802500488560759,
          0.5103675454766057,
          1.1000219280072678,
          -0.10669170375273825,
          0.6068000084215859,
          0.3192900659603216,
          -0.19007583063362385,
          0.07719309572358729,
          -0.19739307943769055,
          -0.10669170375273825,
          0.4180800082476158,
          0.8199826325595062
         ],
         "yaxis": "y"
        },
        {
         "customdata": [
          [
           113
          ],
          [
           114
          ],
          [
           115
          ],
          [
           116
          ],
          [
           117
          ],
          [
           118
          ],
          [
           119
          ],
          [
           120
          ],
          [
           121
          ],
          [
           122
          ],
          [
           123
          ],
          [
           124
          ],
          [
           125
          ],
          [
           126
          ],
          [
           127
          ],
          [
           128
          ],
          [
           129
          ],
          [
           130
          ],
          [
           131
          ],
          [
           132
          ],
          [
           133
          ],
          [
           134
          ],
          [
           135
          ],
          [
           136
          ],
          [
           137
          ],
          [
           138
          ],
          [
           139
          ],
          [
           140
          ],
          [
           141
          ],
          [
           142
          ],
          [
           143
          ],
          [
           144
          ],
          [
           145
          ],
          [
           146
          ],
          [
           147
          ],
          [
           148
          ],
          [
           149
          ],
          [
           150
          ]
         ],
         "hoverlabel": {
          "namelength": 0
         },
         "hovertemplate": "Cluster=Cluster 2<br>PCA1=%{x}<br>PCA2=%{y}<br>Feature=%{customdata[0]}",
         "legendgroup": "Cluster=Cluster 2",
         "marker": {
          "color": "#00cc96",
          "opacity": 0.5,
          "symbol": "circle"
         },
         "mode": "markers",
         "name": "Cluster=Cluster 2",
         "showlegend": true,
         "textposition": "top center",
         "type": "scatter",
         "x": [
          2.387564402369028,
          2.840960925285384,
          3.2323428982958755,
          2.1587383731331347,
          2.41939121980498,
          3.0765216210206616,
          1.9440170488777375,
          2.1449868567093042,
          1.9048629251371318,
          2.1076537311732686,
          2.3143033946295484,
          1.7640459355269826,
          2.5633227123408098,
          1.4640613227790755,
          1.77964010689857,
          1.9224508848357529,
          3.7946868612099696,
          2.6141938306983343,
          1.5573962720707024,
          2.5317269804395583,
          1.901629075288233,
          2.6164846082840434,
          2.3497579839509424,
          3.3968799206781375,
          2.9320050969913014,
          2.319672793874053,
          2.1228539805083133,
          2.9181342336442517,
          1.8023404526607332,
          2.1653788629533977,
          1.9047435782139124,
          1.949248781864498,
          3.4887653796563853,
          2.4281672590208485,
          3.4992654842989563,
          2.2758536493056942,
          1.6619349470194862,
          1.970814945906482
         ],
         "xaxis": "x",
         "y": [
          0.4625192507262601,
          0.37274259104902097,
          1.3705240359763322,
          -0.21832553156299322,
          0.3035039377026284,
          0.6857644422460561,
          0.18741522204601369,
          0.13890660887731412,
          0.04804750823183437,
          0.3714822491771054,
          0.18260885079369832,
          0.07851918642935728,
          0.27597450223983766,
          0.5041898329724526,
          -0.5014647947060153,
          0.4092711761786952,
          0.2532655709725342,
          0.5583669502788219,
          0.26739258481276457,
          -0.011842236640300739,
          0.11587674824796537,
          0.34193528698729436,
          -0.041882549654842,
          0.5471680462301521,
          0.3523770061808595,
          -0.24554817060691006,
          -0.2108548845494899,
          0.7803806293720312,
          -0.2161546066265362,
          0.21528028337300695,
          0.11881899098269828,
          0.040730259427767625,
          1.171544544263563,
          0.37678197125415214,
          0.456773466964074,
          0.3333865257566417,
          0.24203840103752206,
          -0.18112569470491374
         ],
         "yaxis": "y"
        }
       ],
       "layout": {
        "height": 600,
        "legend": {
         "tracegroupgap": 0
        },
        "margin": {
         "t": 60
        },
        "plot_bgcolor": "rgb(240,240,240)",
        "template": {
         "data": {
          "bar": [
           {
            "error_x": {
             "color": "#2a3f5f"
            },
            "error_y": {
             "color": "#2a3f5f"
            },
            "marker": {
             "line": {
              "color": "#E5ECF6",
              "width": 0.5
             }
            },
            "type": "bar"
           }
          ],
          "barpolar": [
           {
            "marker": {
             "line": {
              "color": "#E5ECF6",
              "width": 0.5
             }
            },
            "type": "barpolar"
           }
          ],
          "carpet": [
           {
            "aaxis": {
             "endlinecolor": "#2a3f5f",
             "gridcolor": "white",
             "linecolor": "white",
             "minorgridcolor": "white",
             "startlinecolor": "#2a3f5f"
            },
            "baxis": {
             "endlinecolor": "#2a3f5f",
             "gridcolor": "white",
             "linecolor": "white",
             "minorgridcolor": "white",
             "startlinecolor": "#2a3f5f"
            },
            "type": "carpet"
           }
          ],
          "choropleth": [
           {
            "colorbar": {
             "outlinewidth": 0,
             "ticks": ""
            },
            "type": "choropleth"
           }
          ],
          "contour": [
           {
            "colorbar": {
             "outlinewidth": 0,
             "ticks": ""
            },
            "colorscale": [
             [
              0,
              "#0d0887"
             ],
             [
              0.1111111111111111,
              "#46039f"
             ],
             [
              0.2222222222222222,
              "#7201a8"
             ],
             [
              0.3333333333333333,
              "#9c179e"
             ],
             [
              0.4444444444444444,
              "#bd3786"
             ],
             [
              0.5555555555555556,
              "#d8576b"
             ],
             [
              0.6666666666666666,
              "#ed7953"
             ],
             [
              0.7777777777777778,
              "#fb9f3a"
             ],
             [
              0.8888888888888888,
              "#fdca26"
             ],
             [
              1,
              "#f0f921"
             ]
            ],
            "type": "contour"
           }
          ],
          "contourcarpet": [
           {
            "colorbar": {
             "outlinewidth": 0,
             "ticks": ""
            },
            "type": "contourcarpet"
           }
          ],
          "heatmap": [
           {
            "colorbar": {
             "outlinewidth": 0,
             "ticks": ""
            },
            "colorscale": [
             [
              0,
              "#0d0887"
             ],
             [
              0.1111111111111111,
              "#46039f"
             ],
             [
              0.2222222222222222,
              "#7201a8"
             ],
             [
              0.3333333333333333,
              "#9c179e"
             ],
             [
              0.4444444444444444,
              "#bd3786"
             ],
             [
              0.5555555555555556,
              "#d8576b"
             ],
             [
              0.6666666666666666,
              "#ed7953"
             ],
             [
              0.7777777777777778,
              "#fb9f3a"
             ],
             [
              0.8888888888888888,
              "#fdca26"
             ],
             [
              1,
              "#f0f921"
             ]
            ],
            "type": "heatmap"
           }
          ],
          "heatmapgl": [
           {
            "colorbar": {
             "outlinewidth": 0,
             "ticks": ""
            },
            "colorscale": [
             [
              0,
              "#0d0887"
             ],
             [
              0.1111111111111111,
              "#46039f"
             ],
             [
              0.2222222222222222,
              "#7201a8"
             ],
             [
              0.3333333333333333,
              "#9c179e"
             ],
             [
              0.4444444444444444,
              "#bd3786"
             ],
             [
              0.5555555555555556,
              "#d8576b"
             ],
             [
              0.6666666666666666,
              "#ed7953"
             ],
             [
              0.7777777777777778,
              "#fb9f3a"
             ],
             [
              0.8888888888888888,
              "#fdca26"
             ],
             [
              1,
              "#f0f921"
             ]
            ],
            "type": "heatmapgl"
           }
          ],
          "histogram": [
           {
            "marker": {
             "colorbar": {
              "outlinewidth": 0,
              "ticks": ""
             }
            },
            "type": "histogram"
           }
          ],
          "histogram2d": [
           {
            "colorbar": {
             "outlinewidth": 0,
             "ticks": ""
            },
            "colorscale": [
             [
              0,
              "#0d0887"
             ],
             [
              0.1111111111111111,
              "#46039f"
             ],
             [
              0.2222222222222222,
              "#7201a8"
             ],
             [
              0.3333333333333333,
              "#9c179e"
             ],
             [
              0.4444444444444444,
              "#bd3786"
             ],
             [
              0.5555555555555556,
              "#d8576b"
             ],
             [
              0.6666666666666666,
              "#ed7953"
             ],
             [
              0.7777777777777778,
              "#fb9f3a"
             ],
             [
              0.8888888888888888,
              "#fdca26"
             ],
             [
              1,
              "#f0f921"
             ]
            ],
            "type": "histogram2d"
           }
          ],
          "histogram2dcontour": [
           {
            "colorbar": {
             "outlinewidth": 0,
             "ticks": ""
            },
            "colorscale": [
             [
              0,
              "#0d0887"
             ],
             [
              0.1111111111111111,
              "#46039f"
             ],
             [
              0.2222222222222222,
              "#7201a8"
             ],
             [
              0.3333333333333333,
              "#9c179e"
             ],
             [
              0.4444444444444444,
              "#bd3786"
             ],
             [
              0.5555555555555556,
              "#d8576b"
             ],
             [
              0.6666666666666666,
              "#ed7953"
             ],
             [
              0.7777777777777778,
              "#fb9f3a"
             ],
             [
              0.8888888888888888,
              "#fdca26"
             ],
             [
              1,
              "#f0f921"
             ]
            ],
            "type": "histogram2dcontour"
           }
          ],
          "mesh3d": [
           {
            "colorbar": {
             "outlinewidth": 0,
             "ticks": ""
            },
            "type": "mesh3d"
           }
          ],
          "parcoords": [
           {
            "line": {
             "colorbar": {
              "outlinewidth": 0,
              "ticks": ""
             }
            },
            "type": "parcoords"
           }
          ],
          "pie": [
           {
            "automargin": true,
            "type": "pie"
           }
          ],
          "scatter": [
           {
            "marker": {
             "colorbar": {
              "outlinewidth": 0,
              "ticks": ""
             }
            },
            "type": "scatter"
           }
          ],
          "scatter3d": [
           {
            "line": {
             "colorbar": {
              "outlinewidth": 0,
              "ticks": ""
             }
            },
            "marker": {
             "colorbar": {
              "outlinewidth": 0,
              "ticks": ""
             }
            },
            "type": "scatter3d"
           }
          ],
          "scattercarpet": [
           {
            "marker": {
             "colorbar": {
              "outlinewidth": 0,
              "ticks": ""
             }
            },
            "type": "scattercarpet"
           }
          ],
          "scattergeo": [
           {
            "marker": {
             "colorbar": {
              "outlinewidth": 0,
              "ticks": ""
             }
            },
            "type": "scattergeo"
           }
          ],
          "scattergl": [
           {
            "marker": {
             "colorbar": {
              "outlinewidth": 0,
              "ticks": ""
             }
            },
            "type": "scattergl"
           }
          ],
          "scattermapbox": [
           {
            "marker": {
             "colorbar": {
              "outlinewidth": 0,
              "ticks": ""
             }
            },
            "type": "scattermapbox"
           }
          ],
          "scatterpolar": [
           {
            "marker": {
             "colorbar": {
              "outlinewidth": 0,
              "ticks": ""
             }
            },
            "type": "scatterpolar"
           }
          ],
          "scatterpolargl": [
           {
            "marker": {
             "colorbar": {
              "outlinewidth": 0,
              "ticks": ""
             }
            },
            "type": "scatterpolargl"
           }
          ],
          "scatterternary": [
           {
            "marker": {
             "colorbar": {
              "outlinewidth": 0,
              "ticks": ""
             }
            },
            "type": "scatterternary"
           }
          ],
          "surface": [
           {
            "colorbar": {
             "outlinewidth": 0,
             "ticks": ""
            },
            "colorscale": [
             [
              0,
              "#0d0887"
             ],
             [
              0.1111111111111111,
              "#46039f"
             ],
             [
              0.2222222222222222,
              "#7201a8"
             ],
             [
              0.3333333333333333,
              "#9c179e"
             ],
             [
              0.4444444444444444,
              "#bd3786"
             ],
             [
              0.5555555555555556,
              "#d8576b"
             ],
             [
              0.6666666666666666,
              "#ed7953"
             ],
             [
              0.7777777777777778,
              "#fb9f3a"
             ],
             [
              0.8888888888888888,
              "#fdca26"
             ],
             [
              1,
              "#f0f921"
             ]
            ],
            "type": "surface"
           }
          ],
          "table": [
           {
            "cells": {
             "fill": {
              "color": "#EBF0F8"
             },
             "line": {
              "color": "white"
             }
            },
            "header": {
             "fill": {
              "color": "#C8D4E3"
             },
             "line": {
              "color": "white"
             }
            },
            "type": "table"
           }
          ]
         },
         "layout": {
          "annotationdefaults": {
           "arrowcolor": "#2a3f5f",
           "arrowhead": 0,
           "arrowwidth": 1
          },
          "coloraxis": {
           "colorbar": {
            "outlinewidth": 0,
            "ticks": ""
           }
          },
          "colorscale": {
           "diverging": [
            [
             0,
             "#8e0152"
            ],
            [
             0.1,
             "#c51b7d"
            ],
            [
             0.2,
             "#de77ae"
            ],
            [
             0.3,
             "#f1b6da"
            ],
            [
             0.4,
             "#fde0ef"
            ],
            [
             0.5,
             "#f7f7f7"
            ],
            [
             0.6,
             "#e6f5d0"
            ],
            [
             0.7,
             "#b8e186"
            ],
            [
             0.8,
             "#7fbc41"
            ],
            [
             0.9,
             "#4d9221"
            ],
            [
             1,
             "#276419"
            ]
           ],
           "sequential": [
            [
             0,
             "#0d0887"
            ],
            [
             0.1111111111111111,
             "#46039f"
            ],
            [
             0.2222222222222222,
             "#7201a8"
            ],
            [
             0.3333333333333333,
             "#9c179e"
            ],
            [
             0.4444444444444444,
             "#bd3786"
            ],
            [
             0.5555555555555556,
             "#d8576b"
            ],
            [
             0.6666666666666666,
             "#ed7953"
            ],
            [
             0.7777777777777778,
             "#fb9f3a"
            ],
            [
             0.8888888888888888,
             "#fdca26"
            ],
            [
             1,
             "#f0f921"
            ]
           ],
           "sequentialminus": [
            [
             0,
             "#0d0887"
            ],
            [
             0.1111111111111111,
             "#46039f"
            ],
            [
             0.2222222222222222,
             "#7201a8"
            ],
            [
             0.3333333333333333,
             "#9c179e"
            ],
            [
             0.4444444444444444,
             "#bd3786"
            ],
            [
             0.5555555555555556,
             "#d8576b"
            ],
            [
             0.6666666666666666,
             "#ed7953"
            ],
            [
             0.7777777777777778,
             "#fb9f3a"
            ],
            [
             0.8888888888888888,
             "#fdca26"
            ],
            [
             1,
             "#f0f921"
            ]
           ]
          },
          "colorway": [
           "#636efa",
           "#EF553B",
           "#00cc96",
           "#ab63fa",
           "#FFA15A",
           "#19d3f3",
           "#FF6692",
           "#B6E880",
           "#FF97FF",
           "#FECB52"
          ],
          "font": {
           "color": "#2a3f5f"
          },
          "geo": {
           "bgcolor": "white",
           "lakecolor": "white",
           "landcolor": "#E5ECF6",
           "showlakes": true,
           "showland": true,
           "subunitcolor": "white"
          },
          "hoverlabel": {
           "align": "left"
          },
          "hovermode": "closest",
          "mapbox": {
           "style": "light"
          },
          "paper_bgcolor": "white",
          "plot_bgcolor": "#E5ECF6",
          "polar": {
           "angularaxis": {
            "gridcolor": "white",
            "linecolor": "white",
            "ticks": ""
           },
           "bgcolor": "#E5ECF6",
           "radialaxis": {
            "gridcolor": "white",
            "linecolor": "white",
            "ticks": ""
           }
          },
          "scene": {
           "xaxis": {
            "backgroundcolor": "#E5ECF6",
            "gridcolor": "white",
            "gridwidth": 2,
            "linecolor": "white",
            "showbackground": true,
            "ticks": "",
            "zerolinecolor": "white"
           },
           "yaxis": {
            "backgroundcolor": "#E5ECF6",
            "gridcolor": "white",
            "gridwidth": 2,
            "linecolor": "white",
            "showbackground": true,
            "ticks": "",
            "zerolinecolor": "white"
           },
           "zaxis": {
            "backgroundcolor": "#E5ECF6",
            "gridcolor": "white",
            "gridwidth": 2,
            "linecolor": "white",
            "showbackground": true,
            "ticks": "",
            "zerolinecolor": "white"
           }
          },
          "shapedefaults": {
           "line": {
            "color": "#2a3f5f"
           }
          },
          "ternary": {
           "aaxis": {
            "gridcolor": "white",
            "linecolor": "white",
            "ticks": ""
           },
           "baxis": {
            "gridcolor": "white",
            "linecolor": "white",
            "ticks": ""
           },
           "bgcolor": "#E5ECF6",
           "caxis": {
            "gridcolor": "white",
            "linecolor": "white",
            "ticks": ""
           }
          },
          "title": {
           "x": 0.05
          },
          "xaxis": {
           "automargin": true,
           "gridcolor": "white",
           "linecolor": "white",
           "ticks": "",
           "title": {
            "standoff": 15
           },
           "zerolinecolor": "white",
           "zerolinewidth": 2
          },
          "yaxis": {
           "automargin": true,
           "gridcolor": "white",
           "linecolor": "white",
           "ticks": "",
           "title": {
            "standoff": 15
           },
           "zerolinecolor": "white",
           "zerolinewidth": 2
          }
         }
        },
        "title": {
         "text": "2D Cluster PCA Plot"
        },
        "xaxis": {
         "anchor": "y",
         "domain": [
          0,
          1
         ],
         "title": {
          "text": "PCA1"
         }
        },
        "yaxis": {
         "anchor": "x",
         "domain": [
          0,
          1
         ],
         "title": {
          "text": "PCA2"
         }
        }
       }
      },
      "text/html": [
       "<div>\n",
       "        \n",
       "        \n",
       "            <div id=\"1fec38c1-f66c-4e6a-8c59-214a9108e305\" class=\"plotly-graph-div\" style=\"height:600px; width:100%;\"></div>\n",
       "            <script type=\"text/javascript\">\n",
       "                require([\"plotly\"], function(Plotly) {\n",
       "                    window.PLOTLYENV=window.PLOTLYENV || {};\n",
       "                    \n",
       "                if (document.getElementById(\"1fec38c1-f66c-4e6a-8c59-214a9108e305\")) {\n",
       "                    Plotly.newPlot(\n",
       "                        '1fec38c1-f66c-4e6a-8c59-214a9108e305',\n",
       "                        [{\"customdata\": [[1], [2], [3], [4], [5], [6], [7], [8], [9], [10], [11], [12], [13], [14], [15], [16], [17], [18], [19], [20], [21], [22], [23], [24], [25], [26], [27], [28], [29], [30], [31], [32], [33], [34], [35], [36], [37], [38], [39], [40], [41], [42], [43], [44], [45], [46], [47], [48], [49], [50], [51], [52], [53], [54], [55], [56], [57], [58], [59], [60], [61], [62]], \"hoverlabel\": {\"namelength\": 0}, \"hovertemplate\": \"Cluster=Cluster 0<br>PCA1=%{x}<br>PCA2=%{y}<br>Feature=%{customdata[0]}\", \"legendgroup\": \"Cluster=Cluster 0\", \"marker\": {\"color\": \"#636efa\", \"opacity\": 0.5, \"symbol\": \"circle\"}, \"mode\": \"markers\", \"name\": \"Cluster=Cluster 0\", \"showlegend\": true, \"textposition\": \"top center\", \"type\": \"scatter\", \"x\": [0.7140082136428351, 1.3787369827755844, 0.13499495045137289, -0.1918844921031458, -0.07034288894927179, -0.3073347556634042, 0.812455548998002, 1.33104141885472, 0.8996408632837765, 0.9205026489090095, 1.296468850285534, 0.3567865678304612, 0.587274853579911, 1.1162407237538159, 0.942361707398842, 0.2345405862598357, 0.6595927890562007, 0.9275729420327001, -0.17486400196569615, 0.9840445451694312, 0.26233575615318017, 0.5110980606834775, -0.5110861958950904, -0.010190070727853105, 1.0432977807062809, 0.04324640032870467, 0.8072054966767166, 1.22042896624468, 0.8128677903690699, 1.5256636313138725, 1.4140722251737574, 1.1688534694704036, 1.4431026043759747, 1.2906696477376016, 1.2576251829251364, 1.3876682501815558, 1.1980973722749624, 1.2983298245678156, 1.5852672993086436, 1.3445942175098247, 0.519383245084936, 1.4140722251737574, 0.29780790740693414, -0.9084633331234948, 0.6416902781665431, 0.37523822894676595, 0.3311269473327231, 0.3555330391870634, -0.7070812839208602, 0.2288790499696477, 0.8901604456511564, 0.46303098887142424, 0.1645134283692557, 0.24519516169034616, -0.7514671406482267, 1.0952237099384787, 1.389666133319417, 1.0871344872070006, 0.1809672063476985, 0.9324107529829179, 1.2847945878450715, 0.6404367495231457], \"xaxis\": \"x\", \"y\": [0.15037915314843636, -0.42120513821462874, -0.3117096427033958, -0.6774905443743564, -0.7025379317307252, -0.36508661276615995, -0.16233157487863317, 0.2446695206022891, 0.3296109795818836, -0.18239036332792083, -0.3275615197949439, -0.06682382794136606, -0.4832842677174821, -0.08421401387837349, -0.5418222581500135, -0.33192182936212006, -0.3519762910603163, 0.46823620504311675, -0.2518155710801703, -0.12436042022227789, -0.5478932980253359, -0.10228410504597016, -1.2624919538621395, -0.720574866701901, 0.22895690877700656, -0.581489446612358, 0.19505396377111126, 0.4080353370010171, -0.37067899831890944, -0.3750208481918226, -0.5749250559123045, -0.16450249981508985, -0.14380128908272616, -0.11642525182937247, -0.17913699742322278, -0.20403098657015473, -0.605578961764594, -0.761013936521507, -0.5393070538471717, -0.7764154251768246, -1.1913516890506521, -0.5749250559123045, -0.34701652159856355, -0.7515687251694849, 0.019071176491270735, -0.2916220248087795, -0.21118014066262655, -0.5032184874026618, -1.00842476177846, -0.402257620178911, -0.03381244274676272, -0.669526546536122, -0.6796614693108132, -0.26672803566184783, -1.0011075129743934, 0.2838912109384799, -0.28288670917226905, 0.07539038928876739, -0.8256039435761126, 0.3191980898336484, 0.6854391861329194, -0.4173234829700254], \"yaxis\": \"y\"}, {\"customdata\": [[63], [64], [65], [66], [67], [68], [69], [70], [71], [72], [73], [74], [75], [76], [77], [78], [79], [80], [81], [82], [83], [84], [85], [86], [87], [88], [89], [90], [91], [92], [93], [94], [95], [96], [97], [98], [99], [100], [101], [102], [103], [104], [105], [106], [107], [108], [109], [110], [111], [112]], \"hoverlabel\": {\"namelength\": 0}, \"hovertemplate\": \"Cluster=Cluster 1<br>PCA1=%{x}<br>PCA2=%{y}<br>Feature=%{customdata[0]}\", \"legendgroup\": \"Cluster=Cluster 1\", \"marker\": {\"color\": \"#EF553B\", \"opacity\": 0.5, \"symbol\": \"circle\"}, \"mode\": \"markers\", \"name\": \"Cluster=Cluster 1\", \"showlegend\": true, \"textposition\": \"top center\", \"type\": \"scatter\", \"x\": [-2.303128537663882, -3.2158576949001048, -2.543234907303695, -2.310531701313133, -2.5873461889177376, -2.199077961430762, -2.648322732479126, -2.622526203125807, -2.383869323799374, -2.643543216941146, -3.22520044627498, -2.6131427182710554, -2.3561710866838967, -2.5065267893389027, -2.6738446867191206, -2.8879585653356337, -2.6264819933238184, -2.820890682180629, -2.2798973610095965, -2.728592981831314, -2.7464371973087345, -2.889819539617916, -2.7153906156341305, -2.787433975997097, -2.50791722683788, -2.684207125103948, -2.5623909468367496, -2.208832954176705, -2.4055141012847003, -2.99829644283235, -2.469055997545122, -2.840321296827008, -2.852211081566392, -2.770138910746323, -2.5426857570770474, -2.715665190747454, -2.5903230255856737, -2.7039123148636497, -2.9818426648539074, -2.537573371013506, -2.597159477075918, -2.6738446867191206, -2.6252284646804207, -2.639821268376581, -2.6328479080307576, -2.866999846932534, -2.588462051303391, -2.6738446867191206, -2.410077337121595, -2.6476366733969], \"xaxis\": \"x\", \"y\": [0.10552267842998227, 0.14161557162558347, 0.440031754659815, 0.39786782158889167, 0.5204736388059676, 0.8792440880917356, 0.3191366677508845, 0.8180896745965945, 1.344754344559861, 1.1861948994134488, -0.5032799094854251, 0.02152063196025802, -0.031209589068338258, 0.6519350136725715, -0.10669170375273825, -0.5707980263315908, 0.1704053489602898, -0.08210451102468078, 0.747782713225133, 0.33392456356845457, -0.31112431575199145, -0.13734560960502754, -0.16955684755602576, -0.22774018887110598, -0.13905633991317382, 0.3266073147643878, 0.3746845627501058, 0.4426960304210026, 0.19591725769606078, -0.33430757459077665, 0.1378873145904177, -0.2205763382764764, -0.9328653674695433, 0.27105941976516706, 0.5862810253439878, -0.24268148289811262, 0.23605933728887274, 0.11501085217050568, -0.4802500488560759, 0.5103675454766057, 1.1000219280072678, -0.10669170375273825, 0.6068000084215859, 0.3192900659603216, -0.19007583063362385, 0.07719309572358729, -0.19739307943769055, -0.10669170375273825, 0.4180800082476158, 0.8199826325595062], \"yaxis\": \"y\"}, {\"customdata\": [[113], [114], [115], [116], [117], [118], [119], [120], [121], [122], [123], [124], [125], [126], [127], [128], [129], [130], [131], [132], [133], [134], [135], [136], [137], [138], [139], [140], [141], [142], [143], [144], [145], [146], [147], [148], [149], [150]], \"hoverlabel\": {\"namelength\": 0}, \"hovertemplate\": \"Cluster=Cluster 2<br>PCA1=%{x}<br>PCA2=%{y}<br>Feature=%{customdata[0]}\", \"legendgroup\": \"Cluster=Cluster 2\", \"marker\": {\"color\": \"#00cc96\", \"opacity\": 0.5, \"symbol\": \"circle\"}, \"mode\": \"markers\", \"name\": \"Cluster=Cluster 2\", \"showlegend\": true, \"textposition\": \"top center\", \"type\": \"scatter\", \"x\": [2.387564402369028, 2.840960925285384, 3.2323428982958755, 2.1587383731331347, 2.41939121980498, 3.0765216210206616, 1.9440170488777375, 2.1449868567093042, 1.9048629251371318, 2.1076537311732686, 2.3143033946295484, 1.7640459355269826, 2.5633227123408098, 1.4640613227790755, 1.77964010689857, 1.9224508848357529, 3.7946868612099696, 2.6141938306983343, 1.5573962720707024, 2.5317269804395583, 1.901629075288233, 2.6164846082840434, 2.3497579839509424, 3.3968799206781375, 2.9320050969913014, 2.319672793874053, 2.1228539805083133, 2.9181342336442517, 1.8023404526607332, 2.1653788629533977, 1.9047435782139124, 1.949248781864498, 3.4887653796563853, 2.4281672590208485, 3.4992654842989563, 2.2758536493056942, 1.6619349470194862, 1.970814945906482], \"xaxis\": \"x\", \"y\": [0.4625192507262601, 0.37274259104902097, 1.3705240359763322, -0.21832553156299322, 0.3035039377026284, 0.6857644422460561, 0.18741522204601369, 0.13890660887731412, 0.04804750823183437, 0.3714822491771054, 0.18260885079369832, 0.07851918642935728, 0.27597450223983766, 0.5041898329724526, -0.5014647947060153, 0.4092711761786952, 0.2532655709725342, 0.5583669502788219, 0.26739258481276457, -0.011842236640300739, 0.11587674824796537, 0.34193528698729436, -0.041882549654842, 0.5471680462301521, 0.3523770061808595, -0.24554817060691006, -0.2108548845494899, 0.7803806293720312, -0.2161546066265362, 0.21528028337300695, 0.11881899098269828, 0.040730259427767625, 1.171544544263563, 0.37678197125415214, 0.456773466964074, 0.3333865257566417, 0.24203840103752206, -0.18112569470491374], \"yaxis\": \"y\"}],\n",
       "                        {\"height\": 600, \"legend\": {\"tracegroupgap\": 0}, \"margin\": {\"t\": 60}, \"plot_bgcolor\": \"rgb(240,240,240)\", \"template\": {\"data\": {\"bar\": [{\"error_x\": {\"color\": \"#2a3f5f\"}, \"error_y\": {\"color\": \"#2a3f5f\"}, \"marker\": {\"line\": {\"color\": \"#E5ECF6\", \"width\": 0.5}}, \"type\": \"bar\"}], \"barpolar\": [{\"marker\": {\"line\": {\"color\": \"#E5ECF6\", \"width\": 0.5}}, \"type\": \"barpolar\"}], \"carpet\": [{\"aaxis\": {\"endlinecolor\": \"#2a3f5f\", \"gridcolor\": \"white\", \"linecolor\": \"white\", \"minorgridcolor\": \"white\", \"startlinecolor\": \"#2a3f5f\"}, \"baxis\": {\"endlinecolor\": \"#2a3f5f\", \"gridcolor\": \"white\", \"linecolor\": \"white\", \"minorgridcolor\": \"white\", \"startlinecolor\": \"#2a3f5f\"}, \"type\": \"carpet\"}], \"choropleth\": [{\"colorbar\": {\"outlinewidth\": 0, \"ticks\": \"\"}, \"type\": \"choropleth\"}], \"contour\": [{\"colorbar\": {\"outlinewidth\": 0, \"ticks\": \"\"}, \"colorscale\": [[0.0, \"#0d0887\"], [0.1111111111111111, \"#46039f\"], [0.2222222222222222, \"#7201a8\"], [0.3333333333333333, \"#9c179e\"], [0.4444444444444444, \"#bd3786\"], [0.5555555555555556, \"#d8576b\"], [0.6666666666666666, \"#ed7953\"], [0.7777777777777778, \"#fb9f3a\"], [0.8888888888888888, \"#fdca26\"], [1.0, \"#f0f921\"]], \"type\": \"contour\"}], \"contourcarpet\": [{\"colorbar\": {\"outlinewidth\": 0, \"ticks\": \"\"}, \"type\": \"contourcarpet\"}], \"heatmap\": [{\"colorbar\": {\"outlinewidth\": 0, \"ticks\": \"\"}, \"colorscale\": [[0.0, \"#0d0887\"], [0.1111111111111111, \"#46039f\"], [0.2222222222222222, \"#7201a8\"], [0.3333333333333333, \"#9c179e\"], [0.4444444444444444, \"#bd3786\"], [0.5555555555555556, \"#d8576b\"], [0.6666666666666666, \"#ed7953\"], [0.7777777777777778, \"#fb9f3a\"], [0.8888888888888888, \"#fdca26\"], [1.0, \"#f0f921\"]], \"type\": \"heatmap\"}], \"heatmapgl\": [{\"colorbar\": {\"outlinewidth\": 0, \"ticks\": \"\"}, \"colorscale\": [[0.0, \"#0d0887\"], [0.1111111111111111, \"#46039f\"], [0.2222222222222222, \"#7201a8\"], [0.3333333333333333, \"#9c179e\"], [0.4444444444444444, \"#bd3786\"], [0.5555555555555556, \"#d8576b\"], [0.6666666666666666, \"#ed7953\"], [0.7777777777777778, \"#fb9f3a\"], [0.8888888888888888, \"#fdca26\"], [1.0, \"#f0f921\"]], \"type\": \"heatmapgl\"}], \"histogram\": [{\"marker\": {\"colorbar\": {\"outlinewidth\": 0, \"ticks\": \"\"}}, \"type\": \"histogram\"}], \"histogram2d\": [{\"colorbar\": {\"outlinewidth\": 0, \"ticks\": \"\"}, \"colorscale\": [[0.0, \"#0d0887\"], [0.1111111111111111, \"#46039f\"], [0.2222222222222222, \"#7201a8\"], [0.3333333333333333, \"#9c179e\"], [0.4444444444444444, \"#bd3786\"], [0.5555555555555556, \"#d8576b\"], [0.6666666666666666, \"#ed7953\"], [0.7777777777777778, \"#fb9f3a\"], [0.8888888888888888, \"#fdca26\"], [1.0, \"#f0f921\"]], \"type\": \"histogram2d\"}], \"histogram2dcontour\": [{\"colorbar\": {\"outlinewidth\": 0, \"ticks\": \"\"}, \"colorscale\": [[0.0, \"#0d0887\"], [0.1111111111111111, \"#46039f\"], [0.2222222222222222, \"#7201a8\"], [0.3333333333333333, \"#9c179e\"], [0.4444444444444444, \"#bd3786\"], [0.5555555555555556, \"#d8576b\"], [0.6666666666666666, \"#ed7953\"], [0.7777777777777778, \"#fb9f3a\"], [0.8888888888888888, \"#fdca26\"], [1.0, \"#f0f921\"]], \"type\": \"histogram2dcontour\"}], \"mesh3d\": [{\"colorbar\": {\"outlinewidth\": 0, \"ticks\": \"\"}, \"type\": \"mesh3d\"}], \"parcoords\": [{\"line\": {\"colorbar\": {\"outlinewidth\": 0, \"ticks\": \"\"}}, \"type\": \"parcoords\"}], \"pie\": [{\"automargin\": true, \"type\": \"pie\"}], \"scatter\": [{\"marker\": {\"colorbar\": {\"outlinewidth\": 0, \"ticks\": \"\"}}, \"type\": \"scatter\"}], \"scatter3d\": [{\"line\": {\"colorbar\": {\"outlinewidth\": 0, \"ticks\": \"\"}}, \"marker\": {\"colorbar\": {\"outlinewidth\": 0, \"ticks\": \"\"}}, \"type\": \"scatter3d\"}], \"scattercarpet\": [{\"marker\": {\"colorbar\": {\"outlinewidth\": 0, \"ticks\": \"\"}}, \"type\": \"scattercarpet\"}], \"scattergeo\": [{\"marker\": {\"colorbar\": {\"outlinewidth\": 0, \"ticks\": \"\"}}, \"type\": \"scattergeo\"}], \"scattergl\": [{\"marker\": {\"colorbar\": {\"outlinewidth\": 0, \"ticks\": \"\"}}, \"type\": \"scattergl\"}], \"scattermapbox\": [{\"marker\": {\"colorbar\": {\"outlinewidth\": 0, \"ticks\": \"\"}}, \"type\": \"scattermapbox\"}], \"scatterpolar\": [{\"marker\": {\"colorbar\": {\"outlinewidth\": 0, \"ticks\": \"\"}}, \"type\": \"scatterpolar\"}], \"scatterpolargl\": [{\"marker\": {\"colorbar\": {\"outlinewidth\": 0, \"ticks\": \"\"}}, \"type\": \"scatterpolargl\"}], \"scatterternary\": [{\"marker\": {\"colorbar\": {\"outlinewidth\": 0, \"ticks\": \"\"}}, \"type\": \"scatterternary\"}], \"surface\": [{\"colorbar\": {\"outlinewidth\": 0, \"ticks\": \"\"}, \"colorscale\": [[0.0, \"#0d0887\"], [0.1111111111111111, \"#46039f\"], [0.2222222222222222, \"#7201a8\"], [0.3333333333333333, \"#9c179e\"], [0.4444444444444444, \"#bd3786\"], [0.5555555555555556, \"#d8576b\"], [0.6666666666666666, \"#ed7953\"], [0.7777777777777778, \"#fb9f3a\"], [0.8888888888888888, \"#fdca26\"], [1.0, \"#f0f921\"]], \"type\": \"surface\"}], \"table\": [{\"cells\": {\"fill\": {\"color\": \"#EBF0F8\"}, \"line\": {\"color\": \"white\"}}, \"header\": {\"fill\": {\"color\": \"#C8D4E3\"}, \"line\": {\"color\": \"white\"}}, \"type\": \"table\"}]}, \"layout\": {\"annotationdefaults\": {\"arrowcolor\": \"#2a3f5f\", \"arrowhead\": 0, \"arrowwidth\": 1}, \"coloraxis\": {\"colorbar\": {\"outlinewidth\": 0, \"ticks\": \"\"}}, \"colorscale\": {\"diverging\": [[0, \"#8e0152\"], [0.1, \"#c51b7d\"], [0.2, \"#de77ae\"], [0.3, \"#f1b6da\"], [0.4, \"#fde0ef\"], [0.5, \"#f7f7f7\"], [0.6, \"#e6f5d0\"], [0.7, \"#b8e186\"], [0.8, \"#7fbc41\"], [0.9, \"#4d9221\"], [1, \"#276419\"]], \"sequential\": [[0.0, \"#0d0887\"], [0.1111111111111111, \"#46039f\"], [0.2222222222222222, \"#7201a8\"], [0.3333333333333333, \"#9c179e\"], [0.4444444444444444, \"#bd3786\"], [0.5555555555555556, \"#d8576b\"], [0.6666666666666666, \"#ed7953\"], [0.7777777777777778, \"#fb9f3a\"], [0.8888888888888888, \"#fdca26\"], [1.0, \"#f0f921\"]], \"sequentialminus\": [[0.0, \"#0d0887\"], [0.1111111111111111, \"#46039f\"], [0.2222222222222222, \"#7201a8\"], [0.3333333333333333, \"#9c179e\"], [0.4444444444444444, \"#bd3786\"], [0.5555555555555556, \"#d8576b\"], [0.6666666666666666, \"#ed7953\"], [0.7777777777777778, \"#fb9f3a\"], [0.8888888888888888, \"#fdca26\"], [1.0, \"#f0f921\"]]}, \"colorway\": [\"#636efa\", \"#EF553B\", \"#00cc96\", \"#ab63fa\", \"#FFA15A\", \"#19d3f3\", \"#FF6692\", \"#B6E880\", \"#FF97FF\", \"#FECB52\"], \"font\": {\"color\": \"#2a3f5f\"}, \"geo\": {\"bgcolor\": \"white\", \"lakecolor\": \"white\", \"landcolor\": \"#E5ECF6\", \"showlakes\": true, \"showland\": true, \"subunitcolor\": \"white\"}, \"hoverlabel\": {\"align\": \"left\"}, \"hovermode\": \"closest\", \"mapbox\": {\"style\": \"light\"}, \"paper_bgcolor\": \"white\", \"plot_bgcolor\": \"#E5ECF6\", \"polar\": {\"angularaxis\": {\"gridcolor\": \"white\", \"linecolor\": \"white\", \"ticks\": \"\"}, \"bgcolor\": \"#E5ECF6\", \"radialaxis\": {\"gridcolor\": \"white\", \"linecolor\": \"white\", \"ticks\": \"\"}}, \"scene\": {\"xaxis\": {\"backgroundcolor\": \"#E5ECF6\", \"gridcolor\": \"white\", \"gridwidth\": 2, \"linecolor\": \"white\", \"showbackground\": true, \"ticks\": \"\", \"zerolinecolor\": \"white\"}, \"yaxis\": {\"backgroundcolor\": \"#E5ECF6\", \"gridcolor\": \"white\", \"gridwidth\": 2, \"linecolor\": \"white\", \"showbackground\": true, \"ticks\": \"\", \"zerolinecolor\": \"white\"}, \"zaxis\": {\"backgroundcolor\": \"#E5ECF6\", \"gridcolor\": \"white\", \"gridwidth\": 2, \"linecolor\": \"white\", \"showbackground\": true, \"ticks\": \"\", \"zerolinecolor\": \"white\"}}, \"shapedefaults\": {\"line\": {\"color\": \"#2a3f5f\"}}, \"ternary\": {\"aaxis\": {\"gridcolor\": \"white\", \"linecolor\": \"white\", \"ticks\": \"\"}, \"baxis\": {\"gridcolor\": \"white\", \"linecolor\": \"white\", \"ticks\": \"\"}, \"bgcolor\": \"#E5ECF6\", \"caxis\": {\"gridcolor\": \"white\", \"linecolor\": \"white\", \"ticks\": \"\"}}, \"title\": {\"x\": 0.05}, \"xaxis\": {\"automargin\": true, \"gridcolor\": \"white\", \"linecolor\": \"white\", \"ticks\": \"\", \"title\": {\"standoff\": 15}, \"zerolinecolor\": \"white\", \"zerolinewidth\": 2}, \"yaxis\": {\"automargin\": true, \"gridcolor\": \"white\", \"linecolor\": \"white\", \"ticks\": \"\", \"title\": {\"standoff\": 15}, \"zerolinecolor\": \"white\", \"zerolinewidth\": 2}}}, \"title\": {\"text\": \"2D Cluster PCA Plot\"}, \"xaxis\": {\"anchor\": \"y\", \"domain\": [0.0, 1.0], \"title\": {\"text\": \"PCA1\"}}, \"yaxis\": {\"anchor\": \"x\", \"domain\": [0.0, 1.0], \"title\": {\"text\": \"PCA2\"}}},\n",
       "                        {\"responsive\": true}\n",
       "                    ).then(function(){\n",
       "                            \n",
       "var gd = document.getElementById('1fec38c1-f66c-4e6a-8c59-214a9108e305');\n",
       "var x = new MutationObserver(function (mutations, observer) {{\n",
       "        var display = window.getComputedStyle(gd).display;\n",
       "        if (!display || display === 'none') {{\n",
       "            console.log([gd, 'removed!']);\n",
       "            Plotly.purge(gd);\n",
       "            observer.disconnect();\n",
       "        }}\n",
       "}});\n",
       "\n",
       "// Listen for the removal of the full notebook cells\n",
       "var notebookContainer = gd.closest('#notebook-container');\n",
       "if (notebookContainer) {{\n",
       "    x.observe(notebookContainer, {childList: true});\n",
       "}}\n",
       "\n",
       "// Listen for the clearing of the current output cell\n",
       "var outputEl = gd.closest('.output');\n",
       "if (outputEl) {{\n",
       "    x.observe(outputEl, {childList: true});\n",
       "}}\n",
       "\n",
       "                        })\n",
       "                };\n",
       "                });\n",
       "            </script>\n",
       "        </div>"
      ]
     },
     "metadata": {},
     "output_type": "display_data"
    }
   ],
   "source": [
    "plot_model(kmeans1)"
   ]
  },
  {
   "cell_type": "code",
   "execution_count": 61,
   "metadata": {},
   "outputs": [
    {
     "data": {
      "text/html": [
       "        <script type=\"text/javascript\">\n",
       "        window.PlotlyConfig = {MathJaxConfig: 'local'};\n",
       "        if (window.MathJax) {MathJax.Hub.Config({SVG: {font: \"STIX-Web\"}});}\n",
       "        if (typeof require !== 'undefined') {\n",
       "        require.undef(\"plotly\");\n",
       "        requirejs.config({\n",
       "            paths: {\n",
       "                'plotly': ['https://cdn.plot.ly/plotly-latest.min']\n",
       "            }\n",
       "        });\n",
       "        require(['plotly'], function(Plotly) {\n",
       "            window._Plotly = Plotly;\n",
       "        });\n",
       "        }\n",
       "        </script>\n",
       "        "
      ]
     },
     "metadata": {},
     "output_type": "display_data"
    },
    {
     "data": {
      "application/vnd.plotly.v1+json": {
       "config": {
        "plotlyServerURL": "https://plot.ly"
       },
       "data": [
        {
         "customdata": [
          [
           1
          ],
          [
           2
          ],
          [
           3
          ],
          [
           4
          ],
          [
           5
          ],
          [
           6
          ],
          [
           7
          ],
          [
           8
          ],
          [
           9
          ],
          [
           10
          ],
          [
           11
          ],
          [
           12
          ],
          [
           13
          ],
          [
           14
          ],
          [
           15
          ],
          [
           16
          ],
          [
           17
          ],
          [
           18
          ],
          [
           19
          ],
          [
           20
          ],
          [
           21
          ],
          [
           22
          ],
          [
           23
          ],
          [
           24
          ],
          [
           25
          ],
          [
           26
          ],
          [
           27
          ],
          [
           28
          ],
          [
           29
          ],
          [
           30
          ],
          [
           31
          ],
          [
           32
          ],
          [
           33
          ],
          [
           34
          ],
          [
           35
          ],
          [
           36
          ],
          [
           37
          ],
          [
           38
          ],
          [
           39
          ],
          [
           40
          ],
          [
           41
          ],
          [
           42
          ],
          [
           43
          ],
          [
           44
          ],
          [
           45
          ],
          [
           46
          ],
          [
           47
          ],
          [
           48
          ],
          [
           49
          ],
          [
           50
          ],
          [
           51
          ],
          [
           52
          ],
          [
           53
          ],
          [
           54
          ],
          [
           55
          ],
          [
           56
          ],
          [
           57
          ],
          [
           58
          ],
          [
           59
          ],
          [
           60
          ],
          [
           61
          ],
          [
           62
          ]
         ],
         "hoverlabel": {
          "namelength": 0
         },
         "hovertemplate": "Cluster=Cluster 0<br>0=%{x}<br>1=%{y}<br>2=%{z}<br>Feature=%{customdata[0]}",
         "legendgroup": "Cluster=Cluster 0",
         "marker": {
          "color": "#636efa",
          "opacity": 0.7,
          "symbol": "circle"
         },
         "mode": "markers",
         "name": "Cluster=Cluster 0",
         "scene": "scene",
         "showlegend": true,
         "type": "scatter3d",
         "x": [
          -36.48445510864258,
          -132.6173553466797,
          -35.560638427734375,
          70.79679870605469,
          -65.55488586425781,
          47.049434661865234,
          9.766069412231445,
          -27.132192611694336,
          -64.56246185302734,
          -21.257776260375977,
          10.795233726501465,
          -22.586021423339844,
          41.777732849121094,
          -86.76380157470703,
          -117.74779510498047,
          -7.85904598236084,
          -21.385982513427734,
          21.37041664123535,
          57.38702392578125,
          51.541465759277344,
          9.912806510925293,
          43.9493522644043,
          96.11851501464844,
          68.50253295898438,
          -17.632709503173828,
          -50.525054931640625,
          -97.45321655273438,
          -29.705839157104492,
          53.43376541137695,
          7.681509494781494,
          -106.86260223388672,
          42.04292678833008,
          -31.172767639160156,
          -122.87359619140625,
          15.999423027038574,
          -82.9193115234375,
          -53.94581604003906,
          -62.97030258178711,
          -73.28031921386719,
          48.45431900024414,
          0.3542168438434601,
          -127.20516967773438,
          97.33511352539062,
          125.5377426147461,
          -7.8632330894470215,
          -60.585777282714844,
          -2.049589157104492,
          19.420406341552734,
          118.55331420898438,
          33.634429931640625,
          -115.05072021484375,
          21.11004066467285,
          10.888215065002441,
          74.10124969482422,
          106.53831481933594,
          -83.9598159790039,
          -90.27206420898438,
          -37.51548385620117,
          56.119476318359375,
          11.721440315246582,
          5.7281975746154785,
          22.14523696899414
         ],
         "y": [
          -18.32807159423828,
          -1.0854158401489258,
          62.379547119140625,
          9.83324909210205,
          93.32003021240234,
          38.62036895751953,
          -15.630818367004395,
          -85.527099609375,
          11.575620651245117,
          14.040961265563965,
          93.35067749023438,
          28.0120906829834,
          29.960830688476562,
          40.84601974487305,
          10.196466445922852,
          93.05899047851562,
          52.92562484741211,
          -80.0311279296875,
          64.42597961425781,
          76.35834503173828,
          -35.06576156616211,
          -17.06818962097168,
          -15.698922157287598,
          37.43947982788086,
          -68.3248291015625,
          96.91187286376953,
          6.5942702293396,
          -3.839458465576172,
          -43.84644317626953,
          -57.10127639770508,
          -13.378965377807617,
          110.89871215820312,
          -38.48716354370117,
          29.891990661621094,
          -15.726215362548828,
          21.676231384277344,
          44.04472732543945,
          -4.47234582901001,
          64.44483947753906,
          -62.8466796875,
          48.89152908325195,
          21.812267303466797,
          -44.77877426147461,
          16.72676658630371,
          -8.65968132019043,
          -106.32772827148438,
          80.61566162109375,
          42.3049430847168,
          0.5903114676475525,
          3.8318722248077393,
          69.99601745605469,
          60.43803405761719,
          13.494114875793457,
          8.783416748046875,
          38.84269332885742,
          -34.6579475402832,
          20.707847595214844,
          -42.41918182373047,
          -31.680328369140625,
          -53.06899642944336,
          -112.19343566894531,
          22.788822174072266
         ],
         "z": [
          -126.80510711669922,
          -11.353601455688477,
          -91.90695190429688,
          -151.15528869628906,
          -109.22911834716797,
          -173.41131591796875,
          -62.00589370727539,
          -111.17729187011719,
          -131.9367218017578,
          -61.52363586425781,
          -23.27893829345703,
          -109.3342514038086,
          -42.13521194458008,
          -63.165000915527344,
          84.41966247558594,
          -79.15107727050781,
          -151.11502075195312,
          -69.9357681274414,
          -137.93919372558594,
          -54.33995056152344,
          -156.78785705566406,
          -86.57648468017578,
          -114.94293212890625,
          -102.92693328857422,
          -71.744384765625,
          -63.776611328125,
          -96.9991455078125,
          -12.556150436401367,
          -43.62759017944336,
          -14.502059936523438,
          -41.33456802368164,
          -96.59244537353516,
          -39.45659255981445,
          16.81068992614746,
          -16.30466079711914,
          32.088443756103516,
          -25.30336570739746,
          -53.80045700073242,
          6.894148826599121,
          17.923208236694336,
          -34.140533447265625,
          -47.079017639160156,
          -67.57259368896484,
          -103.54652404785156,
          -100.11090850830078,
          146.98785400390625,
          -122.40609741210938,
          -120.4150161743164,
          -145.24903869628906,
          -124.1085433959961,
          -24.74753761291504,
          -84.43428039550781,
          -158.1466827392578,
          -67.93946838378906,
          -133.18771362304688,
          -97.71148681640625,
          -18.214435577392578,
          -92.30089569091797,
          -142.83285522460938,
          -102.98802185058594,
          -95.62757110595703,
          -78.28327178955078
         ]
        },
        {
         "customdata": [
          [
           63
          ],
          [
           64
          ],
          [
           65
          ],
          [
           66
          ],
          [
           67
          ],
          [
           68
          ],
          [
           69
          ],
          [
           70
          ],
          [
           71
          ],
          [
           72
          ],
          [
           73
          ],
          [
           74
          ],
          [
           75
          ],
          [
           76
          ],
          [
           77
          ],
          [
           78
          ],
          [
           79
          ],
          [
           80
          ],
          [
           81
          ],
          [
           82
          ],
          [
           83
          ],
          [
           84
          ],
          [
           85
          ],
          [
           86
          ],
          [
           87
          ],
          [
           88
          ],
          [
           89
          ],
          [
           90
          ],
          [
           91
          ],
          [
           92
          ],
          [
           93
          ],
          [
           94
          ],
          [
           95
          ],
          [
           96
          ],
          [
           97
          ],
          [
           98
          ],
          [
           99
          ],
          [
           100
          ],
          [
           101
          ],
          [
           102
          ],
          [
           103
          ],
          [
           104
          ],
          [
           105
          ],
          [
           106
          ],
          [
           107
          ],
          [
           108
          ],
          [
           109
          ],
          [
           110
          ],
          [
           111
          ],
          [
           112
          ]
         ],
         "hoverlabel": {
          "namelength": 0
         },
         "hovertemplate": "Cluster=Cluster 1<br>0=%{x}<br>1=%{y}<br>2=%{z}<br>Feature=%{customdata[0]}",
         "legendgroup": "Cluster=Cluster 1",
         "marker": {
          "color": "#EF553B",
          "opacity": 0.7,
          "symbol": "circle"
         },
         "mode": "markers",
         "name": "Cluster=Cluster 1",
         "scene": "scene",
         "showlegend": true,
         "type": "scatter3d",
         "x": [
          2.6903915405273438,
          105.6377944946289,
          -80.47752380371094,
          14.476816177368164,
          -46.84982681274414,
          -8.910089492797852,
          51.804962158203125,
          -48.992637634277344,
          -52.993988037109375,
          29.751678466796875,
          151.61045837402344,
          79.08033752441406,
          35.81886291503906,
          -2.850709915161133,
          57.993919372558594,
          159.2818603515625,
          -25.695045471191406,
          121.04234313964844,
          -32.25414276123047,
          7.594062328338623,
          73.0688247680664,
          92.9366455078125,
          81.74978637695312,
          122.68958282470703,
          127.47089385986328,
          14.806085586547852,
          103.07215881347656,
          -56.2348747253418,
          -26.805131912231445,
          135.89987182617188,
          -2.7129158973693848,
          101.54293060302734,
          160.2755584716797,
          8.680323600769043,
          1.5787066221237183,
          114.3677749633789,
          30.956417083740234,
          49.62697219848633,
          110.81282806396484,
          -35.329811096191406,
          23.80577278137207,
          96.17302703857422,
          16.15448570251465,
          43.09447479248047,
          73.30934143066406,
          55.676544189453125,
          83.40650939941406,
          104.80583953857422,
          42.9200439453125,
          -12.105030059814453
         ],
         "y": [
          31.573877334594727,
          17.546897888183594,
          -15.00088882446289,
          53.629817962646484,
          13.503267288208008,
          44.47754669189453,
          38.23904037475586,
          105.45578002929688,
          124.73839569091797,
          109.77088928222656,
          -24.7012882232666,
          60.81889724731445,
          -2.011988878250122,
          16.513412475585938,
          43.528316497802734,
          21.87793731689453,
          63.820472717285156,
          45.42278289794922,
          58.94524383544922,
          83.37445831298828,
          119.11316680908203,
          12.018074989318848,
          38.043033599853516,
          48.24647903442383,
          20.828020095825195,
          1.6184979677200317,
          53.88833999633789,
          33.14323043823242,
          15.940296173095703,
          -0.6860784888267517,
          39.496421813964844,
          66.49091339111328,
          68.98892211914062,
          86.45757293701172,
          -24.555025100708008,
          8.351799964904785,
          46.208457946777344,
          76.99036407470703,
          -34.48228454589844,
          -6.045310974121094,
          79.62261199951172,
          80.30549621582031,
          -7.036985874176025,
          27.656002044677734,
          -10.06514835357666,
          85.45873260498047,
          13.816084861755371,
          -22.057401657104492,
          -5.8944783210754395,
          131.26608276367188
         ],
         "z": [
          24.78300666809082,
          129.8295440673828,
          124.6222915649414,
          111.55608367919922,
          131.84841918945312,
          156.65447998046875,
          124.89191436767578,
          68.44547271728516,
          13.814072608947754,
          122.698974609375,
          52.5840950012207,
          92.71111297607422,
          30.430164337158203,
          120.68657684326172,
          14.533876419067383,
          55.65739822387695,
          51.41008758544922,
          94.08124542236328,
          117.07453155517578,
          36.3737907409668,
          57.154327392578125,
          81.17567443847656,
          47.496337890625,
          45.95308303833008,
          2.424311637878418,
          73.89860534667969,
          -32.35136413574219,
          88.50523376464844,
          49.0607795715332,
          91.377685546875,
          72.52024841308594,
          13.398478507995605,
          26.59693717956543,
          78.86986541748047,
          109.90840148925781,
          42.70069122314453,
          51.9073600769043,
          67.42341613769531,
          71.27001190185547,
          94.90653991699219,
          156.0318145751953,
          54.4764404296875,
          152.30650329589844,
          85.07451629638672,
          47.93179702758789,
          24.201574325561523,
          8.575519561767578,
          12.298961639404297,
          114.8633804321289,
          42.850765228271484
         ]
        },
        {
         "customdata": [
          [
           113
          ],
          [
           114
          ],
          [
           115
          ],
          [
           116
          ],
          [
           117
          ],
          [
           118
          ],
          [
           119
          ],
          [
           120
          ],
          [
           121
          ],
          [
           122
          ],
          [
           123
          ],
          [
           124
          ],
          [
           125
          ],
          [
           126
          ],
          [
           127
          ],
          [
           128
          ],
          [
           129
          ],
          [
           130
          ],
          [
           131
          ],
          [
           132
          ],
          [
           133
          ],
          [
           134
          ],
          [
           135
          ],
          [
           136
          ],
          [
           137
          ],
          [
           138
          ],
          [
           139
          ],
          [
           140
          ],
          [
           141
          ],
          [
           142
          ],
          [
           143
          ],
          [
           144
          ],
          [
           145
          ],
          [
           146
          ],
          [
           147
          ],
          [
           148
          ],
          [
           149
          ],
          [
           150
          ]
         ],
         "hoverlabel": {
          "namelength": 0
         },
         "hovertemplate": "Cluster=Cluster 2<br>0=%{x}<br>1=%{y}<br>2=%{z}<br>Feature=%{customdata[0]}",
         "legendgroup": "Cluster=Cluster 2",
         "marker": {
          "color": "#00cc96",
          "opacity": 0.7,
          "symbol": "circle"
         },
         "mode": "markers",
         "name": "Cluster=Cluster 2",
         "scene": "scene",
         "showlegend": true,
         "type": "scatter3d",
         "x": [
          -71.53319549560547,
          -13.842611312866211,
          2.0721535682678223,
          -105.07867431640625,
          -121.66889190673828,
          34.573970794677734,
          -101.77113342285156,
          -95.46232604980469,
          -33.60649108886719,
          -56.66204071044922,
          -121.46855163574219,
          38.99801254272461,
          -109.82677459716797,
          -61.89458465576172,
          -37.098365783691406,
          -139.96246337890625,
          18.717329025268555,
          -30.77696990966797,
          -70.7853012084961,
          -76.606201171875,
          -0.7172339558601379,
          89.3525619506836,
          -43.388458251953125,
          -22.430753707885742,
          -2.229750871658325,
          -7.889128684997559,
          50.25169372558594,
          22.044492721557617,
          -89.13878631591797,
          -79.89599609375,
          -66.78514862060547,
          -54.24107360839844,
          -31.6442813873291,
          -93.6707534790039,
          -34.184364318847656,
          -70.1537094116211,
          -70.23829650878906,
          -43.43433380126953
         ],
         "y": [
          -74.90574645996094,
          -102.3349838256836,
          -167.30015563964844,
          -45.25205612182617,
          -110.8662338256836,
          148.6680145263672,
          -67.4842300415039,
          -146.59585571289062,
          -53.81966781616211,
          -71.35906219482422,
          -88.13719940185547,
          -102.85292053222656,
          -132.11529541015625,
          -90.28172302246094,
          -114.62043762207031,
          -59.70003128051758,
          -121.15467834472656,
          -82.26573181152344,
          -65.22100830078125,
          -115.54196166992188,
          -59.54966354370117,
          124.74848175048828,
          -100.06501770019531,
          -140.59080505371094,
          -154.8843536376953,
          -106.68403625488281,
          149.11280822753906,
          -134.24110412597656,
          -18.687049865722656,
          -76.54144287109375,
          99.382568359375,
          -33.55363845825195,
          -172.5518341064453,
          -101.75713348388672,
          -136.64308166503906,
          -126.28829956054688,
          -41.52806854248047,
          -80.47064208984375
         ],
         "z": [
          99.32563018798828,
          69.1158447265625,
          75.55308532714844,
          48.63651657104492,
          -4.444014072418213,
          -50.504417419433594,
          -5.788427829742432,
          -20.031970977783203,
          13.165003776550293,
          58.19221496582031,
          34.23463821411133,
          -18.2000732421875,
          33.610595703125,
          -88.20384216308594,
          -43.19321823120117,
          -2.4506916999816895,
          94.54137420654297,
          101.3819351196289,
          -54.890167236328125,
          -3.09861159324646,
          44.950706481933594,
          -36.44184494018555,
          25.790494918823242,
          51.85523223876953,
          -7.014636039733887,
          -0.8483553528785706,
          3.8929781913757324,
          38.99485397338867,
          16.525259017944336,
          27.826866149902344,
          128.22427368164062,
          35.647708892822266,
          26.66412353515625,
          64.96517181396484,
          92.55314636230469,
          41.20922088623047,
          -13.962721824645996,
          -12.742121696472168
         ]
        }
       ],
       "layout": {
        "height": 800,
        "legend": {
         "tracegroupgap": 0
        },
        "scene": {
         "domain": {
          "x": [
           0,
           1
          ],
          "y": [
           0,
           1
          ]
         },
         "xaxis": {
          "title": {
           "text": "0"
          }
         },
         "yaxis": {
          "title": {
           "text": "1"
          }
         },
         "zaxis": {
          "title": {
           "text": "2"
          }
         }
        },
        "template": {
         "data": {
          "bar": [
           {
            "error_x": {
             "color": "#2a3f5f"
            },
            "error_y": {
             "color": "#2a3f5f"
            },
            "marker": {
             "line": {
              "color": "#E5ECF6",
              "width": 0.5
             }
            },
            "type": "bar"
           }
          ],
          "barpolar": [
           {
            "marker": {
             "line": {
              "color": "#E5ECF6",
              "width": 0.5
             }
            },
            "type": "barpolar"
           }
          ],
          "carpet": [
           {
            "aaxis": {
             "endlinecolor": "#2a3f5f",
             "gridcolor": "white",
             "linecolor": "white",
             "minorgridcolor": "white",
             "startlinecolor": "#2a3f5f"
            },
            "baxis": {
             "endlinecolor": "#2a3f5f",
             "gridcolor": "white",
             "linecolor": "white",
             "minorgridcolor": "white",
             "startlinecolor": "#2a3f5f"
            },
            "type": "carpet"
           }
          ],
          "choropleth": [
           {
            "colorbar": {
             "outlinewidth": 0,
             "ticks": ""
            },
            "type": "choropleth"
           }
          ],
          "contour": [
           {
            "colorbar": {
             "outlinewidth": 0,
             "ticks": ""
            },
            "colorscale": [
             [
              0,
              "#0d0887"
             ],
             [
              0.1111111111111111,
              "#46039f"
             ],
             [
              0.2222222222222222,
              "#7201a8"
             ],
             [
              0.3333333333333333,
              "#9c179e"
             ],
             [
              0.4444444444444444,
              "#bd3786"
             ],
             [
              0.5555555555555556,
              "#d8576b"
             ],
             [
              0.6666666666666666,
              "#ed7953"
             ],
             [
              0.7777777777777778,
              "#fb9f3a"
             ],
             [
              0.8888888888888888,
              "#fdca26"
             ],
             [
              1,
              "#f0f921"
             ]
            ],
            "type": "contour"
           }
          ],
          "contourcarpet": [
           {
            "colorbar": {
             "outlinewidth": 0,
             "ticks": ""
            },
            "type": "contourcarpet"
           }
          ],
          "heatmap": [
           {
            "colorbar": {
             "outlinewidth": 0,
             "ticks": ""
            },
            "colorscale": [
             [
              0,
              "#0d0887"
             ],
             [
              0.1111111111111111,
              "#46039f"
             ],
             [
              0.2222222222222222,
              "#7201a8"
             ],
             [
              0.3333333333333333,
              "#9c179e"
             ],
             [
              0.4444444444444444,
              "#bd3786"
             ],
             [
              0.5555555555555556,
              "#d8576b"
             ],
             [
              0.6666666666666666,
              "#ed7953"
             ],
             [
              0.7777777777777778,
              "#fb9f3a"
             ],
             [
              0.8888888888888888,
              "#fdca26"
             ],
             [
              1,
              "#f0f921"
             ]
            ],
            "type": "heatmap"
           }
          ],
          "heatmapgl": [
           {
            "colorbar": {
             "outlinewidth": 0,
             "ticks": ""
            },
            "colorscale": [
             [
              0,
              "#0d0887"
             ],
             [
              0.1111111111111111,
              "#46039f"
             ],
             [
              0.2222222222222222,
              "#7201a8"
             ],
             [
              0.3333333333333333,
              "#9c179e"
             ],
             [
              0.4444444444444444,
              "#bd3786"
             ],
             [
              0.5555555555555556,
              "#d8576b"
             ],
             [
              0.6666666666666666,
              "#ed7953"
             ],
             [
              0.7777777777777778,
              "#fb9f3a"
             ],
             [
              0.8888888888888888,
              "#fdca26"
             ],
             [
              1,
              "#f0f921"
             ]
            ],
            "type": "heatmapgl"
           }
          ],
          "histogram": [
           {
            "marker": {
             "colorbar": {
              "outlinewidth": 0,
              "ticks": ""
             }
            },
            "type": "histogram"
           }
          ],
          "histogram2d": [
           {
            "colorbar": {
             "outlinewidth": 0,
             "ticks": ""
            },
            "colorscale": [
             [
              0,
              "#0d0887"
             ],
             [
              0.1111111111111111,
              "#46039f"
             ],
             [
              0.2222222222222222,
              "#7201a8"
             ],
             [
              0.3333333333333333,
              "#9c179e"
             ],
             [
              0.4444444444444444,
              "#bd3786"
             ],
             [
              0.5555555555555556,
              "#d8576b"
             ],
             [
              0.6666666666666666,
              "#ed7953"
             ],
             [
              0.7777777777777778,
              "#fb9f3a"
             ],
             [
              0.8888888888888888,
              "#fdca26"
             ],
             [
              1,
              "#f0f921"
             ]
            ],
            "type": "histogram2d"
           }
          ],
          "histogram2dcontour": [
           {
            "colorbar": {
             "outlinewidth": 0,
             "ticks": ""
            },
            "colorscale": [
             [
              0,
              "#0d0887"
             ],
             [
              0.1111111111111111,
              "#46039f"
             ],
             [
              0.2222222222222222,
              "#7201a8"
             ],
             [
              0.3333333333333333,
              "#9c179e"
             ],
             [
              0.4444444444444444,
              "#bd3786"
             ],
             [
              0.5555555555555556,
              "#d8576b"
             ],
             [
              0.6666666666666666,
              "#ed7953"
             ],
             [
              0.7777777777777778,
              "#fb9f3a"
             ],
             [
              0.8888888888888888,
              "#fdca26"
             ],
             [
              1,
              "#f0f921"
             ]
            ],
            "type": "histogram2dcontour"
           }
          ],
          "mesh3d": [
           {
            "colorbar": {
             "outlinewidth": 0,
             "ticks": ""
            },
            "type": "mesh3d"
           }
          ],
          "parcoords": [
           {
            "line": {
             "colorbar": {
              "outlinewidth": 0,
              "ticks": ""
             }
            },
            "type": "parcoords"
           }
          ],
          "pie": [
           {
            "automargin": true,
            "type": "pie"
           }
          ],
          "scatter": [
           {
            "marker": {
             "colorbar": {
              "outlinewidth": 0,
              "ticks": ""
             }
            },
            "type": "scatter"
           }
          ],
          "scatter3d": [
           {
            "line": {
             "colorbar": {
              "outlinewidth": 0,
              "ticks": ""
             }
            },
            "marker": {
             "colorbar": {
              "outlinewidth": 0,
              "ticks": ""
             }
            },
            "type": "scatter3d"
           }
          ],
          "scattercarpet": [
           {
            "marker": {
             "colorbar": {
              "outlinewidth": 0,
              "ticks": ""
             }
            },
            "type": "scattercarpet"
           }
          ],
          "scattergeo": [
           {
            "marker": {
             "colorbar": {
              "outlinewidth": 0,
              "ticks": ""
             }
            },
            "type": "scattergeo"
           }
          ],
          "scattergl": [
           {
            "marker": {
             "colorbar": {
              "outlinewidth": 0,
              "ticks": ""
             }
            },
            "type": "scattergl"
           }
          ],
          "scattermapbox": [
           {
            "marker": {
             "colorbar": {
              "outlinewidth": 0,
              "ticks": ""
             }
            },
            "type": "scattermapbox"
           }
          ],
          "scatterpolar": [
           {
            "marker": {
             "colorbar": {
              "outlinewidth": 0,
              "ticks": ""
             }
            },
            "type": "scatterpolar"
           }
          ],
          "scatterpolargl": [
           {
            "marker": {
             "colorbar": {
              "outlinewidth": 0,
              "ticks": ""
             }
            },
            "type": "scatterpolargl"
           }
          ],
          "scatterternary": [
           {
            "marker": {
             "colorbar": {
              "outlinewidth": 0,
              "ticks": ""
             }
            },
            "type": "scatterternary"
           }
          ],
          "surface": [
           {
            "colorbar": {
             "outlinewidth": 0,
             "ticks": ""
            },
            "colorscale": [
             [
              0,
              "#0d0887"
             ],
             [
              0.1111111111111111,
              "#46039f"
             ],
             [
              0.2222222222222222,
              "#7201a8"
             ],
             [
              0.3333333333333333,
              "#9c179e"
             ],
             [
              0.4444444444444444,
              "#bd3786"
             ],
             [
              0.5555555555555556,
              "#d8576b"
             ],
             [
              0.6666666666666666,
              "#ed7953"
             ],
             [
              0.7777777777777778,
              "#fb9f3a"
             ],
             [
              0.8888888888888888,
              "#fdca26"
             ],
             [
              1,
              "#f0f921"
             ]
            ],
            "type": "surface"
           }
          ],
          "table": [
           {
            "cells": {
             "fill": {
              "color": "#EBF0F8"
             },
             "line": {
              "color": "white"
             }
            },
            "header": {
             "fill": {
              "color": "#C8D4E3"
             },
             "line": {
              "color": "white"
             }
            },
            "type": "table"
           }
          ]
         },
         "layout": {
          "annotationdefaults": {
           "arrowcolor": "#2a3f5f",
           "arrowhead": 0,
           "arrowwidth": 1
          },
          "coloraxis": {
           "colorbar": {
            "outlinewidth": 0,
            "ticks": ""
           }
          },
          "colorscale": {
           "diverging": [
            [
             0,
             "#8e0152"
            ],
            [
             0.1,
             "#c51b7d"
            ],
            [
             0.2,
             "#de77ae"
            ],
            [
             0.3,
             "#f1b6da"
            ],
            [
             0.4,
             "#fde0ef"
            ],
            [
             0.5,
             "#f7f7f7"
            ],
            [
             0.6,
             "#e6f5d0"
            ],
            [
             0.7,
             "#b8e186"
            ],
            [
             0.8,
             "#7fbc41"
            ],
            [
             0.9,
             "#4d9221"
            ],
            [
             1,
             "#276419"
            ]
           ],
           "sequential": [
            [
             0,
             "#0d0887"
            ],
            [
             0.1111111111111111,
             "#46039f"
            ],
            [
             0.2222222222222222,
             "#7201a8"
            ],
            [
             0.3333333333333333,
             "#9c179e"
            ],
            [
             0.4444444444444444,
             "#bd3786"
            ],
            [
             0.5555555555555556,
             "#d8576b"
            ],
            [
             0.6666666666666666,
             "#ed7953"
            ],
            [
             0.7777777777777778,
             "#fb9f3a"
            ],
            [
             0.8888888888888888,
             "#fdca26"
            ],
            [
             1,
             "#f0f921"
            ]
           ],
           "sequentialminus": [
            [
             0,
             "#0d0887"
            ],
            [
             0.1111111111111111,
             "#46039f"
            ],
            [
             0.2222222222222222,
             "#7201a8"
            ],
            [
             0.3333333333333333,
             "#9c179e"
            ],
            [
             0.4444444444444444,
             "#bd3786"
            ],
            [
             0.5555555555555556,
             "#d8576b"
            ],
            [
             0.6666666666666666,
             "#ed7953"
            ],
            [
             0.7777777777777778,
             "#fb9f3a"
            ],
            [
             0.8888888888888888,
             "#fdca26"
            ],
            [
             1,
             "#f0f921"
            ]
           ]
          },
          "colorway": [
           "#636efa",
           "#EF553B",
           "#00cc96",
           "#ab63fa",
           "#FFA15A",
           "#19d3f3",
           "#FF6692",
           "#B6E880",
           "#FF97FF",
           "#FECB52"
          ],
          "font": {
           "color": "#2a3f5f"
          },
          "geo": {
           "bgcolor": "white",
           "lakecolor": "white",
           "landcolor": "#E5ECF6",
           "showlakes": true,
           "showland": true,
           "subunitcolor": "white"
          },
          "hoverlabel": {
           "align": "left"
          },
          "hovermode": "closest",
          "mapbox": {
           "style": "light"
          },
          "paper_bgcolor": "white",
          "plot_bgcolor": "#E5ECF6",
          "polar": {
           "angularaxis": {
            "gridcolor": "white",
            "linecolor": "white",
            "ticks": ""
           },
           "bgcolor": "#E5ECF6",
           "radialaxis": {
            "gridcolor": "white",
            "linecolor": "white",
            "ticks": ""
           }
          },
          "scene": {
           "xaxis": {
            "backgroundcolor": "#E5ECF6",
            "gridcolor": "white",
            "gridwidth": 2,
            "linecolor": "white",
            "showbackground": true,
            "ticks": "",
            "zerolinecolor": "white"
           },
           "yaxis": {
            "backgroundcolor": "#E5ECF6",
            "gridcolor": "white",
            "gridwidth": 2,
            "linecolor": "white",
            "showbackground": true,
            "ticks": "",
            "zerolinecolor": "white"
           },
           "zaxis": {
            "backgroundcolor": "#E5ECF6",
            "gridcolor": "white",
            "gridwidth": 2,
            "linecolor": "white",
            "showbackground": true,
            "ticks": "",
            "zerolinecolor": "white"
           }
          },
          "shapedefaults": {
           "line": {
            "color": "#2a3f5f"
           }
          },
          "ternary": {
           "aaxis": {
            "gridcolor": "white",
            "linecolor": "white",
            "ticks": ""
           },
           "baxis": {
            "gridcolor": "white",
            "linecolor": "white",
            "ticks": ""
           },
           "bgcolor": "#E5ECF6",
           "caxis": {
            "gridcolor": "white",
            "linecolor": "white",
            "ticks": ""
           }
          },
          "title": {
           "x": 0.05
          },
          "xaxis": {
           "automargin": true,
           "gridcolor": "white",
           "linecolor": "white",
           "ticks": "",
           "title": {
            "standoff": 15
           },
           "zerolinecolor": "white",
           "zerolinewidth": 2
          },
          "yaxis": {
           "automargin": true,
           "gridcolor": "white",
           "linecolor": "white",
           "ticks": "",
           "title": {
            "standoff": 15
           },
           "zerolinecolor": "white",
           "zerolinewidth": 2
          }
         }
        },
        "title": {
         "text": "3d TSNE Plot for Clusters"
        },
        "width": 900
       }
      },
      "text/html": [
       "<div>\n",
       "        \n",
       "        \n",
       "            <div id=\"8f67d024-909f-4850-b456-5efe0b67c492\" class=\"plotly-graph-div\" style=\"height:800px; width:900px;\"></div>\n",
       "            <script type=\"text/javascript\">\n",
       "                require([\"plotly\"], function(Plotly) {\n",
       "                    window.PLOTLYENV=window.PLOTLYENV || {};\n",
       "                    \n",
       "                if (document.getElementById(\"8f67d024-909f-4850-b456-5efe0b67c492\")) {\n",
       "                    Plotly.newPlot(\n",
       "                        '8f67d024-909f-4850-b456-5efe0b67c492',\n",
       "                        [{\"customdata\": [[1], [2], [3], [4], [5], [6], [7], [8], [9], [10], [11], [12], [13], [14], [15], [16], [17], [18], [19], [20], [21], [22], [23], [24], [25], [26], [27], [28], [29], [30], [31], [32], [33], [34], [35], [36], [37], [38], [39], [40], [41], [42], [43], [44], [45], [46], [47], [48], [49], [50], [51], [52], [53], [54], [55], [56], [57], [58], [59], [60], [61], [62]], \"hoverlabel\": {\"namelength\": 0}, \"hovertemplate\": \"Cluster=Cluster 0<br>0=%{x}<br>1=%{y}<br>2=%{z}<br>Feature=%{customdata[0]}\", \"legendgroup\": \"Cluster=Cluster 0\", \"marker\": {\"color\": \"#636efa\", \"opacity\": 0.7, \"symbol\": \"circle\"}, \"mode\": \"markers\", \"name\": \"Cluster=Cluster 0\", \"scene\": \"scene\", \"showlegend\": true, \"type\": \"scatter3d\", \"x\": [-36.48445510864258, -132.6173553466797, -35.560638427734375, 70.79679870605469, -65.55488586425781, 47.049434661865234, 9.766069412231445, -27.132192611694336, -64.56246185302734, -21.257776260375977, 10.795233726501465, -22.586021423339844, 41.777732849121094, -86.76380157470703, -117.74779510498047, -7.85904598236084, -21.385982513427734, 21.37041664123535, 57.38702392578125, 51.541465759277344, 9.912806510925293, 43.9493522644043, 96.11851501464844, 68.50253295898438, -17.632709503173828, -50.525054931640625, -97.45321655273438, -29.705839157104492, 53.43376541137695, 7.681509494781494, -106.86260223388672, 42.04292678833008, -31.172767639160156, -122.87359619140625, 15.999423027038574, -82.9193115234375, -53.94581604003906, -62.97030258178711, -73.28031921386719, 48.45431900024414, 0.3542168438434601, -127.20516967773438, 97.33511352539062, 125.5377426147461, -7.8632330894470215, -60.585777282714844, -2.049589157104492, 19.420406341552734, 118.55331420898438, 33.634429931640625, -115.05072021484375, 21.11004066467285, 10.888215065002441, 74.10124969482422, 106.53831481933594, -83.9598159790039, -90.27206420898438, -37.51548385620117, 56.119476318359375, 11.721440315246582, 5.7281975746154785, 22.14523696899414], \"y\": [-18.32807159423828, -1.0854158401489258, 62.379547119140625, 9.83324909210205, 93.32003021240234, 38.62036895751953, -15.630818367004395, -85.527099609375, 11.575620651245117, 14.040961265563965, 93.35067749023438, 28.0120906829834, 29.960830688476562, 40.84601974487305, 10.196466445922852, 93.05899047851562, 52.92562484741211, -80.0311279296875, 64.42597961425781, 76.35834503173828, -35.06576156616211, -17.06818962097168, -15.698922157287598, 37.43947982788086, -68.3248291015625, 96.91187286376953, 6.5942702293396, -3.839458465576172, -43.84644317626953, -57.10127639770508, -13.378965377807617, 110.89871215820312, -38.48716354370117, 29.891990661621094, -15.726215362548828, 21.676231384277344, 44.04472732543945, -4.47234582901001, 64.44483947753906, -62.8466796875, 48.89152908325195, 21.812267303466797, -44.77877426147461, 16.72676658630371, -8.65968132019043, -106.32772827148438, 80.61566162109375, 42.3049430847168, 0.5903114676475525, 3.8318722248077393, 69.99601745605469, 60.43803405761719, 13.494114875793457, 8.783416748046875, 38.84269332885742, -34.6579475402832, 20.707847595214844, -42.41918182373047, -31.680328369140625, -53.06899642944336, -112.19343566894531, 22.788822174072266], \"z\": [-126.80510711669922, -11.353601455688477, -91.90695190429688, -151.15528869628906, -109.22911834716797, -173.41131591796875, -62.00589370727539, -111.17729187011719, -131.9367218017578, -61.52363586425781, -23.27893829345703, -109.3342514038086, -42.13521194458008, -63.165000915527344, 84.41966247558594, -79.15107727050781, -151.11502075195312, -69.9357681274414, -137.93919372558594, -54.33995056152344, -156.78785705566406, -86.57648468017578, -114.94293212890625, -102.92693328857422, -71.744384765625, -63.776611328125, -96.9991455078125, -12.556150436401367, -43.62759017944336, -14.502059936523438, -41.33456802368164, -96.59244537353516, -39.45659255981445, 16.81068992614746, -16.30466079711914, 32.088443756103516, -25.30336570739746, -53.80045700073242, 6.894148826599121, 17.923208236694336, -34.140533447265625, -47.079017639160156, -67.57259368896484, -103.54652404785156, -100.11090850830078, 146.98785400390625, -122.40609741210938, -120.4150161743164, -145.24903869628906, -124.1085433959961, -24.74753761291504, -84.43428039550781, -158.1466827392578, -67.93946838378906, -133.18771362304688, -97.71148681640625, -18.214435577392578, -92.30089569091797, -142.83285522460938, -102.98802185058594, -95.62757110595703, -78.28327178955078]}, {\"customdata\": [[63], [64], [65], [66], [67], [68], [69], [70], [71], [72], [73], [74], [75], [76], [77], [78], [79], [80], [81], [82], [83], [84], [85], [86], [87], [88], [89], [90], [91], [92], [93], [94], [95], [96], [97], [98], [99], [100], [101], [102], [103], [104], [105], [106], [107], [108], [109], [110], [111], [112]], \"hoverlabel\": {\"namelength\": 0}, \"hovertemplate\": \"Cluster=Cluster 1<br>0=%{x}<br>1=%{y}<br>2=%{z}<br>Feature=%{customdata[0]}\", \"legendgroup\": \"Cluster=Cluster 1\", \"marker\": {\"color\": \"#EF553B\", \"opacity\": 0.7, \"symbol\": \"circle\"}, \"mode\": \"markers\", \"name\": \"Cluster=Cluster 1\", \"scene\": \"scene\", \"showlegend\": true, \"type\": \"scatter3d\", \"x\": [2.6903915405273438, 105.6377944946289, -80.47752380371094, 14.476816177368164, -46.84982681274414, -8.910089492797852, 51.804962158203125, -48.992637634277344, -52.993988037109375, 29.751678466796875, 151.61045837402344, 79.08033752441406, 35.81886291503906, -2.850709915161133, 57.993919372558594, 159.2818603515625, -25.695045471191406, 121.04234313964844, -32.25414276123047, 7.594062328338623, 73.0688247680664, 92.9366455078125, 81.74978637695312, 122.68958282470703, 127.47089385986328, 14.806085586547852, 103.07215881347656, -56.2348747253418, -26.805131912231445, 135.89987182617188, -2.7129158973693848, 101.54293060302734, 160.2755584716797, 8.680323600769043, 1.5787066221237183, 114.3677749633789, 30.956417083740234, 49.62697219848633, 110.81282806396484, -35.329811096191406, 23.80577278137207, 96.17302703857422, 16.15448570251465, 43.09447479248047, 73.30934143066406, 55.676544189453125, 83.40650939941406, 104.80583953857422, 42.9200439453125, -12.105030059814453], \"y\": [31.573877334594727, 17.546897888183594, -15.00088882446289, 53.629817962646484, 13.503267288208008, 44.47754669189453, 38.23904037475586, 105.45578002929688, 124.73839569091797, 109.77088928222656, -24.7012882232666, 60.81889724731445, -2.011988878250122, 16.513412475585938, 43.528316497802734, 21.87793731689453, 63.820472717285156, 45.42278289794922, 58.94524383544922, 83.37445831298828, 119.11316680908203, 12.018074989318848, 38.043033599853516, 48.24647903442383, 20.828020095825195, 1.6184979677200317, 53.88833999633789, 33.14323043823242, 15.940296173095703, -0.6860784888267517, 39.496421813964844, 66.49091339111328, 68.98892211914062, 86.45757293701172, -24.555025100708008, 8.351799964904785, 46.208457946777344, 76.99036407470703, -34.48228454589844, -6.045310974121094, 79.62261199951172, 80.30549621582031, -7.036985874176025, 27.656002044677734, -10.06514835357666, 85.45873260498047, 13.816084861755371, -22.057401657104492, -5.8944783210754395, 131.26608276367188], \"z\": [24.78300666809082, 129.8295440673828, 124.6222915649414, 111.55608367919922, 131.84841918945312, 156.65447998046875, 124.89191436767578, 68.44547271728516, 13.814072608947754, 122.698974609375, 52.5840950012207, 92.71111297607422, 30.430164337158203, 120.68657684326172, 14.533876419067383, 55.65739822387695, 51.41008758544922, 94.08124542236328, 117.07453155517578, 36.3737907409668, 57.154327392578125, 81.17567443847656, 47.496337890625, 45.95308303833008, 2.424311637878418, 73.89860534667969, -32.35136413574219, 88.50523376464844, 49.0607795715332, 91.377685546875, 72.52024841308594, 13.398478507995605, 26.59693717956543, 78.86986541748047, 109.90840148925781, 42.70069122314453, 51.9073600769043, 67.42341613769531, 71.27001190185547, 94.90653991699219, 156.0318145751953, 54.4764404296875, 152.30650329589844, 85.07451629638672, 47.93179702758789, 24.201574325561523, 8.575519561767578, 12.298961639404297, 114.8633804321289, 42.850765228271484]}, {\"customdata\": [[113], [114], [115], [116], [117], [118], [119], [120], [121], [122], [123], [124], [125], [126], [127], [128], [129], [130], [131], [132], [133], [134], [135], [136], [137], [138], [139], [140], [141], [142], [143], [144], [145], [146], [147], [148], [149], [150]], \"hoverlabel\": {\"namelength\": 0}, \"hovertemplate\": \"Cluster=Cluster 2<br>0=%{x}<br>1=%{y}<br>2=%{z}<br>Feature=%{customdata[0]}\", \"legendgroup\": \"Cluster=Cluster 2\", \"marker\": {\"color\": \"#00cc96\", \"opacity\": 0.7, \"symbol\": \"circle\"}, \"mode\": \"markers\", \"name\": \"Cluster=Cluster 2\", \"scene\": \"scene\", \"showlegend\": true, \"type\": \"scatter3d\", \"x\": [-71.53319549560547, -13.842611312866211, 2.0721535682678223, -105.07867431640625, -121.66889190673828, 34.573970794677734, -101.77113342285156, -95.46232604980469, -33.60649108886719, -56.66204071044922, -121.46855163574219, 38.99801254272461, -109.82677459716797, -61.89458465576172, -37.098365783691406, -139.96246337890625, 18.717329025268555, -30.77696990966797, -70.7853012084961, -76.606201171875, -0.7172339558601379, 89.3525619506836, -43.388458251953125, -22.430753707885742, -2.229750871658325, -7.889128684997559, 50.25169372558594, 22.044492721557617, -89.13878631591797, -79.89599609375, -66.78514862060547, -54.24107360839844, -31.6442813873291, -93.6707534790039, -34.184364318847656, -70.1537094116211, -70.23829650878906, -43.43433380126953], \"y\": [-74.90574645996094, -102.3349838256836, -167.30015563964844, -45.25205612182617, -110.8662338256836, 148.6680145263672, -67.4842300415039, -146.59585571289062, -53.81966781616211, -71.35906219482422, -88.13719940185547, -102.85292053222656, -132.11529541015625, -90.28172302246094, -114.62043762207031, -59.70003128051758, -121.15467834472656, -82.26573181152344, -65.22100830078125, -115.54196166992188, -59.54966354370117, 124.74848175048828, -100.06501770019531, -140.59080505371094, -154.8843536376953, -106.68403625488281, 149.11280822753906, -134.24110412597656, -18.687049865722656, -76.54144287109375, 99.382568359375, -33.55363845825195, -172.5518341064453, -101.75713348388672, -136.64308166503906, -126.28829956054688, -41.52806854248047, -80.47064208984375], \"z\": [99.32563018798828, 69.1158447265625, 75.55308532714844, 48.63651657104492, -4.444014072418213, -50.504417419433594, -5.788427829742432, -20.031970977783203, 13.165003776550293, 58.19221496582031, 34.23463821411133, -18.2000732421875, 33.610595703125, -88.20384216308594, -43.19321823120117, -2.4506916999816895, 94.54137420654297, 101.3819351196289, -54.890167236328125, -3.09861159324646, 44.950706481933594, -36.44184494018555, 25.790494918823242, 51.85523223876953, -7.014636039733887, -0.8483553528785706, 3.8929781913757324, 38.99485397338867, 16.525259017944336, 27.826866149902344, 128.22427368164062, 35.647708892822266, 26.66412353515625, 64.96517181396484, 92.55314636230469, 41.20922088623047, -13.962721824645996, -12.742121696472168]}],\n",
       "                        {\"height\": 800, \"legend\": {\"tracegroupgap\": 0}, \"scene\": {\"domain\": {\"x\": [0.0, 1.0], \"y\": [0.0, 1.0]}, \"xaxis\": {\"title\": {\"text\": \"0\"}}, \"yaxis\": {\"title\": {\"text\": \"1\"}}, \"zaxis\": {\"title\": {\"text\": \"2\"}}}, \"template\": {\"data\": {\"bar\": [{\"error_x\": {\"color\": \"#2a3f5f\"}, \"error_y\": {\"color\": \"#2a3f5f\"}, \"marker\": {\"line\": {\"color\": \"#E5ECF6\", \"width\": 0.5}}, \"type\": \"bar\"}], \"barpolar\": [{\"marker\": {\"line\": {\"color\": \"#E5ECF6\", \"width\": 0.5}}, \"type\": \"barpolar\"}], \"carpet\": [{\"aaxis\": {\"endlinecolor\": \"#2a3f5f\", \"gridcolor\": \"white\", \"linecolor\": \"white\", \"minorgridcolor\": \"white\", \"startlinecolor\": \"#2a3f5f\"}, \"baxis\": {\"endlinecolor\": \"#2a3f5f\", \"gridcolor\": \"white\", \"linecolor\": \"white\", \"minorgridcolor\": \"white\", \"startlinecolor\": \"#2a3f5f\"}, \"type\": \"carpet\"}], \"choropleth\": [{\"colorbar\": {\"outlinewidth\": 0, \"ticks\": \"\"}, \"type\": \"choropleth\"}], \"contour\": [{\"colorbar\": {\"outlinewidth\": 0, \"ticks\": \"\"}, \"colorscale\": [[0.0, \"#0d0887\"], [0.1111111111111111, \"#46039f\"], [0.2222222222222222, \"#7201a8\"], [0.3333333333333333, \"#9c179e\"], [0.4444444444444444, \"#bd3786\"], [0.5555555555555556, \"#d8576b\"], [0.6666666666666666, \"#ed7953\"], [0.7777777777777778, \"#fb9f3a\"], [0.8888888888888888, \"#fdca26\"], [1.0, \"#f0f921\"]], \"type\": \"contour\"}], \"contourcarpet\": [{\"colorbar\": {\"outlinewidth\": 0, \"ticks\": \"\"}, \"type\": \"contourcarpet\"}], \"heatmap\": [{\"colorbar\": {\"outlinewidth\": 0, \"ticks\": \"\"}, \"colorscale\": [[0.0, \"#0d0887\"], [0.1111111111111111, \"#46039f\"], [0.2222222222222222, \"#7201a8\"], [0.3333333333333333, \"#9c179e\"], [0.4444444444444444, \"#bd3786\"], [0.5555555555555556, \"#d8576b\"], [0.6666666666666666, \"#ed7953\"], [0.7777777777777778, \"#fb9f3a\"], [0.8888888888888888, \"#fdca26\"], [1.0, \"#f0f921\"]], \"type\": \"heatmap\"}], \"heatmapgl\": [{\"colorbar\": {\"outlinewidth\": 0, \"ticks\": \"\"}, \"colorscale\": [[0.0, \"#0d0887\"], [0.1111111111111111, \"#46039f\"], [0.2222222222222222, \"#7201a8\"], [0.3333333333333333, \"#9c179e\"], [0.4444444444444444, \"#bd3786\"], [0.5555555555555556, \"#d8576b\"], [0.6666666666666666, \"#ed7953\"], [0.7777777777777778, \"#fb9f3a\"], [0.8888888888888888, \"#fdca26\"], [1.0, \"#f0f921\"]], \"type\": \"heatmapgl\"}], \"histogram\": [{\"marker\": {\"colorbar\": {\"outlinewidth\": 0, \"ticks\": \"\"}}, \"type\": \"histogram\"}], \"histogram2d\": [{\"colorbar\": {\"outlinewidth\": 0, \"ticks\": \"\"}, \"colorscale\": [[0.0, \"#0d0887\"], [0.1111111111111111, \"#46039f\"], [0.2222222222222222, \"#7201a8\"], [0.3333333333333333, \"#9c179e\"], [0.4444444444444444, \"#bd3786\"], [0.5555555555555556, \"#d8576b\"], [0.6666666666666666, \"#ed7953\"], [0.7777777777777778, \"#fb9f3a\"], [0.8888888888888888, \"#fdca26\"], [1.0, \"#f0f921\"]], \"type\": \"histogram2d\"}], \"histogram2dcontour\": [{\"colorbar\": {\"outlinewidth\": 0, \"ticks\": \"\"}, \"colorscale\": [[0.0, \"#0d0887\"], [0.1111111111111111, \"#46039f\"], [0.2222222222222222, \"#7201a8\"], [0.3333333333333333, \"#9c179e\"], [0.4444444444444444, \"#bd3786\"], [0.5555555555555556, \"#d8576b\"], [0.6666666666666666, \"#ed7953\"], [0.7777777777777778, \"#fb9f3a\"], [0.8888888888888888, \"#fdca26\"], [1.0, \"#f0f921\"]], \"type\": \"histogram2dcontour\"}], \"mesh3d\": [{\"colorbar\": {\"outlinewidth\": 0, \"ticks\": \"\"}, \"type\": \"mesh3d\"}], \"parcoords\": [{\"line\": {\"colorbar\": {\"outlinewidth\": 0, \"ticks\": \"\"}}, \"type\": \"parcoords\"}], \"pie\": [{\"automargin\": true, \"type\": \"pie\"}], \"scatter\": [{\"marker\": {\"colorbar\": {\"outlinewidth\": 0, \"ticks\": \"\"}}, \"type\": \"scatter\"}], \"scatter3d\": [{\"line\": {\"colorbar\": {\"outlinewidth\": 0, \"ticks\": \"\"}}, \"marker\": {\"colorbar\": {\"outlinewidth\": 0, \"ticks\": \"\"}}, \"type\": \"scatter3d\"}], \"scattercarpet\": [{\"marker\": {\"colorbar\": {\"outlinewidth\": 0, \"ticks\": \"\"}}, \"type\": \"scattercarpet\"}], \"scattergeo\": [{\"marker\": {\"colorbar\": {\"outlinewidth\": 0, \"ticks\": \"\"}}, \"type\": \"scattergeo\"}], \"scattergl\": [{\"marker\": {\"colorbar\": {\"outlinewidth\": 0, \"ticks\": \"\"}}, \"type\": \"scattergl\"}], \"scattermapbox\": [{\"marker\": {\"colorbar\": {\"outlinewidth\": 0, \"ticks\": \"\"}}, \"type\": \"scattermapbox\"}], \"scatterpolar\": [{\"marker\": {\"colorbar\": {\"outlinewidth\": 0, \"ticks\": \"\"}}, \"type\": \"scatterpolar\"}], \"scatterpolargl\": [{\"marker\": {\"colorbar\": {\"outlinewidth\": 0, \"ticks\": \"\"}}, \"type\": \"scatterpolargl\"}], \"scatterternary\": [{\"marker\": {\"colorbar\": {\"outlinewidth\": 0, \"ticks\": \"\"}}, \"type\": \"scatterternary\"}], \"surface\": [{\"colorbar\": {\"outlinewidth\": 0, \"ticks\": \"\"}, \"colorscale\": [[0.0, \"#0d0887\"], [0.1111111111111111, \"#46039f\"], [0.2222222222222222, \"#7201a8\"], [0.3333333333333333, \"#9c179e\"], [0.4444444444444444, \"#bd3786\"], [0.5555555555555556, \"#d8576b\"], [0.6666666666666666, \"#ed7953\"], [0.7777777777777778, \"#fb9f3a\"], [0.8888888888888888, \"#fdca26\"], [1.0, \"#f0f921\"]], \"type\": \"surface\"}], \"table\": [{\"cells\": {\"fill\": {\"color\": \"#EBF0F8\"}, \"line\": {\"color\": \"white\"}}, \"header\": {\"fill\": {\"color\": \"#C8D4E3\"}, \"line\": {\"color\": \"white\"}}, \"type\": \"table\"}]}, \"layout\": {\"annotationdefaults\": {\"arrowcolor\": \"#2a3f5f\", \"arrowhead\": 0, \"arrowwidth\": 1}, \"coloraxis\": {\"colorbar\": {\"outlinewidth\": 0, \"ticks\": \"\"}}, \"colorscale\": {\"diverging\": [[0, \"#8e0152\"], [0.1, \"#c51b7d\"], [0.2, \"#de77ae\"], [0.3, \"#f1b6da\"], [0.4, \"#fde0ef\"], [0.5, \"#f7f7f7\"], [0.6, \"#e6f5d0\"], [0.7, \"#b8e186\"], [0.8, \"#7fbc41\"], [0.9, \"#4d9221\"], [1, \"#276419\"]], \"sequential\": [[0.0, \"#0d0887\"], [0.1111111111111111, \"#46039f\"], [0.2222222222222222, \"#7201a8\"], [0.3333333333333333, \"#9c179e\"], [0.4444444444444444, \"#bd3786\"], [0.5555555555555556, \"#d8576b\"], [0.6666666666666666, \"#ed7953\"], [0.7777777777777778, \"#fb9f3a\"], [0.8888888888888888, \"#fdca26\"], [1.0, \"#f0f921\"]], \"sequentialminus\": [[0.0, \"#0d0887\"], [0.1111111111111111, \"#46039f\"], [0.2222222222222222, \"#7201a8\"], [0.3333333333333333, \"#9c179e\"], [0.4444444444444444, \"#bd3786\"], [0.5555555555555556, \"#d8576b\"], [0.6666666666666666, \"#ed7953\"], [0.7777777777777778, \"#fb9f3a\"], [0.8888888888888888, \"#fdca26\"], [1.0, \"#f0f921\"]]}, \"colorway\": [\"#636efa\", \"#EF553B\", \"#00cc96\", \"#ab63fa\", \"#FFA15A\", \"#19d3f3\", \"#FF6692\", \"#B6E880\", \"#FF97FF\", \"#FECB52\"], \"font\": {\"color\": \"#2a3f5f\"}, \"geo\": {\"bgcolor\": \"white\", \"lakecolor\": \"white\", \"landcolor\": \"#E5ECF6\", \"showlakes\": true, \"showland\": true, \"subunitcolor\": \"white\"}, \"hoverlabel\": {\"align\": \"left\"}, \"hovermode\": \"closest\", \"mapbox\": {\"style\": \"light\"}, \"paper_bgcolor\": \"white\", \"plot_bgcolor\": \"#E5ECF6\", \"polar\": {\"angularaxis\": {\"gridcolor\": \"white\", \"linecolor\": \"white\", \"ticks\": \"\"}, \"bgcolor\": \"#E5ECF6\", \"radialaxis\": {\"gridcolor\": \"white\", \"linecolor\": \"white\", \"ticks\": \"\"}}, \"scene\": {\"xaxis\": {\"backgroundcolor\": \"#E5ECF6\", \"gridcolor\": \"white\", \"gridwidth\": 2, \"linecolor\": \"white\", \"showbackground\": true, \"ticks\": \"\", \"zerolinecolor\": \"white\"}, \"yaxis\": {\"backgroundcolor\": \"#E5ECF6\", \"gridcolor\": \"white\", \"gridwidth\": 2, \"linecolor\": \"white\", \"showbackground\": true, \"ticks\": \"\", \"zerolinecolor\": \"white\"}, \"zaxis\": {\"backgroundcolor\": \"#E5ECF6\", \"gridcolor\": \"white\", \"gridwidth\": 2, \"linecolor\": \"white\", \"showbackground\": true, \"ticks\": \"\", \"zerolinecolor\": \"white\"}}, \"shapedefaults\": {\"line\": {\"color\": \"#2a3f5f\"}}, \"ternary\": {\"aaxis\": {\"gridcolor\": \"white\", \"linecolor\": \"white\", \"ticks\": \"\"}, \"baxis\": {\"gridcolor\": \"white\", \"linecolor\": \"white\", \"ticks\": \"\"}, \"bgcolor\": \"#E5ECF6\", \"caxis\": {\"gridcolor\": \"white\", \"linecolor\": \"white\", \"ticks\": \"\"}}, \"title\": {\"x\": 0.05}, \"xaxis\": {\"automargin\": true, \"gridcolor\": \"white\", \"linecolor\": \"white\", \"ticks\": \"\", \"title\": {\"standoff\": 15}, \"zerolinecolor\": \"white\", \"zerolinewidth\": 2}, \"yaxis\": {\"automargin\": true, \"gridcolor\": \"white\", \"linecolor\": \"white\", \"ticks\": \"\", \"title\": {\"standoff\": 15}, \"zerolinecolor\": \"white\", \"zerolinewidth\": 2}}}, \"title\": {\"text\": \"3d TSNE Plot for Clusters\"}, \"width\": 900},\n",
       "                        {\"responsive\": true}\n",
       "                    ).then(function(){\n",
       "                            \n",
       "var gd = document.getElementById('8f67d024-909f-4850-b456-5efe0b67c492');\n",
       "var x = new MutationObserver(function (mutations, observer) {{\n",
       "        var display = window.getComputedStyle(gd).display;\n",
       "        if (!display || display === 'none') {{\n",
       "            console.log([gd, 'removed!']);\n",
       "            Plotly.purge(gd);\n",
       "            observer.disconnect();\n",
       "        }}\n",
       "}});\n",
       "\n",
       "// Listen for the removal of the full notebook cells\n",
       "var notebookContainer = gd.closest('#notebook-container');\n",
       "if (notebookContainer) {{\n",
       "    x.observe(notebookContainer, {childList: true});\n",
       "}}\n",
       "\n",
       "// Listen for the clearing of the current output cell\n",
       "var outputEl = gd.closest('.output');\n",
       "if (outputEl) {{\n",
       "    x.observe(outputEl, {childList: true});\n",
       "}}\n",
       "\n",
       "                        })\n",
       "                };\n",
       "                });\n",
       "            </script>\n",
       "        </div>"
      ]
     },
     "metadata": {},
     "output_type": "display_data"
    }
   ],
   "source": [
    "plot_model(kmeans1,plot=\"tsne\")"
   ]
  },
  {
   "cell_type": "code",
   "execution_count": null,
   "metadata": {},
   "outputs": [],
   "source": []
  }
 ],
 "metadata": {
  "kernelspec": {
   "display_name": "Python 3",
   "language": "python",
   "name": "python3"
  },
  "language_info": {
   "codemirror_mode": {
    "name": "ipython",
    "version": 3
   },
   "file_extension": ".py",
   "mimetype": "text/x-python",
   "name": "python",
   "nbconvert_exporter": "python",
   "pygments_lexer": "ipython3",
   "version": "3.7.6"
  }
 },
 "nbformat": 4,
 "nbformat_minor": 4
}
